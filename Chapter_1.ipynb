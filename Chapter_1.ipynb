{
 "cells": [
  {
   "cell_type": "code",
   "execution_count": null,
   "id": "6d4bf5d5",
   "metadata": {},
   "outputs": [],
   "source": [
    "# !pip install duckdb"
   ]
  },
  {
   "cell_type": "code",
   "execution_count": null,
   "id": "72a98708",
   "metadata": {},
   "outputs": [],
   "source": [
    "import duckdb\n",
    "\n",
    "# create a connection to a new DuckDB database file\n",
    "conn = duckdb.connect('my_duckdb_database.db')"
   ]
  },
  {
   "cell_type": "code",
   "execution_count": null,
   "id": "9cd9d4da-e14c-4b6e-b2d4-c24d5c89971a",
   "metadata": {},
   "outputs": [],
   "source": [
    "# alternatively, to create an in-memory database:\n",
    "conn = duckdb.connect(':memory:')"
   ]
  },
  {
   "cell_type": "code",
   "execution_count": null,
   "id": "e51dad85",
   "metadata": {},
   "outputs": [],
   "source": [
    "# create a table\n",
    "conn.execute('''\n",
    "  CREATE TABLE employees (\n",
    "    id INTEGER PRIMARY KEY,\n",
    "    name VARCHAR,\n",
    "    age INTEGER,\n",
    "    department VARCHAR\n",
    "  )\n",
    "''')"
   ]
  },
  {
   "cell_type": "code",
   "execution_count": null,
   "id": "1c50794c",
   "metadata": {},
   "outputs": [],
   "source": [
    "conn.execute('SHOW TABLES').df()"
   ]
  },
  {
   "cell_type": "code",
   "execution_count": null,
   "id": "490b93aa",
   "metadata": {},
   "outputs": [],
   "source": [
    "# insert data into the table\n",
    "conn.execute('''\n",
    "  INSERT INTO employees VALUES\n",
    "    (1, 'Alice', 30, 'HR'), \n",
    "    (2, 'Bob', 35, 'Engineering'),\n",
    "    (3, 'Charlie', 28, 'Marketing'),\n",
    "    (4, 'David', 40, 'Engineering')\n",
    "''')"
   ]
  },
  {
   "cell_type": "code",
   "execution_count": null,
   "id": "e1e644ba",
   "metadata": {},
   "outputs": [],
   "source": [
    "conn.execute('''\n",
    "  SELECT * FROM employees\n",
    "''').df()"
   ]
  },
  {
   "cell_type": "code",
   "execution_count": null,
   "id": "18c95096",
   "metadata": {},
   "outputs": [],
   "source": [
    "conn.execute('''\n",
    "  SELECT \n",
    "    department, \n",
    "    COUNT(*) AS employee_count\n",
    "  FROM \n",
    "    employees\n",
    "  GROUP BY \n",
    "    department\n",
    "''').df()"
   ]
  },
  {
   "cell_type": "code",
   "execution_count": null,
   "id": "79f7b3bd",
   "metadata": {},
   "outputs": [],
   "source": [
    "conn.execute('''\n",
    "  SELECT \n",
    "    AVG(age) AS average_age\n",
    "  FROM \n",
    "    employees\n",
    "''').df()"
   ]
  },
  {
   "cell_type": "code",
   "execution_count": null,
   "id": "1a2686b4",
   "metadata": {},
   "outputs": [],
   "source": [
    "conn.execute('''\n",
    "  SELECT \n",
    "    department, \n",
    "    MAX(age) AS oldest_age\n",
    "  FROM \n",
    "    employees\n",
    "  GROUP BY \n",
    "    department\n",
    "''').df()"
   ]
  },
  {
   "cell_type": "code",
   "execution_count": null,
   "id": "81f37bca",
   "metadata": {},
   "outputs": [],
   "source": [
    "conn.execute('''\n",
    "  SELECT \n",
    "    department, \n",
    "    AVG(age) AS average_age\n",
    "  FROM \n",
    "    employees\n",
    "  GROUP BY \n",
    "    department\n",
    "''').df()"
   ]
  },
  {
   "cell_type": "code",
   "execution_count": null,
   "id": "a45db54c",
   "metadata": {},
   "outputs": [],
   "source": [
    "# create an in-memory copy of the database\n",
    "conn = duckdb.connect()\n",
    "\n",
    "# create first table - orders\n",
    "conn.execute('''\n",
    "  CREATE TABLE orders (\n",
    "    order_id INTEGER, \n",
    "    customer_id INTEGER, \n",
    "    amount FLOAT)\n",
    "  ''')\n",
    "\n",
    "# add some records to the orders table\n",
    "conn.execute('''\n",
    "  INSERT INTO orders \n",
    "  VALUES (1, 1, 100.0), \n",
    "         (2, 2, 200.0), \n",
    "         (3, 1, 150.0)\n",
    "''')\n",
    "\n",
    "# create second table - customers\n",
    "conn.execute('''\n",
    "  CREATE TABLE customers (\n",
    "    customer_id INTEGER, \n",
    "    name VARCHAR)\n",
    "''')\n",
    "\n",
    "conn.execute('''\n",
    "  INSERT INTO customers \n",
    "  VALUES (1, 'Alice'), \n",
    "         (2, 'Bob')\n",
    "''')\n"
   ]
  },
  {
   "cell_type": "code",
   "execution_count": null,
   "id": "24581547",
   "metadata": {},
   "outputs": [],
   "source": [
    "display(conn.execute('''\n",
    "  SELECT * FROM orders\n",
    "''').df()\n",
    ")\n",
    "display(conn.execute('''\n",
    "  SELECT * FROM customers\n",
    "''').df()\n",
    ")"
   ]
  },
  {
   "cell_type": "code",
   "execution_count": null,
   "id": "7fb51569",
   "metadata": {},
   "outputs": [],
   "source": [
    "# join the two tables\n",
    "conn.execute('''\n",
    "  SELECT \n",
    "    customers.customer_id, \n",
    "    customers.name, \n",
    "    orders.amount,\n",
    "  FROM \n",
    "    orders\n",
    "  JOIN \n",
    "    customers \n",
    "  ON \n",
    "    orders.customer_id = customers.customer_id\n",
    "  ORDER by customers.customer_id\n",
    "''').df()\n"
   ]
  },
  {
   "cell_type": "code",
   "execution_count": null,
   "id": "736b2ef8",
   "metadata": {},
   "outputs": [],
   "source": [
    "# join the two tables\n",
    "conn.execute('''\n",
    "  SELECT \n",
    "    customers.customer_id, \n",
    "    customers.name, \n",
    "    SUM(orders.amount) as total_spent\n",
    "  FROM \n",
    "    orders\n",
    "  JOIN \n",
    "    customers \n",
    "  ON \n",
    "    orders.customer_id = customers.customer_id\n",
    "  GROUP BY \n",
    "    customers.customer_id, \n",
    "    customers.name\n",
    "  ORDER by \n",
    "    customers.customer_id\n",
    "''').df()"
   ]
  },
  {
   "cell_type": "code",
   "execution_count": null,
   "id": "9f5d04bd-3c9c-4867-9496-e5e84b5c1d83",
   "metadata": {},
   "outputs": [],
   "source": [
    "import pandas as pd\n",
    "\n",
    "# Employee DataFrame\n",
    "employees = pd.DataFrame({\n",
    "    'employee_id': [1, 2, 3, 4],\n",
    "    'name': ['Alice', 'Bob', 'Charlie', 'David'],\n",
    "    'age': [30, 35, 28, 40],\n",
    "    'department': ['HR', 'Engineering', 'Marketing', 'Engineering']\n",
    "})\n",
    "\n",
    "# Sales DataFrame\n",
    "sales = pd.DataFrame({\n",
    "    'sale_id': [101, 102, 103, 104, 105],\n",
    "    'employee_id': [1, 2, 1, 3, 4],\n",
    "    'sale_amount': [200, 500, 150, 300, 700],\n",
    "    'sale_date': ['2023-01-01', '2023-01-03', '2023-01-04', '2023-01-05', '2023-01-07']\n",
    "})\n",
    "display(employees)\n",
    "display(sales)"
   ]
  },
  {
   "cell_type": "code",
   "execution_count": null,
   "id": "d5ab57fc-a6ee-4091-a80e-c9920a3842cd",
   "metadata": {},
   "outputs": [],
   "source": [
    "# create an in-memory copy of the database using DuckDB\n",
    "conn = duckdb.connect()\n",
    "# join the dataframes, group by department, and perform aggregations\n",
    "query = '''\n",
    "  SELECT\n",
    "    e.department,\n",
    "    SUM(s.sale_amount) AS total_sales,\n",
    "    AVG(s.sale_amount) AS average_sale_per_employee,\n",
    "    COUNT(DISTINCT e.employee_id) AS number_of_employees\n",
    "  FROM\n",
    "    employees e\n",
    "  LEFT JOIN\n",
    "    sales s ON e.employee_id = s.employee_id\n",
    "  GROUP BY\n",
    "    e.department\n",
    "'''\n",
    "conn.execute(query).df()"
   ]
  },
  {
   "cell_type": "code",
   "execution_count": null,
   "id": "2cc4a262-c095-4149-a1e7-43f086715614",
   "metadata": {},
   "outputs": [],
   "source": [
    "query = '''\n",
    "  SELECT\n",
    "    e.department,\n",
    "    e.name AS top_employee,\n",
    "    MAX(s.sale_amount) AS top_sale_amount\n",
    "  FROM\n",
    "    employees e\n",
    "  LEFT JOIN\n",
    "    sales s ON e.employee_id = s.employee_id\n",
    "  GROUP BY\n",
    "    e.department,\n",
    "    e.name\n",
    "  ORDER BY\n",
    "    top_sale_amount DESC\n",
    "'''\n",
    "conn.execute(query).df()"
   ]
  },
  {
   "cell_type": "code",
   "execution_count": null,
   "id": "44b0ab0f-ba85-4a4d-8b4c-3e67f2e39556",
   "metadata": {},
   "outputs": [],
   "source": [
    "import pandas as pd\n",
    "\n",
    "# load the CSV file and time it\n",
    "%timeit df = pd.read_csv('flights.csv')"
   ]
  },
  {
   "cell_type": "code",
   "execution_count": null,
   "id": "9b20719a-ef6e-4489-9594-0d8101d382da",
   "metadata": {},
   "outputs": [],
   "source": [
    "df = pd.read_csv('flights.csv')\n",
    "%timeit df.groupby('AIRLINE')['ARRIVAL_DELAY'].mean().reset_index()"
   ]
  },
  {
   "cell_type": "code",
   "execution_count": null,
   "id": "24f72c97-a621-47a5-b369-0c51fc9b3d3d",
   "metadata": {},
   "outputs": [],
   "source": [
    "df.groupby('AIRLINE')['ARRIVAL_DELAY'].mean().reset_index()"
   ]
  },
  {
   "cell_type": "code",
   "execution_count": null,
   "id": "2927ef4f-535f-493d-a57c-241aced9afe0",
   "metadata": {},
   "outputs": [],
   "source": [
    "import duckdb\n",
    "\n",
    "conn = duckdb.connect()\n",
    "query = '''\n",
    "  SELECT\n",
    "    AIRLINE,\n",
    "    AVG(ARRIVAL_DELAY) AS MEAN_ARRIVAL_DELAY\n",
    "  FROM\n",
    "    read_csv_auto('flights.csv')\n",
    "  GROUP BY\n",
    "    AIRLINE\n",
    "    ORDER BY\n",
    "    AIRLINE;\n",
    "'''\n",
    "%timeit df = conn.execute(query).df()"
   ]
  },
  {
   "cell_type": "code",
   "execution_count": null,
   "id": "012040e4-b13d-410d-a555-49ba46eea522",
   "metadata": {},
   "outputs": [],
   "source": [
    "import psutil\n",
    "\n",
    "def memory_usage():\n",
    "    process = psutil.Process()\n",
    "    return process.memory_info().rss / (1024 ** 2) # convert bytes to MB"
   ]
  },
  {
   "cell_type": "code",
   "execution_count": null,
   "id": "5e516e71-69b0-47ba-b10e-ffdf9548e80d",
   "metadata": {},
   "outputs": [],
   "source": [
    "import pandas as pd\n",
    "\n",
    "# measure memory before query execution\n",
    "memory_before = memory_usage()\n",
    "print(f\"Memory used before query: {memory_before:.2f} MB\")\n",
    "\n",
    "# load the CSV file\n",
    "df = pd.read_csv('flights.csv')\n",
    "\n",
    "# measure memory after query execution\n",
    "memory_after = memory_usage()\n",
    "\n",
    "print(f\"Memory used after query: {memory_after:.2f} MB\")"
   ]
  },
  {
   "cell_type": "code",
   "execution_count": null,
   "id": "64768079-f4b8-4dc5-b355-cf160613185e",
   "metadata": {},
   "outputs": [],
   "source": [
    "df"
   ]
  },
  {
   "cell_type": "code",
   "execution_count": null,
   "id": "50c0c9de-381e-4543-8994-2f8236cd6c5d",
   "metadata": {},
   "outputs": [],
   "source": [
    "import duckdb\n",
    "conn = duckdb.connect()\n",
    "query = '''\n",
    "  SELECT\n",
    "    AIRLINE,\n",
    "    AVG(ARRIVAL_DELAY) AS MEAN_ARRIVAL_DELAY\n",
    "  FROM\n",
    "    read_csv_auto('flights.csv')\n",
    "  GROUP BY\n",
    "    AIRLINE\n",
    "    ORDER BY\n",
    "    AIRLINE;\n",
    "'''\n",
    "# measure memory before query execution\n",
    "memory_before = memory_usage()\n",
    "print(f\"Memory used before query: {memory_before:.2f} MB\")\n",
    "\n",
    "# run the query\n",
    "df = conn.execute(query).df()\n",
    "\n",
    "# measure memory after query execution\n",
    "memory_after = memory_usage()\n",
    "print(f\"Memory used after query: {memory_after:.2f} MB\")"
   ]
  },
  {
   "cell_type": "code",
   "execution_count": null,
   "id": "aebd2e2e",
   "metadata": {},
   "outputs": [],
   "source": []
  }
 ],
 "metadata": {
  "kernelspec": {
   "display_name": "Python 3 (ipykernel)",
   "language": "python",
   "name": "python3"
  },
  "language_info": {
   "codemirror_mode": {
    "name": "ipython",
    "version": 3
   },
   "file_extension": ".py",
   "mimetype": "text/x-python",
   "name": "python",
   "nbconvert_exporter": "python",
   "pygments_lexer": "ipython3",
   "version": "3.12.2"
  }
 },
 "nbformat": 4,
 "nbformat_minor": 5
}
