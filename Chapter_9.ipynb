{
 "cells": [
  {
   "cell_type": "markdown",
   "id": "d8b16d1f",
   "metadata": {},
   "source": [
    "# Chapter 9. Using DuckDB in the cloud with MotherDuck"
   ]
  },
  {
   "cell_type": "markdown",
   "id": "9ae5ab9a",
   "metadata": {},
   "source": [
    "## Getting Started with MotherDuck"
   ]
  },
  {
   "cell_type": "markdown",
   "id": "e7e2d488",
   "metadata": {},
   "source": [
    "### Adding Tables"
   ]
  },
  {
   "cell_type": "code",
   "execution_count": null,
   "id": "5303843d",
   "metadata": {
    "vscode": {
     "languageId": "sql"
    }
   },
   "outputs": [],
   "source": [
    "CREATE OR REPLACE TABLE my_db.main.airlines AS SELECT * FROM read_csv_auto(['airlines.csv']);\n",
    "-- If you don't see the newly created table, refresh the page"
   ]
  },
  {
   "cell_type": "code",
   "execution_count": null,
   "id": "39881a03",
   "metadata": {
    "vscode": {
     "languageId": "sql"
    }
   },
   "outputs": [],
   "source": [
    "DROP TABLE IF EXISTS my_db.main.airlines;"
   ]
  },
  {
   "cell_type": "markdown",
   "id": "6a548d07",
   "metadata": {},
   "source": [
    "### Creating Schemas"
   ]
  },
  {
   "cell_type": "code",
   "execution_count": null,
   "id": "a8e79ffd",
   "metadata": {
    "vscode": {
     "languageId": "sql"
    }
   },
   "outputs": [],
   "source": [
    "CREATE OR REPLACE SCHEMA my_db.Titanic;"
   ]
  },
  {
   "cell_type": "code",
   "execution_count": null,
   "id": "13a28eb9",
   "metadata": {
    "vscode": {
     "languageId": "sql"
    }
   },
   "outputs": [],
   "source": [
    "CREATE OR REPLACE TABLE my_db.Titanic.Titanic_train AS SELECT * FROM read_csv_auto(['titanic.csv']);\n",
    "-- If you don't see the newly created table, refresh the page"
   ]
  },
  {
   "cell_type": "code",
   "execution_count": null,
   "id": "dea4c4b7",
   "metadata": {
    "vscode": {
     "languageId": "sql"
    }
   },
   "outputs": [],
   "source": [
    "-- delete the schema, along with databases contained within it\n",
    "DROP SCHEMA IF EXISTS my_db.Titanic CASCADE;\n"
   ]
  },
  {
   "cell_type": "markdown",
   "id": "254be136",
   "metadata": {},
   "source": [
    "### Sharing Databases"
   ]
  },
  {
   "cell_type": "code",
   "execution_count": null,
   "id": "ab5e9c51",
   "metadata": {
    "vscode": {
     "languageId": "sql"
    }
   },
   "outputs": [],
   "source": [
    "-- Run this snippet to attach the database\n",
    "ATTACH './md:_share/my_db_GGG/74c9d8c0-d8ed-4fbf-a7b7-2e728ac150af';"
   ]
  },
  {
   "cell_type": "code",
   "execution_count": null,
   "id": "63b82754",
   "metadata": {
    "vscode": {
     "languageId": "sql"
    }
   },
   "outputs": [],
   "source": [
    "UPDATE SHARE my_db_WeiMengLee;"
   ]
  },
  {
   "cell_type": "code",
   "execution_count": null,
   "id": "eac148dd",
   "metadata": {
    "vscode": {
     "languageId": "sql"
    }
   },
   "outputs": [],
   "source": [
    "LIST SHARES;"
   ]
  },
  {
   "cell_type": "markdown",
   "id": "4eb0fc5a",
   "metadata": {},
   "source": [
    "### Creating a Database"
   ]
  },
  {
   "cell_type": "code",
   "execution_count": null,
   "id": "c4f00022",
   "metadata": {
    "vscode": {
     "languageId": "sql"
    }
   },
   "outputs": [],
   "source": [
    "CREATE DATABASE flights_db;"
   ]
  },
  {
   "cell_type": "code",
   "execution_count": null,
   "id": "03263f6d",
   "metadata": {
    "vscode": {
     "languageId": "sql"
    }
   },
   "outputs": [],
   "source": [
    "USE flights_db;"
   ]
  },
  {
   "cell_type": "markdown",
   "id": "592f0401",
   "metadata": {},
   "source": [
    "### Detaching a Database"
   ]
  },
  {
   "cell_type": "code",
   "execution_count": null,
   "id": "f9ade63d",
   "metadata": {
    "vscode": {
     "languageId": "sql"
    }
   },
   "outputs": [],
   "source": [
    "DETACH flights_db;"
   ]
  },
  {
   "cell_type": "markdown",
   "id": "e251f58c",
   "metadata": {},
   "source": [
    "### Using the Databases in MotherDuck"
   ]
  },
  {
   "cell_type": "markdown",
   "id": "1455411c",
   "metadata": {},
   "source": [
    "#### Querying Your Database"
   ]
  },
  {
   "cell_type": "code",
   "execution_count": null,
   "id": "0b2c2a78",
   "metadata": {
    "vscode": {
     "languageId": "sql"
    }
   },
   "outputs": [],
   "source": [
    "SELECT\n",
    "    Survived, PClass, Sex, Age\n",
    "FROM my_db.Titanic.titanic_train\n",
    "WHERE age NOT NULL AND embarked NOT NULL;"
   ]
  },
  {
   "cell_type": "markdown",
   "id": "54ad9964",
   "metadata": {},
   "source": [
    "### Writing SQL using AI\n",
    "| Function/pragma | What it does |\n",
    "|-----------------|--------------------------------------|\n",
    "|prompt_sql()|A function to generate a SQL statement for your query|\n",
    "|prompt_query|A pragma to answer questions about your data|\n",
    "|prompt_fixup()|A function to correct and fix your SQL query|\n",
    "|prompt_fix_line()|A function to correct and fix your SQL query line-by-line|\n",
    "|prompt_schema()|A function to help you understand the contents of a database|\n",
    "|prompt_explain()|A function to help you understand a SQL query|"
   ]
  },
  {
   "cell_type": "code",
   "execution_count": null,
   "id": "08c39bb8",
   "metadata": {
    "vscode": {
     "languageId": "sql"
    }
   },
   "outputs": [],
   "source": [
    "USE my_db;\n",
    "CALL prompt_sql(\"How many people who were alone survived\");"
   ]
  },
  {
   "cell_type": "code",
   "execution_count": null,
   "id": "90babfd5",
   "metadata": {
    "vscode": {
     "languageId": "sql"
    }
   },
   "outputs": [],
   "source": [
    "SELECT COUNT(*) FROM Titanic.titanic_train WHERE SibSp = 0 AND Parch = 0 AND Survived = 1;"
   ]
  },
  {
   "cell_type": "code",
   "execution_count": null,
   "id": "6652edbf",
   "metadata": {
    "vscode": {
     "languageId": "sql"
    }
   },
   "outputs": [],
   "source": [
    "CALL prompt_sql(\"Calculate the survival chance for each age group\")"
   ]
  },
  {
   "cell_type": "code",
   "execution_count": null,
   "id": "13c1f94e",
   "metadata": {
    "vscode": {
     "languageId": "sql"
    }
   },
   "outputs": [],
   "source": [
    "SELECT\n",
    "    CASE\n",
    "        WHEN Age < 10 THEN '0-9'\n",
    "        WHEN Age BETWEEN 10 and 19 THEN '10-19'\n",
    "        WHEN Age BETWEEN 20 and 29 THEN '20-29'\n",
    "        WHEN Age BETWEEN 30 and 39 THEN '30-39'\n",
    "        WHEN Age BETWEEN 40 and 49 THEN '40-49'\n",
    "        WHEN Age BETWEEN 50 and 59 THEN '50-59'\n",
    "        WHEN Age BETWEEN 60 and 69 THEN '60-69'\n",
    "        WHEN Age >= 70 THEN '70+'\n",
    "        ELSE 'Unknown'\n",
    "    END AS age_group,\n",
    "    AVG(Survived) * 100 AS survival_chance\n",
    "FROM Titanic.Titanic_train\n",
    "GROUP BY age_group\n",
    "ORDER BY age_group;"
   ]
  },
  {
   "cell_type": "code",
   "execution_count": null,
   "id": "ec2dbbef",
   "metadata": {
    "vscode": {
     "languageId": "sql"
    }
   },
   "outputs": [],
   "source": [
    "PRAGMA prompt_query('How many airlines are there?')"
   ]
  },
  {
   "cell_type": "code",
   "execution_count": null,
   "id": "c52b1c14",
   "metadata": {
    "vscode": {
     "languageId": "sql"
    }
   },
   "outputs": [],
   "source": [
    "CALL prompt_explain(\"\"\"\n",
    "SELECT\n",
    "    CASE\n",
    "        WHEN Age < 10 THEN '0-9'\n",
    "        WHEN Age BETWEEN 10 and 19 THEN '10-19'\n",
    "        WHEN Age BETWEEN 20 and 29 THEN '20-29'\n",
    "        WHEN Age BETWEEN 30 and 39 THEN '30-39'\n",
    "        WHEN Age BETWEEN 40 and 49 THEN '40-49'\n",
    "        WHEN Age BETWEEN 50 and 59 THEN '50-59'\n",
    "        WHEN Age BETWEEN 60 and 69 THEN '60-69'\n",
    "        WHEN Age >= 70 THEN '70+'\n",
    "        ELSE 'Unknown'\n",
    "    END AS age_group,\n",
    "    AVG(Survived) * 100 AS survival_chance\n",
    "FROM Titanic.Titanic_train\n",
    "GROUP BY age_group\n",
    "ORDER BY age_group;\n",
    "\"\"\")"
   ]
  },
  {
   "cell_type": "markdown",
   "id": "490beef6",
   "metadata": {},
   "source": [
    "## Using MotherDuck Through the DuckDB CLI"
   ]
  },
  {
   "cell_type": "markdown",
   "id": "01f652d5",
   "metadata": {},
   "source": [
    "### Connecting to MotherDuck"
   ]
  },
  {
   "cell_type": "code",
   "execution_count": null,
   "id": "47e4fd46",
   "metadata": {
    "vscode": {
     "languageId": "sql"
    }
   },
   "outputs": [],
   "source": [
    "duckdb"
   ]
  },
  {
   "cell_type": "code",
   "execution_count": null,
   "id": "b7fb9e56",
   "metadata": {
    "vscode": {
     "languageId": "sql"
    }
   },
   "outputs": [],
   "source": [
    "ATTACH 'md:';"
   ]
  },
  {
   "cell_type": "code",
   "execution_count": null,
   "id": "b21e46ec",
   "metadata": {
    "vscode": {
     "languageId": "sql"
    }
   },
   "outputs": [],
   "source": [
    "SHOW databases;"
   ]
  },
  {
   "cell_type": "code",
   "execution_count": null,
   "id": "fc262e2f",
   "metadata": {
    "vscode": {
     "languageId": "sql"
    }
   },
   "outputs": [],
   "source": [
    "SELECT current_database();"
   ]
  },
  {
   "cell_type": "code",
   "execution_count": null,
   "id": "72646ea0",
   "metadata": {
    "vscode": {
     "languageId": "sql"
    }
   },
   "outputs": [],
   "source": [
    "SELECT current_schema();"
   ]
  },
  {
   "cell_type": "code",
   "execution_count": null,
   "id": "b1ac287d",
   "metadata": {
    "vscode": {
     "languageId": "sql"
    }
   },
   "outputs": [],
   "source": [
    "SELECT\n",
    "    Survived, PClass, Sex, Age\n",
    "FROM my_db.Titanic.titanic_train\n",
    "WHERE age NOT NULL AND embarked NOT NULL;"
   ]
  },
  {
   "cell_type": "code",
   "execution_count": null,
   "id": "331fca4d",
   "metadata": {
    "vscode": {
     "languageId": "sql"
    }
   },
   "outputs": [],
   "source": [
    "USE my_db.Titanic;"
   ]
  },
  {
   "cell_type": "code",
   "execution_count": null,
   "id": "951d0ef6",
   "metadata": {
    "vscode": {
     "languageId": "sql"
    }
   },
   "outputs": [],
   "source": [
    "SELECT current_database();"
   ]
  },
  {
   "cell_type": "code",
   "execution_count": null,
   "id": "20aa4d4f",
   "metadata": {
    "vscode": {
     "languageId": "sql"
    }
   },
   "outputs": [],
   "source": [
    "SELECT current_schema();"
   ]
  },
  {
   "cell_type": "code",
   "execution_count": null,
   "id": "769792ec",
   "metadata": {
    "vscode": {
     "languageId": "sql"
    }
   },
   "outputs": [],
   "source": [
    "SELECT count(*) FROM titanic_train;"
   ]
  },
  {
   "cell_type": "markdown",
   "id": "255d1603",
   "metadata": {},
   "source": [
    "### Creating Databases on MotherDuck"
   ]
  },
  {
   "cell_type": "code",
   "execution_count": null,
   "id": "ad402919",
   "metadata": {
    "vscode": {
     "languageId": "sql"
    }
   },
   "outputs": [],
   "source": [
    "CREATE OR REPLACE TABLE my_db.main.airports AS SELECT * FROM read_csv_auto(['./datasets/flights/airports.csv']);"
   ]
  },
  {
   "cell_type": "code",
   "execution_count": null,
   "id": "998eecd3",
   "metadata": {
    "vscode": {
     "languageId": "sql"
    }
   },
   "outputs": [],
   "source": [
    "CREATE DATABASE new_db;\n",
    "use new_db;\n",
    "CREATE SCHEMA new_schema;\n",
    "USE new_schema;\n",
    "CREATE TABLE new_schema.example_table (id INTEGER, name VARCHAR);\n",
    "INSERT INTO new_schema.example_table VALUES (1, 'Alice'), (2, 'Bob');\n",
    "SELECT * FROM new_schema.example_table;"
   ]
  },
  {
   "cell_type": "markdown",
   "id": "17cfa08a",
   "metadata": {},
   "source": [
    "### Performing Hybrid Queries"
   ]
  },
  {
   "cell_type": "code",
   "execution_count": null,
   "id": "25a8998b",
   "metadata": {
    "vscode": {
     "languageId": "sql"
    }
   },
   "outputs": [],
   "source": [
    "SELECT * from my_db.main.airlines;"
   ]
  },
  {
   "cell_type": "code",
   "execution_count": null,
   "id": "551e3475",
   "metadata": {
    "vscode": {
     "languageId": "sql"
    }
   },
   "outputs": [],
   "source": [
    "SELECT AIRLINE, FLIGHT_NUMBER FROM './datasets/flights/flights.csv' LIMIT 10;"
   ]
  },
  {
   "cell_type": "code",
   "execution_count": null,
   "id": "dff2fa01",
   "metadata": {
    "vscode": {
     "languageId": "sql"
    }
   },
   "outputs": [],
   "source": [
    "SELECT f.AIRLINE, f.FLIGHT_NUMBER, a.AIRLINE\n",
    "    FROM (SELECT AIRLINE, FLIGHT_NUMBER FROM './datasets/flights/flights.csv' LIMIT 10) AS f\n",
    "    JOIN my_db.main.airlines a ON f.AIRLINE = a.IATA_CODE;"
   ]
  }
 ],
 "metadata": {
  "language_info": {
   "name": "python"
  }
 },
 "nbformat": 4,
 "nbformat_minor": 5
}
