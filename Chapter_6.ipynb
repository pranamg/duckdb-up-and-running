{
 "cells": [
  {
   "cell_type": "markdown",
   "id": "eab3ae34",
   "metadata": {},
   "source": [
    "# Chapter 6. Using DuckDB with JSON Files"
   ]
  },
  {
   "cell_type": "markdown",
   "id": "052e5de8",
   "metadata": {},
   "source": [
    "JSON supports the following data types:\n",
    "- Object\n",
    "- String\n",
    "- Boolean\n",
    "- Number\n",
    "- Array\n",
    "- null"
   ]
  },
  {
   "cell_type": "markdown",
   "id": "23696d7f",
   "metadata": {},
   "source": [
    "## Loading JSON Files into DuckDB"
   ]
  },
  {
   "cell_type": "markdown",
   "id": "3b3aa4b7",
   "metadata": {},
   "source": [
    "### Using read_json_auto() Function"
   ]
  },
  {
   "cell_type": "code",
   "execution_count": 1,
   "id": "ebc34bf5-f342-4d1d-88c3-e71d59cf45ee",
   "metadata": {},
   "outputs": [
    {
     "data": {
      "text/html": [
       "<div>\n",
       "<style scoped>\n",
       "    .dataframe tbody tr th:only-of-type {\n",
       "        vertical-align: middle;\n",
       "    }\n",
       "\n",
       "    .dataframe tbody tr th {\n",
       "        vertical-align: top;\n",
       "    }\n",
       "\n",
       "    .dataframe thead th {\n",
       "        text-align: right;\n",
       "    }\n",
       "</style>\n",
       "<table border=\"1\" class=\"dataframe\">\n",
       "  <thead>\n",
       "    <tr style=\"text-align: right;\">\n",
       "      <th></th>\n",
       "      <th>id</th>\n",
       "      <th>name</th>\n",
       "      <th>address</th>\n",
       "      <th>email</th>\n",
       "      <th>weight</th>\n",
       "    </tr>\n",
       "  </thead>\n",
       "  <tbody>\n",
       "    <tr>\n",
       "      <th>0</th>\n",
       "      <td>1</td>\n",
       "      <td>Sarah Johnson</td>\n",
       "      <td>4321 Oak Street Apartment 304 Los Angeles, CA ...</td>\n",
       "      <td>sarah_johnson478@gmail.com</td>\n",
       "      <td>140.5</td>\n",
       "    </tr>\n",
       "    <tr>\n",
       "      <th>1</th>\n",
       "      <td>2</td>\n",
       "      <td>David Martinez</td>\n",
       "      <td>789 Maple Avenue Suite 102 New York, NY 10001</td>\n",
       "      <td>david_martinez431@gmail.com</td>\n",
       "      <td>155.0</td>\n",
       "    </tr>\n",
       "    <tr>\n",
       "      <th>2</th>\n",
       "      <td>3</td>\n",
       "      <td>Emily Wilson</td>\n",
       "      <td>567 Pine Road Unit 5B Chicago, IL 60601</td>\n",
       "      <td>emily_wilson998@gmail.com</td>\n",
       "      <td>200.1</td>\n",
       "    </tr>\n",
       "  </tbody>\n",
       "</table>\n",
       "</div>"
      ],
      "text/plain": [
       "   id            name                                            address  \\\n",
       "0   1   Sarah Johnson  4321 Oak Street Apartment 304 Los Angeles, CA ...   \n",
       "1   2  David Martinez      789 Maple Avenue Suite 102 New York, NY 10001   \n",
       "2   3    Emily Wilson            567 Pine Road Unit 5B Chicago, IL 60601   \n",
       "\n",
       "                         email  weight  \n",
       "0   sarah_johnson478@gmail.com   140.5  \n",
       "1  david_martinez431@gmail.com   155.0  \n",
       "2    emily_wilson998@gmail.com   200.1  "
      ]
     },
     "execution_count": 1,
     "metadata": {},
     "output_type": "execute_result"
    }
   ],
   "source": [
    "import duckdb\n",
    "\n",
    "conn = duckdb.connect()\n",
    "conn.execute('''\n",
    "  SELECT \n",
    "  *\n",
    "  FROM read_json_auto('./datasets/json1.json')\n",
    "''').df()"
   ]
  },
  {
   "cell_type": "code",
   "execution_count": 4,
   "id": "2e91bd6f-1b0f-4d10-9401-74ad34bc0bd1",
   "metadata": {},
   "outputs": [
    {
     "data": {
      "text/plain": [
       "<duckdb.duckdb.DuckDBPyConnection at 0x7e4efc3679f0>"
      ]
     },
     "execution_count": 4,
     "metadata": {},
     "output_type": "execute_result"
    }
   ],
   "source": [
    "conn.execute('''\n",
    "  CREATE TABLE People\n",
    "  as\n",
    "  FROM './datasets/json1.json'\n",
    "''')"
   ]
  },
  {
   "cell_type": "code",
   "execution_count": 5,
   "id": "29ee78ce-80dc-4674-b87e-bfc5280601d0",
   "metadata": {},
   "outputs": [
    {
     "data": {
      "text/html": [
       "<div>\n",
       "<style scoped>\n",
       "    .dataframe tbody tr th:only-of-type {\n",
       "        vertical-align: middle;\n",
       "    }\n",
       "\n",
       "    .dataframe tbody tr th {\n",
       "        vertical-align: top;\n",
       "    }\n",
       "\n",
       "    .dataframe thead th {\n",
       "        text-align: right;\n",
       "    }\n",
       "</style>\n",
       "<table border=\"1\" class=\"dataframe\">\n",
       "  <thead>\n",
       "    <tr style=\"text-align: right;\">\n",
       "      <th></th>\n",
       "      <th>json</th>\n",
       "    </tr>\n",
       "  </thead>\n",
       "  <tbody>\n",
       "    <tr>\n",
       "      <th>0</th>\n",
       "      <td>{'id': 1, 'name': 'Sarah Johnson', 'address': ...</td>\n",
       "    </tr>\n",
       "    <tr>\n",
       "      <th>1</th>\n",
       "      <td>{'id': 2, 'name': 'David Martinez', 'address':...</td>\n",
       "    </tr>\n",
       "    <tr>\n",
       "      <th>2</th>\n",
       "      <td>{'id': 3, 'name': 'Emily Wilson', 'address': '...</td>\n",
       "    </tr>\n",
       "  </tbody>\n",
       "</table>\n",
       "</div>"
      ],
      "text/plain": [
       "                                                json\n",
       "0  {'id': 1, 'name': 'Sarah Johnson', 'address': ...\n",
       "1  {'id': 2, 'name': 'David Martinez', 'address':...\n",
       "2  {'id': 3, 'name': 'Emily Wilson', 'address': '..."
      ]
     },
     "execution_count": 5,
     "metadata": {},
     "output_type": "execute_result"
    }
   ],
   "source": [
    "conn.execute('''\n",
    "  SELECT \n",
    "  *\n",
    "  FROM read_json_auto('./datasets/json1.json', records = false)\n",
    "''').df()"
   ]
  },
  {
   "cell_type": "code",
   "execution_count": 6,
   "id": "e89c8ae6-d056-497e-a324-729547610853",
   "metadata": {},
   "outputs": [
    {
     "data": {
      "text/html": [
       "<div>\n",
       "<style scoped>\n",
       "    .dataframe tbody tr th:only-of-type {\n",
       "        vertical-align: middle;\n",
       "    }\n",
       "\n",
       "    .dataframe tbody tr th {\n",
       "        vertical-align: top;\n",
       "    }\n",
       "\n",
       "    .dataframe thead th {\n",
       "        text-align: right;\n",
       "    }\n",
       "</style>\n",
       "<table border=\"1\" class=\"dataframe\">\n",
       "  <thead>\n",
       "    <tr style=\"text-align: right;\">\n",
       "      <th></th>\n",
       "      <th>name</th>\n",
       "      <th>email</th>\n",
       "    </tr>\n",
       "  </thead>\n",
       "  <tbody>\n",
       "    <tr>\n",
       "      <th>0</th>\n",
       "      <td>Sarah Johnson</td>\n",
       "      <td>sarah_johnson478@gmail.com</td>\n",
       "    </tr>\n",
       "    <tr>\n",
       "      <th>1</th>\n",
       "      <td>David Martinez</td>\n",
       "      <td>david_martinez431@gmail.com</td>\n",
       "    </tr>\n",
       "    <tr>\n",
       "      <th>2</th>\n",
       "      <td>Emily Wilson</td>\n",
       "      <td>emily_wilson998@gmail.com</td>\n",
       "    </tr>\n",
       "  </tbody>\n",
       "</table>\n",
       "</div>"
      ],
      "text/plain": [
       "             name                        email\n",
       "0   Sarah Johnson   sarah_johnson478@gmail.com\n",
       "1  David Martinez  david_martinez431@gmail.com\n",
       "2    Emily Wilson    emily_wilson998@gmail.com"
      ]
     },
     "execution_count": 6,
     "metadata": {},
     "output_type": "execute_result"
    }
   ],
   "source": [
    "conn.execute('''\n",
    "  SELECT\n",
    "    name, email\n",
    "  FROM read_json_auto('./datasets/json1.json')\n",
    "''').df()"
   ]
  },
  {
   "cell_type": "markdown",
   "id": "0ec6dafd",
   "metadata": {},
   "source": [
    "### Using the read_json() Function"
   ]
  },
  {
   "cell_type": "markdown",
   "id": "f8a60b21",
   "metadata": {},
   "source": [
    "#### Array of JSON Objects"
   ]
  },
  {
   "cell_type": "code",
   "execution_count": null,
   "id": "81d38749-0dc0-4930-86c1-c04120b04b8f",
   "metadata": {},
   "outputs": [],
   "source": [
    "conn.execute('''\n",
    "  SELECT \n",
    "    *\n",
    "  FROM read_json('./datasets/json1.json',\n",
    "                 format = 'auto',\n",
    "                 columns = {\n",
    "                   id:'INTEGER',\n",
    "                   name:'STRING',\n",
    "                   weight:'FLOAT'\n",
    "                 })\n",
    "''').df()\n",
    "# JSON supports the following data types: Object | String | Boolean | Number | Array | null\n",
    "# For the format parameter, you can specify one of the following values: array | newline_delimited or nd | unstructured | auto"
   ]
  },
  {
   "cell_type": "code",
   "execution_count": 7,
   "id": "e4055327-f7c7-4333-beae-517a81a69146",
   "metadata": {},
   "outputs": [
    {
     "data": {
      "text/html": [
       "<div>\n",
       "<style scoped>\n",
       "    .dataframe tbody tr th:only-of-type {\n",
       "        vertical-align: middle;\n",
       "    }\n",
       "\n",
       "    .dataframe tbody tr th {\n",
       "        vertical-align: top;\n",
       "    }\n",
       "\n",
       "    .dataframe thead th {\n",
       "        text-align: right;\n",
       "    }\n",
       "</style>\n",
       "<table border=\"1\" class=\"dataframe\">\n",
       "  <thead>\n",
       "    <tr style=\"text-align: right;\">\n",
       "      <th></th>\n",
       "      <th>id</th>\n",
       "      <th>name</th>\n",
       "      <th>address</th>\n",
       "      <th>email</th>\n",
       "      <th>weight</th>\n",
       "    </tr>\n",
       "  </thead>\n",
       "  <tbody>\n",
       "    <tr>\n",
       "      <th>0</th>\n",
       "      <td>1</td>\n",
       "      <td>Sarah Johnson</td>\n",
       "      <td>4321 Oak Street Apartment 304 Los Angeles, CA ...</td>\n",
       "      <td>sarah_johnson478@gmail.com</td>\n",
       "      <td>140.5</td>\n",
       "    </tr>\n",
       "    <tr>\n",
       "      <th>1</th>\n",
       "      <td>2</td>\n",
       "      <td>David Martinez</td>\n",
       "      <td>789 Maple Avenue Suite 102 New York, NY 10001</td>\n",
       "      <td>david_martinez431@gmail.com</td>\n",
       "      <td>155.0</td>\n",
       "    </tr>\n",
       "    <tr>\n",
       "      <th>2</th>\n",
       "      <td>3</td>\n",
       "      <td>Emily Wilson</td>\n",
       "      <td>567 Pine Road Unit 5B Chicago, IL 60601</td>\n",
       "      <td>emily_wilson998@gmail.com</td>\n",
       "      <td>200.1</td>\n",
       "    </tr>\n",
       "  </tbody>\n",
       "</table>\n",
       "</div>"
      ],
      "text/plain": [
       "   id            name                                            address  \\\n",
       "0   1   Sarah Johnson  4321 Oak Street Apartment 304 Los Angeles, CA ...   \n",
       "1   2  David Martinez      789 Maple Avenue Suite 102 New York, NY 10001   \n",
       "2   3    Emily Wilson            567 Pine Road Unit 5B Chicago, IL 60601   \n",
       "\n",
       "                         email  weight  \n",
       "0   sarah_johnson478@gmail.com   140.5  \n",
       "1  david_martinez431@gmail.com   155.0  \n",
       "2    emily_wilson998@gmail.com   200.1  "
      ]
     },
     "execution_count": 7,
     "metadata": {},
     "output_type": "execute_result"
    }
   ],
   "source": [
    "conn.execute('''\n",
    "  SELECT\n",
    "    *\n",
    "  FROM read_json('./datasets/json1.json',\n",
    "                 format = 'auto')\n",
    "''').df()\n"
   ]
  },
  {
   "cell_type": "markdown",
   "id": "fc07e9de",
   "metadata": {},
   "source": [
    "#### Newline-delimited (ND) JSON"
   ]
  },
  {
   "cell_type": "code",
   "execution_count": 8,
   "id": "bf9c4ef9-91de-46ff-baa9-2b1e08e3f940",
   "metadata": {},
   "outputs": [
    {
     "data": {
      "text/html": [
       "<div>\n",
       "<style scoped>\n",
       "    .dataframe tbody tr th:only-of-type {\n",
       "        vertical-align: middle;\n",
       "    }\n",
       "\n",
       "    .dataframe tbody tr th {\n",
       "        vertical-align: top;\n",
       "    }\n",
       "\n",
       "    .dataframe thead th {\n",
       "        text-align: right;\n",
       "    }\n",
       "</style>\n",
       "<table border=\"1\" class=\"dataframe\">\n",
       "  <thead>\n",
       "    <tr style=\"text-align: right;\">\n",
       "      <th></th>\n",
       "      <th>id</th>\n",
       "      <th>name</th>\n",
       "      <th>weight</th>\n",
       "    </tr>\n",
       "  </thead>\n",
       "  <tbody>\n",
       "    <tr>\n",
       "      <th>0</th>\n",
       "      <td>1</td>\n",
       "      <td>Sarah Johnson</td>\n",
       "      <td>140.500000</td>\n",
       "    </tr>\n",
       "    <tr>\n",
       "      <th>1</th>\n",
       "      <td>2</td>\n",
       "      <td>David Martinez</td>\n",
       "      <td>155.000000</td>\n",
       "    </tr>\n",
       "    <tr>\n",
       "      <th>2</th>\n",
       "      <td>3</td>\n",
       "      <td>Emily Wilson</td>\n",
       "      <td>200.100006</td>\n",
       "    </tr>\n",
       "  </tbody>\n",
       "</table>\n",
       "</div>"
      ],
      "text/plain": [
       "   id            name      weight\n",
       "0   1   Sarah Johnson  140.500000\n",
       "1   2  David Martinez  155.000000\n",
       "2   3    Emily Wilson  200.100006"
      ]
     },
     "execution_count": 8,
     "metadata": {},
     "output_type": "execute_result"
    }
   ],
   "source": [
    "conn.execute('''\n",
    "  SELECT\n",
    "    *\n",
    "  FROM read_json('./datasets/json1_a.json',\n",
    "                 format = 'newline_delimited',\n",
    "                 columns = {\n",
    "                   id:'INTEGER',\n",
    "                   name:'STRING',\n",
    "                   weight:'FLOAT'\n",
    "                })\n",
    "''').df()"
   ]
  },
  {
   "cell_type": "code",
   "execution_count": 9,
   "id": "b36c141b-973c-4034-9dc8-4a95833a0d1a",
   "metadata": {},
   "outputs": [
    {
     "data": {
      "text/html": [
       "<div>\n",
       "<style scoped>\n",
       "    .dataframe tbody tr th:only-of-type {\n",
       "        vertical-align: middle;\n",
       "    }\n",
       "\n",
       "    .dataframe tbody tr th {\n",
       "        vertical-align: top;\n",
       "    }\n",
       "\n",
       "    .dataframe thead th {\n",
       "        text-align: right;\n",
       "    }\n",
       "</style>\n",
       "<table border=\"1\" class=\"dataframe\">\n",
       "  <thead>\n",
       "    <tr style=\"text-align: right;\">\n",
       "      <th></th>\n",
       "      <th>id</th>\n",
       "      <th>name</th>\n",
       "      <th>weight</th>\n",
       "    </tr>\n",
       "  </thead>\n",
       "  <tbody>\n",
       "    <tr>\n",
       "      <th>0</th>\n",
       "      <td>1</td>\n",
       "      <td>Sarah Johnson</td>\n",
       "      <td>140.500000</td>\n",
       "    </tr>\n",
       "    <tr>\n",
       "      <th>1</th>\n",
       "      <td>2</td>\n",
       "      <td>David Martinez</td>\n",
       "      <td>155.000000</td>\n",
       "    </tr>\n",
       "    <tr>\n",
       "      <th>2</th>\n",
       "      <td>3</td>\n",
       "      <td>Emily Wilson</td>\n",
       "      <td>200.100006</td>\n",
       "    </tr>\n",
       "  </tbody>\n",
       "</table>\n",
       "</div>"
      ],
      "text/plain": [
       "   id            name      weight\n",
       "0   1   Sarah Johnson  140.500000\n",
       "1   2  David Martinez  155.000000\n",
       "2   3    Emily Wilson  200.100006"
      ]
     },
     "execution_count": 9,
     "metadata": {},
     "output_type": "execute_result"
    }
   ],
   "source": [
    "conn.execute('''\n",
    "  SELECT\n",
    "    *\n",
    "  FROM read_ndjson_auto('./datasets/json1_a.json',\n",
    "                        columns = {\n",
    "                          id:'INTEGER',\n",
    "                          name:'STRING',\n",
    "                          weight:'FLOAT'\n",
    "                        })\n",
    "''').df()"
   ]
  },
  {
   "cell_type": "markdown",
   "id": "f516f850",
   "metadata": {},
   "source": [
    "#### Nested JSON"
   ]
  },
  {
   "cell_type": "code",
   "execution_count": 10,
   "id": "f8067c9d-1029-4705-9e61-43d5ec4de189",
   "metadata": {},
   "outputs": [
    {
     "data": {
      "text/html": [
       "<div>\n",
       "<style scoped>\n",
       "    .dataframe tbody tr th:only-of-type {\n",
       "        vertical-align: middle;\n",
       "    }\n",
       "\n",
       "    .dataframe tbody tr th {\n",
       "        vertical-align: top;\n",
       "    }\n",
       "\n",
       "    .dataframe thead th {\n",
       "        text-align: right;\n",
       "    }\n",
       "</style>\n",
       "<table border=\"1\" class=\"dataframe\">\n",
       "  <thead>\n",
       "    <tr style=\"text-align: right;\">\n",
       "      <th></th>\n",
       "      <th>id</th>\n",
       "      <th>name</th>\n",
       "      <th>address</th>\n",
       "      <th>email</th>\n",
       "      <th>weight</th>\n",
       "    </tr>\n",
       "  </thead>\n",
       "  <tbody>\n",
       "    <tr>\n",
       "      <th>0</th>\n",
       "      <td>1</td>\n",
       "      <td>Sarah Johnson</td>\n",
       "      <td>{'line1': '4321 Oak Street Apartment', 'line2'...</td>\n",
       "      <td>sarah_johnson478@gmail.com</td>\n",
       "      <td>140.5</td>\n",
       "    </tr>\n",
       "    <tr>\n",
       "      <th>1</th>\n",
       "      <td>2</td>\n",
       "      <td>David Martinez</td>\n",
       "      <td>{'line1': '789 Maple Avenue ', 'line2': 'Suite...</td>\n",
       "      <td>david_martinez431@gmail.com</td>\n",
       "      <td>155.0</td>\n",
       "    </tr>\n",
       "    <tr>\n",
       "      <th>2</th>\n",
       "      <td>3</td>\n",
       "      <td>Emily Wilson</td>\n",
       "      <td>{'line1': '567 Pine Road Unit 5B Chicago', 'li...</td>\n",
       "      <td>emily_wilson998@gmail.com</td>\n",
       "      <td>200.1</td>\n",
       "    </tr>\n",
       "  </tbody>\n",
       "</table>\n",
       "</div>"
      ],
      "text/plain": [
       "   id            name                                            address  \\\n",
       "0   1   Sarah Johnson  {'line1': '4321 Oak Street Apartment', 'line2'...   \n",
       "1   2  David Martinez  {'line1': '789 Maple Avenue ', 'line2': 'Suite...   \n",
       "2   3    Emily Wilson  {'line1': '567 Pine Road Unit 5B Chicago', 'li...   \n",
       "\n",
       "                         email  weight  \n",
       "0   sarah_johnson478@gmail.com   140.5  \n",
       "1  david_martinez431@gmail.com   155.0  \n",
       "2    emily_wilson998@gmail.com   200.1  "
      ]
     },
     "execution_count": 10,
     "metadata": {},
     "output_type": "execute_result"
    }
   ],
   "source": [
    "conn.execute('''\n",
    "  SELECT\n",
    "    *\n",
    "  FROM read_json('./datasets/json2.json')\n",
    "''').df()"
   ]
  },
  {
   "cell_type": "code",
   "execution_count": 11,
   "id": "0214c3a7-b134-4eb9-8d99-22f60a320e65",
   "metadata": {},
   "outputs": [
    {
     "data": {
      "text/html": [
       "<div>\n",
       "<style scoped>\n",
       "    .dataframe tbody tr th:only-of-type {\n",
       "        vertical-align: middle;\n",
       "    }\n",
       "\n",
       "    .dataframe tbody tr th {\n",
       "        vertical-align: top;\n",
       "    }\n",
       "\n",
       "    .dataframe thead th {\n",
       "        text-align: right;\n",
       "    }\n",
       "</style>\n",
       "<table border=\"1\" class=\"dataframe\">\n",
       "  <thead>\n",
       "    <tr style=\"text-align: right;\">\n",
       "      <th></th>\n",
       "      <th>id</th>\n",
       "      <th>name</th>\n",
       "      <th>line1</th>\n",
       "      <th>line2</th>\n",
       "      <th>state</th>\n",
       "      <th>zip</th>\n",
       "      <th>email</th>\n",
       "      <th>weight</th>\n",
       "    </tr>\n",
       "  </thead>\n",
       "  <tbody>\n",
       "    <tr>\n",
       "      <th>0</th>\n",
       "      <td>1</td>\n",
       "      <td>Sarah Johnson</td>\n",
       "      <td>4321 Oak Street Apartment</td>\n",
       "      <td>304 Los Angeles</td>\n",
       "      <td>CA</td>\n",
       "      <td>90001</td>\n",
       "      <td>sarah_johnson478@gmail.com</td>\n",
       "      <td>140.5</td>\n",
       "    </tr>\n",
       "    <tr>\n",
       "      <th>1</th>\n",
       "      <td>2</td>\n",
       "      <td>David Martinez</td>\n",
       "      <td>789 Maple Avenue</td>\n",
       "      <td>Suite 102 New York</td>\n",
       "      <td>NY</td>\n",
       "      <td>10001</td>\n",
       "      <td>david_martinez431@gmail.com</td>\n",
       "      <td>155.0</td>\n",
       "    </tr>\n",
       "    <tr>\n",
       "      <th>2</th>\n",
       "      <td>3</td>\n",
       "      <td>Emily Wilson</td>\n",
       "      <td>567 Pine Road Unit 5B Chicago</td>\n",
       "      <td>None</td>\n",
       "      <td>IL</td>\n",
       "      <td>60601</td>\n",
       "      <td>emily_wilson998@gmail.com</td>\n",
       "      <td>200.1</td>\n",
       "    </tr>\n",
       "  </tbody>\n",
       "</table>\n",
       "</div>"
      ],
      "text/plain": [
       "   id            name                          line1               line2  \\\n",
       "0   1   Sarah Johnson      4321 Oak Street Apartment     304 Los Angeles   \n",
       "1   2  David Martinez              789 Maple Avenue   Suite 102 New York   \n",
       "2   3    Emily Wilson  567 Pine Road Unit 5B Chicago                None   \n",
       "\n",
       "  state    zip                        email  weight  \n",
       "0    CA  90001   sarah_johnson478@gmail.com   140.5  \n",
       "1    NY  10001  david_martinez431@gmail.com   155.0  \n",
       "2    IL  60601    emily_wilson998@gmail.com   200.1  "
      ]
     },
     "execution_count": 11,
     "metadata": {},
     "output_type": "execute_result"
    }
   ],
   "source": [
    "conn.execute('''\n",
    "  SELECT\n",
    "    id,\n",
    "    name,\n",
    "    address['line1'] as line1,\n",
    "    address['line2'] as line2,\n",
    "    address['state'] as state,\n",
    "    address['zip'] as zip,\n",
    "    email,\n",
    "    weight\n",
    "  FROM read_json('./datasets/json2.json')\n",
    "''').df()"
   ]
  },
  {
   "cell_type": "code",
   "execution_count": 12,
   "id": "d2df0c5e-f66d-42a4-82ce-49b1dfe303c6",
   "metadata": {},
   "outputs": [
    {
     "data": {
      "text/html": [
       "<div>\n",
       "<style scoped>\n",
       "    .dataframe tbody tr th:only-of-type {\n",
       "        vertical-align: middle;\n",
       "    }\n",
       "\n",
       "    .dataframe tbody tr th {\n",
       "        vertical-align: top;\n",
       "    }\n",
       "\n",
       "    .dataframe thead th {\n",
       "        text-align: right;\n",
       "    }\n",
       "</style>\n",
       "<table border=\"1\" class=\"dataframe\">\n",
       "  <thead>\n",
       "    <tr style=\"text-align: right;\">\n",
       "      <th></th>\n",
       "      <th>line1</th>\n",
       "      <th>line2</th>\n",
       "      <th>state</th>\n",
       "      <th>city</th>\n",
       "      <th>zip</th>\n",
       "      <th>email</th>\n",
       "      <th>weight</th>\n",
       "    </tr>\n",
       "  </thead>\n",
       "  <tbody>\n",
       "    <tr>\n",
       "      <th>0</th>\n",
       "      <td>4321 Oak Street Apartment</td>\n",
       "      <td>304 Los Angeles</td>\n",
       "      <td>CA</td>\n",
       "      <td>Calexico</td>\n",
       "      <td>90001</td>\n",
       "      <td>sarah_johnson478@gmail.com</td>\n",
       "      <td>140.5</td>\n",
       "    </tr>\n",
       "    <tr>\n",
       "      <th>1</th>\n",
       "      <td>789 Maple Avenue</td>\n",
       "      <td>Suite 102 New York</td>\n",
       "      <td>NY</td>\n",
       "      <td>Coney Island</td>\n",
       "      <td>10001</td>\n",
       "      <td>david_martinez431@gmail.com</td>\n",
       "      <td>155.0</td>\n",
       "    </tr>\n",
       "    <tr>\n",
       "      <th>2</th>\n",
       "      <td>567 Pine Road Unit 5B Chicago</td>\n",
       "      <td>None</td>\n",
       "      <td>IL</td>\n",
       "      <td>Brookfield</td>\n",
       "      <td>60601</td>\n",
       "      <td>emily_wilson998@gmail.com</td>\n",
       "      <td>200.1</td>\n",
       "    </tr>\n",
       "  </tbody>\n",
       "</table>\n",
       "</div>"
      ],
      "text/plain": [
       "                           line1               line2 state          city  \\\n",
       "0      4321 Oak Street Apartment     304 Los Angeles    CA      Calexico   \n",
       "1              789 Maple Avenue   Suite 102 New York    NY  Coney Island   \n",
       "2  567 Pine Road Unit 5B Chicago                None    IL    Brookfield   \n",
       "\n",
       "     zip                        email  weight  \n",
       "0  90001   sarah_johnson478@gmail.com   140.5  \n",
       "1  10001  david_martinez431@gmail.com   155.0  \n",
       "2  60601    emily_wilson998@gmail.com   200.1  "
      ]
     },
     "execution_count": 12,
     "metadata": {},
     "output_type": "execute_result"
    }
   ],
   "source": [
    "conn.execute('''\n",
    "  SELECT\n",
    "    address['line1'] as line1,\n",
    "    address['line2'] as line2,\n",
    "    address['location']['state'] as state,\n",
    "    address['location']['city'] as city,\n",
    "    address['location']['zip'] as zip,\n",
    "    email,\n",
    "    weight\n",
    "  FROM read_json('./datasets/json2_a.json')\n",
    "''').df()"
   ]
  },
  {
   "cell_type": "markdown",
   "id": "bdfcaf40",
   "metadata": {},
   "source": [
    "#### Custom JSON File"
   ]
  },
  {
   "cell_type": "code",
   "execution_count": 13,
   "id": "bd76d28b-c077-4549-a85b-29a338789232",
   "metadata": {},
   "outputs": [
    {
     "data": {
      "text/html": [
       "<div>\n",
       "<style scoped>\n",
       "    .dataframe tbody tr th:only-of-type {\n",
       "        vertical-align: middle;\n",
       "    }\n",
       "\n",
       "    .dataframe tbody tr th {\n",
       "        vertical-align: top;\n",
       "    }\n",
       "\n",
       "    .dataframe thead th {\n",
       "        text-align: right;\n",
       "    }\n",
       "</style>\n",
       "<table border=\"1\" class=\"dataframe\">\n",
       "  <thead>\n",
       "    <tr style=\"text-align: right;\">\n",
       "      <th></th>\n",
       "      <th>people</th>\n",
       "    </tr>\n",
       "  </thead>\n",
       "  <tbody>\n",
       "    <tr>\n",
       "      <th>0</th>\n",
       "      <td>[{'id': 1, 'name': 'Sarah Johnson', 'address':...</td>\n",
       "    </tr>\n",
       "  </tbody>\n",
       "</table>\n",
       "</div>"
      ],
      "text/plain": [
       "                                              people\n",
       "0  [{'id': 1, 'name': 'Sarah Johnson', 'address':..."
      ]
     },
     "execution_count": 13,
     "metadata": {},
     "output_type": "execute_result"
    }
   ],
   "source": [
    "conn.execute('''\n",
    "  SELECT \n",
    "    *\n",
    "  FROM read_json('./datasets/json3.json')\n",
    "''').df()"
   ]
  },
  {
   "cell_type": "code",
   "execution_count": 14,
   "id": "6733951e-c0e0-475c-b47a-866177cfb48c",
   "metadata": {},
   "outputs": [
    {
     "data": {
      "text/html": [
       "<div>\n",
       "<style scoped>\n",
       "    .dataframe tbody tr th:only-of-type {\n",
       "        vertical-align: middle;\n",
       "    }\n",
       "\n",
       "    .dataframe tbody tr th {\n",
       "        vertical-align: top;\n",
       "    }\n",
       "\n",
       "    .dataframe thead th {\n",
       "        text-align: right;\n",
       "    }\n",
       "</style>\n",
       "<table border=\"1\" class=\"dataframe\">\n",
       "  <thead>\n",
       "    <tr style=\"text-align: right;\">\n",
       "      <th></th>\n",
       "      <th>p</th>\n",
       "    </tr>\n",
       "  </thead>\n",
       "  <tbody>\n",
       "    <tr>\n",
       "      <th>0</th>\n",
       "      <td>{'id': 1, 'name': 'Sarah Johnson', 'address': ...</td>\n",
       "    </tr>\n",
       "    <tr>\n",
       "      <th>1</th>\n",
       "      <td>{'id': 2, 'name': 'David Martinez', 'address':...</td>\n",
       "    </tr>\n",
       "    <tr>\n",
       "      <th>2</th>\n",
       "      <td>{'id': 3, 'name': 'Emily Wilson', 'address': {...</td>\n",
       "    </tr>\n",
       "  </tbody>\n",
       "</table>\n",
       "</div>"
      ],
      "text/plain": [
       "                                                   p\n",
       "0  {'id': 1, 'name': 'Sarah Johnson', 'address': ...\n",
       "1  {'id': 2, 'name': 'David Martinez', 'address':...\n",
       "2  {'id': 3, 'name': 'Emily Wilson', 'address': {..."
      ]
     },
     "execution_count": 14,
     "metadata": {},
     "output_type": "execute_result"
    }
   ],
   "source": [
    "conn.execute('''\n",
    "  SELECT unnest(people) p\n",
    "    FROM read_json('./datasets/json3.json')\n",
    "''').df()"
   ]
  },
  {
   "cell_type": "code",
   "execution_count": 15,
   "id": "7affa94f-10aa-47b2-b0a9-05a8146e9a3f",
   "metadata": {},
   "outputs": [
    {
     "data": {
      "text/html": [
       "<div>\n",
       "<style scoped>\n",
       "    .dataframe tbody tr th:only-of-type {\n",
       "        vertical-align: middle;\n",
       "    }\n",
       "\n",
       "    .dataframe tbody tr th {\n",
       "        vertical-align: top;\n",
       "    }\n",
       "\n",
       "    .dataframe thead th {\n",
       "        text-align: right;\n",
       "    }\n",
       "</style>\n",
       "<table border=\"1\" class=\"dataframe\">\n",
       "  <thead>\n",
       "    <tr style=\"text-align: right;\">\n",
       "      <th></th>\n",
       "      <th>id</th>\n",
       "      <th>name</th>\n",
       "      <th>line1</th>\n",
       "      <th>line2</th>\n",
       "      <th>state</th>\n",
       "      <th>zip</th>\n",
       "      <th>email</th>\n",
       "      <th>weight</th>\n",
       "    </tr>\n",
       "  </thead>\n",
       "  <tbody>\n",
       "    <tr>\n",
       "      <th>0</th>\n",
       "      <td>1</td>\n",
       "      <td>Sarah Johnson</td>\n",
       "      <td>4321 Oak Street Apartment</td>\n",
       "      <td>304 Los Angeles</td>\n",
       "      <td>CA</td>\n",
       "      <td>90001</td>\n",
       "      <td>sarah_johnson478@gmail.com</td>\n",
       "      <td>140.5</td>\n",
       "    </tr>\n",
       "    <tr>\n",
       "      <th>1</th>\n",
       "      <td>2</td>\n",
       "      <td>David Martinez</td>\n",
       "      <td>789 Maple Avenue</td>\n",
       "      <td>Suite 102 New York</td>\n",
       "      <td>NY</td>\n",
       "      <td>10001</td>\n",
       "      <td>david_martinez431@gmail.com</td>\n",
       "      <td>155.0</td>\n",
       "    </tr>\n",
       "    <tr>\n",
       "      <th>2</th>\n",
       "      <td>3</td>\n",
       "      <td>Emily Wilson</td>\n",
       "      <td>567 Pine Road Unit 5B Chicago</td>\n",
       "      <td>None</td>\n",
       "      <td>IL</td>\n",
       "      <td>60601</td>\n",
       "      <td>emily_wilson998@gmail.com</td>\n",
       "      <td>200.1</td>\n",
       "    </tr>\n",
       "  </tbody>\n",
       "</table>\n",
       "</div>"
      ],
      "text/plain": [
       "   id            name                          line1               line2  \\\n",
       "0   1   Sarah Johnson      4321 Oak Street Apartment     304 Los Angeles   \n",
       "1   2  David Martinez              789 Maple Avenue   Suite 102 New York   \n",
       "2   3    Emily Wilson  567 Pine Road Unit 5B Chicago                None   \n",
       "\n",
       "  state    zip                        email  weight  \n",
       "0    CA  90001   sarah_johnson478@gmail.com   140.5  \n",
       "1    NY  10001  david_martinez431@gmail.com   155.0  \n",
       "2    IL  60601    emily_wilson998@gmail.com   200.1  "
      ]
     },
     "execution_count": 15,
     "metadata": {},
     "output_type": "execute_result"
    }
   ],
   "source": [
    "conn.execute('''\n",
    "  SELECT\n",
    "    p.id,\n",
    "    p.name,\n",
    "    p.address['line1'] as line1,\n",
    "    p.address['line2'] as line2,\n",
    "    p.address['state'] as state,\n",
    "    p.address['zip'] as zip,\n",
    "    p.email,\n",
    "    p.weight\n",
    "  FROM\n",
    "    (\n",
    "      SELECT unnest(people) p\n",
    "      FROM read_json('./datasets/json3.json')\n",
    "    )\n",
    "''').df()"
   ]
  },
  {
   "cell_type": "code",
   "execution_count": 16,
   "id": "efb7cc37-fcef-43b5-a512-115b5d0c8c91",
   "metadata": {},
   "outputs": [
    {
     "data": {
      "text/html": [
       "<div>\n",
       "<style scoped>\n",
       "    .dataframe tbody tr th:only-of-type {\n",
       "        vertical-align: middle;\n",
       "    }\n",
       "\n",
       "    .dataframe tbody tr th {\n",
       "        vertical-align: top;\n",
       "    }\n",
       "\n",
       "    .dataframe thead th {\n",
       "        text-align: right;\n",
       "    }\n",
       "</style>\n",
       "<table border=\"1\" class=\"dataframe\">\n",
       "  <thead>\n",
       "    <tr style=\"text-align: right;\">\n",
       "      <th></th>\n",
       "      <th>p['id']</th>\n",
       "      <th>p['name']</th>\n",
       "      <th>line1</th>\n",
       "      <th>line2</th>\n",
       "      <th>state</th>\n",
       "      <th>zip</th>\n",
       "      <th>p['email']</th>\n",
       "      <th>p['weight']</th>\n",
       "    </tr>\n",
       "  </thead>\n",
       "  <tbody>\n",
       "    <tr>\n",
       "      <th>0</th>\n",
       "      <td>1</td>\n",
       "      <td>Sarah Johnson</td>\n",
       "      <td>4321 Oak Street Apartment</td>\n",
       "      <td>304 Los Angeles</td>\n",
       "      <td>CA</td>\n",
       "      <td>90001</td>\n",
       "      <td>sarah_johnson478@gmail.com</td>\n",
       "      <td>140.5</td>\n",
       "    </tr>\n",
       "    <tr>\n",
       "      <th>1</th>\n",
       "      <td>2</td>\n",
       "      <td>David Martinez</td>\n",
       "      <td>789 Maple Avenue</td>\n",
       "      <td>Suite 102 New York</td>\n",
       "      <td>NY</td>\n",
       "      <td>10001</td>\n",
       "      <td>david_martinez431@gmail.com</td>\n",
       "      <td>155.0</td>\n",
       "    </tr>\n",
       "    <tr>\n",
       "      <th>2</th>\n",
       "      <td>3</td>\n",
       "      <td>Emily Wilson</td>\n",
       "      <td>567 Pine Road Unit 5B Chicago</td>\n",
       "      <td>None</td>\n",
       "      <td>IL</td>\n",
       "      <td>60601</td>\n",
       "      <td>emily_wilson998@gmail.com</td>\n",
       "      <td>200.1</td>\n",
       "    </tr>\n",
       "  </tbody>\n",
       "</table>\n",
       "</div>"
      ],
      "text/plain": [
       "   p['id']       p['name']                          line1               line2  \\\n",
       "0        1   Sarah Johnson      4321 Oak Street Apartment     304 Los Angeles   \n",
       "1        2  David Martinez              789 Maple Avenue   Suite 102 New York   \n",
       "2        3    Emily Wilson  567 Pine Road Unit 5B Chicago                None   \n",
       "\n",
       "  state    zip                   p['email']  p['weight']  \n",
       "0    CA  90001   sarah_johnson478@gmail.com        140.5  \n",
       "1    NY  10001  david_martinez431@gmail.com        155.0  \n",
       "2    IL  60601    emily_wilson998@gmail.com        200.1  "
      ]
     },
     "execution_count": 16,
     "metadata": {},
     "output_type": "execute_result"
    }
   ],
   "source": [
    "conn.execute('''\n",
    "  SELECT\n",
    "    p['id'],\n",
    "    p['name'],\n",
    "    p['address']['line1'] as line1,\n",
    "    p['address']['line2'] as line2,\n",
    "    p['address']['state'] as state,\n",
    "    p['address']['zip'] as zip,\n",
    "    p['email'],\n",
    "    p['weight']\n",
    "  FROM\n",
    "    (\n",
    "    SELECT unnest(people) p\n",
    "    FROM read_json('./datasets/json3.json')\n",
    "    )\n",
    "''').df()"
   ]
  },
  {
   "cell_type": "markdown",
   "id": "fd93fdb0",
   "metadata": {},
   "source": [
    "#### Loading multiple JSON files"
   ]
  },
  {
   "cell_type": "code",
   "execution_count": 17,
   "id": "91a3b0c4-51cc-47e4-9a7f-9a42cf1c812d",
   "metadata": {},
   "outputs": [
    {
     "data": {
      "text/html": [
       "<div>\n",
       "<style scoped>\n",
       "    .dataframe tbody tr th:only-of-type {\n",
       "        vertical-align: middle;\n",
       "    }\n",
       "\n",
       "    .dataframe tbody tr th {\n",
       "        vertical-align: top;\n",
       "    }\n",
       "\n",
       "    .dataframe thead th {\n",
       "        text-align: right;\n",
       "    }\n",
       "</style>\n",
       "<table border=\"1\" class=\"dataframe\">\n",
       "  <thead>\n",
       "    <tr style=\"text-align: right;\">\n",
       "      <th></th>\n",
       "      <th>id</th>\n",
       "      <th>name</th>\n",
       "      <th>address</th>\n",
       "      <th>email</th>\n",
       "      <th>weight</th>\n",
       "      <th>height</th>\n",
       "    </tr>\n",
       "  </thead>\n",
       "  <tbody>\n",
       "    <tr>\n",
       "      <th>0</th>\n",
       "      <td>1</td>\n",
       "      <td>Sarah Johnson</td>\n",
       "      <td>\"4321 Oak Street Apartment 304 Los Angeles, CA...</td>\n",
       "      <td>sarah_johnson478@gmail.com</td>\n",
       "      <td>140.5</td>\n",
       "      <td>&lt;NA&gt;</td>\n",
       "    </tr>\n",
       "    <tr>\n",
       "      <th>1</th>\n",
       "      <td>2</td>\n",
       "      <td>David Martinez</td>\n",
       "      <td>\"789 Maple Avenue Suite 102 New York, NY 10001\"</td>\n",
       "      <td>david_martinez431@gmail.com</td>\n",
       "      <td>155.0</td>\n",
       "      <td>&lt;NA&gt;</td>\n",
       "    </tr>\n",
       "    <tr>\n",
       "      <th>2</th>\n",
       "      <td>3</td>\n",
       "      <td>Emily Wilson</td>\n",
       "      <td>{\"line1\":\"567 Pine Road Unit 5B Chicago\",\"stat...</td>\n",
       "      <td>None</td>\n",
       "      <td>NaN</td>\n",
       "      <td>66</td>\n",
       "    </tr>\n",
       "  </tbody>\n",
       "</table>\n",
       "</div>"
      ],
      "text/plain": [
       "   id            name                                            address  \\\n",
       "0   1   Sarah Johnson  \"4321 Oak Street Apartment 304 Los Angeles, CA...   \n",
       "1   2  David Martinez    \"789 Maple Avenue Suite 102 New York, NY 10001\"   \n",
       "2   3    Emily Wilson  {\"line1\":\"567 Pine Road Unit 5B Chicago\",\"stat...   \n",
       "\n",
       "                         email  weight  height  \n",
       "0   sarah_johnson478@gmail.com   140.5    <NA>  \n",
       "1  david_martinez431@gmail.com   155.0    <NA>  \n",
       "2                         None     NaN      66  "
      ]
     },
     "execution_count": 17,
     "metadata": {},
     "output_type": "execute_result"
    }
   ],
   "source": [
    "conn.execute('''\n",
    "  SELECT\n",
    "    *\n",
    "  FROM read_json(['./datasets/json4.json','./datasets/json5.json'])\n",
    "''').df()"
   ]
  },
  {
   "cell_type": "code",
   "execution_count": null,
   "id": "3c7a24ad-9a3e-4fce-9603-3ac6fbe97afe",
   "metadata": {},
   "outputs": [
    {
     "ename": "InvalidInputException",
     "evalue": "Invalid Input Error: JSON transform error in file \"./datasets/json5.json\", in record/value 1: Object {\"id\":3,\"name\":\"Emily Wilson\",\"address\":{\"line1\":\"... has unknown key \"height\"\nTry increasing 'sample_size', reducing 'maximum_depth', specifying 'columns', 'format' or 'records' manually, setting 'ignore_errors' to true, or setting 'union_by_name' to true when reading multiple files with a different structure.",
     "output_type": "error",
     "traceback": [
      "\u001b[31m---------------------------------------------------------------------------\u001b[39m",
      "\u001b[31mInvalidInputException\u001b[39m                     Traceback (most recent call last)",
      "\u001b[36mCell\u001b[39m\u001b[36m \u001b[39m\u001b[32mIn[18]\u001b[39m\u001b[32m, line 1\u001b[39m\n\u001b[32m----> \u001b[39m\u001b[32m1\u001b[39m \u001b[43mconn\u001b[49m\u001b[43m.\u001b[49m\u001b[43mexecute\u001b[49m\u001b[43m(\u001b[49m\u001b[33;43m'''\u001b[39;49m\n\u001b[32m      2\u001b[39m \u001b[33;43m  SELECT\u001b[39;49m\n\u001b[32m      3\u001b[39m \u001b[33;43m    *\u001b[39;49m\n\u001b[32m      4\u001b[39m \u001b[33;43m  FROM read_json(\u001b[39;49m\u001b[33;43m'\u001b[39;49m\u001b[33;43m./datasets/json*.json\u001b[39;49m\u001b[33;43m'\u001b[39;49m\u001b[33;43m)\u001b[39;49m\n\u001b[32m      5\u001b[39m \u001b[33;43m'''\u001b[39;49m\u001b[43m)\u001b[49m.df()\n",
      "\u001b[31mInvalidInputException\u001b[39m: Invalid Input Error: JSON transform error in file \"./datasets/json5.json\", in record/value 1: Object {\"id\":3,\"name\":\"Emily Wilson\",\"address\":{\"line1\":\"... has unknown key \"height\"\nTry increasing 'sample_size', reducing 'maximum_depth', specifying 'columns', 'format' or 'records' manually, setting 'ignore_errors' to true, or setting 'union_by_name' to true when reading multiple files with a different structure."
     ]
    }
   ],
   "source": [
    "conn.execute('''\n",
    "  SELECT\n",
    "    *\n",
    "  FROM read_json('./datasets/json*.json')\n",
    "''').df()\n",
    "# Wildcard symbols: *, **, ?, [abc], [a-z]\n",
    "# Try increasing 'sample_size', reducing 'maximum_depth', specifying 'columns', 'format' or 'records' manually, setting 'ignore_errors' to true, or setting 'union_by_name' to true when reading multiple files with a different structure."
   ]
  },
  {
   "cell_type": "code",
   "execution_count": 19,
   "id": "2f6beca7-559e-42f3-99fd-939a69e6bd72",
   "metadata": {},
   "outputs": [
    {
     "ename": "InvalidInputException",
     "evalue": "Invalid Input Error: JSON transform error in file \"./datasets/json5.json\", in record/value 1: Object {\"id\":3,\"name\":\"Emily Wilson\",\"address\":{\"line1\":\"... has unknown key \"height\"\nTry increasing 'sample_size', reducing 'maximum_depth', specifying 'columns', 'format' or 'records' manually, setting 'ignore_errors' to true, or setting 'union_by_name' to true when reading multiple files with a different structure.",
     "output_type": "error",
     "traceback": [
      "\u001b[31m---------------------------------------------------------------------------\u001b[39m",
      "\u001b[31mInvalidInputException\u001b[39m                     Traceback (most recent call last)",
      "\u001b[36mCell\u001b[39m\u001b[36m \u001b[39m\u001b[32mIn[19]\u001b[39m\u001b[32m, line 1\u001b[39m\n\u001b[32m----> \u001b[39m\u001b[32m1\u001b[39m \u001b[43mconn\u001b[49m\u001b[43m.\u001b[49m\u001b[43mexecute\u001b[49m\u001b[43m(\u001b[49m\u001b[33;43m'''\u001b[39;49m\n\u001b[32m      2\u001b[39m \u001b[33;43m  SELECT\u001b[39;49m\n\u001b[32m      3\u001b[39m \u001b[33;43m    *\u001b[39;49m\n\u001b[32m      4\u001b[39m \u001b[33;43m  FROM read_json(\u001b[39;49m\u001b[33;43m'\u001b[39;49m\u001b[33;43m./datasets/json?.json\u001b[39;49m\u001b[33;43m'\u001b[39;49m\u001b[33;43m)\u001b[39;49m\n\u001b[32m      5\u001b[39m \u001b[33;43m'''\u001b[39;49m\u001b[43m)\u001b[49m.df()\n",
      "\u001b[31mInvalidInputException\u001b[39m: Invalid Input Error: JSON transform error in file \"./datasets/json5.json\", in record/value 1: Object {\"id\":3,\"name\":\"Emily Wilson\",\"address\":{\"line1\":\"... has unknown key \"height\"\nTry increasing 'sample_size', reducing 'maximum_depth', specifying 'columns', 'format' or 'records' manually, setting 'ignore_errors' to true, or setting 'union_by_name' to true when reading multiple files with a different structure."
     ]
    }
   ],
   "source": [
    "conn.execute('''\n",
    "  SELECT\n",
    "    *\n",
    "  FROM read_json('./datasets/json?.json')\n",
    "''').df()"
   ]
  },
  {
   "cell_type": "markdown",
   "id": "5c32371d",
   "metadata": {},
   "source": [
    "### Using the COPY-FROM Statement"
   ]
  },
  {
   "cell_type": "code",
   "execution_count": null,
   "id": "8887bafd-9ef8-4149-abe8-6cfcddb93fcf",
   "metadata": {},
   "outputs": [
    {
     "data": {
      "text/html": [
       "<div>\n",
       "<style scoped>\n",
       "    .dataframe tbody tr th:only-of-type {\n",
       "        vertical-align: middle;\n",
       "    }\n",
       "\n",
       "    .dataframe tbody tr th {\n",
       "        vertical-align: top;\n",
       "    }\n",
       "\n",
       "    .dataframe thead th {\n",
       "        text-align: right;\n",
       "    }\n",
       "</style>\n",
       "<table border=\"1\" class=\"dataframe\">\n",
       "  <thead>\n",
       "    <tr style=\"text-align: right;\">\n",
       "      <th></th>\n",
       "      <th>id</th>\n",
       "      <th>name</th>\n",
       "      <th>address</th>\n",
       "      <th>email</th>\n",
       "      <th>weight</th>\n",
       "    </tr>\n",
       "  </thead>\n",
       "  <tbody>\n",
       "    <tr>\n",
       "      <th>0</th>\n",
       "      <td>1</td>\n",
       "      <td>Sarah Johnson</td>\n",
       "      <td>4321 Oak Street Apartment 304 Los Angeles, CA ...</td>\n",
       "      <td>sarah_johnson478@gmail.com</td>\n",
       "      <td>140.500000</td>\n",
       "    </tr>\n",
       "    <tr>\n",
       "      <th>1</th>\n",
       "      <td>2</td>\n",
       "      <td>David Martinez</td>\n",
       "      <td>789 Maple Avenue Suite 102 New York, NY 10001</td>\n",
       "      <td>david_martinez431@gmail.com</td>\n",
       "      <td>155.000000</td>\n",
       "    </tr>\n",
       "    <tr>\n",
       "      <th>2</th>\n",
       "      <td>3</td>\n",
       "      <td>Emily Wilson</td>\n",
       "      <td>567 Pine Road Unit 5B Chicago, IL 60601</td>\n",
       "      <td>emily_wilson998@gmail.com</td>\n",
       "      <td>200.100006</td>\n",
       "    </tr>\n",
       "  </tbody>\n",
       "</table>\n",
       "</div>"
      ],
      "text/plain": [
       "   id            name                                            address  \\\n",
       "0   1   Sarah Johnson  4321 Oak Street Apartment 304 Los Angeles, CA ...   \n",
       "1   2  David Martinez      789 Maple Avenue Suite 102 New York, NY 10001   \n",
       "2   3    Emily Wilson            567 Pine Road Unit 5B Chicago, IL 60601   \n",
       "\n",
       "                         email      weight  \n",
       "0   sarah_johnson478@gmail.com  140.500000  \n",
       "1  david_martinez431@gmail.com  155.000000  \n",
       "2    emily_wilson998@gmail.com  200.100006  "
      ]
     },
     "execution_count": 20,
     "metadata": {},
     "output_type": "execute_result"
    }
   ],
   "source": [
    "conn = duckdb.connect()\n",
    "conn.execute('''\n",
    "  CREATE TABLE people (id INT, name STRING, address STRING,\n",
    "                       email STRING, weight FLOAT);\n",
    "  COPY people FROM './datasets/json1.json' (FORMAT JSON, AUTO_DETECT true);\n",
    "  SELECT * FROM people;\n",
    "''').df()\n",
    "# This offers significant advantages over read_json(), particularly when dealing with large datasets. COPY-FROM is optimized for performance and scalability."
   ]
  },
  {
   "cell_type": "markdown",
   "id": "dcf43bdc",
   "metadata": {},
   "source": [
    "### Exporting Tables to JSON"
   ]
  },
  {
   "cell_type": "code",
   "execution_count": 21,
   "id": "79aba2ca-7d7c-4b0b-8157-5634777b4823",
   "metadata": {},
   "outputs": [
    {
     "data": {
      "text/html": [
       "<div>\n",
       "<style scoped>\n",
       "    .dataframe tbody tr th:only-of-type {\n",
       "        vertical-align: middle;\n",
       "    }\n",
       "\n",
       "    .dataframe tbody tr th {\n",
       "        vertical-align: top;\n",
       "    }\n",
       "\n",
       "    .dataframe thead th {\n",
       "        text-align: right;\n",
       "    }\n",
       "</style>\n",
       "<table border=\"1\" class=\"dataframe\">\n",
       "  <thead>\n",
       "    <tr style=\"text-align: right;\">\n",
       "      <th></th>\n",
       "      <th>name</th>\n",
       "      <th>weight</th>\n",
       "    </tr>\n",
       "  </thead>\n",
       "  <tbody>\n",
       "    <tr>\n",
       "      <th>0</th>\n",
       "      <td>Sarah Johnson</td>\n",
       "      <td>140.5</td>\n",
       "    </tr>\n",
       "    <tr>\n",
       "      <th>1</th>\n",
       "      <td>David Martinez</td>\n",
       "      <td>155.0</td>\n",
       "    </tr>\n",
       "    <tr>\n",
       "      <th>2</th>\n",
       "      <td>Emily Wilson</td>\n",
       "      <td>200.1</td>\n",
       "    </tr>\n",
       "  </tbody>\n",
       "</table>\n",
       "</div>"
      ],
      "text/plain": [
       "             name  weight\n",
       "0   Sarah Johnson   140.5\n",
       "1  David Martinez   155.0\n",
       "2    Emily Wilson   200.1"
      ]
     },
     "metadata": {},
     "output_type": "display_data"
    }
   ],
   "source": [
    "conn = duckdb.connect()\n",
    "conn.execute('''\n",
    "  CREATE OR REPLACE TABLE people\n",
    "    as\n",
    "  SELECT\n",
    "    name,\n",
    "    weight\n",
    "  FROM read_ndjson_auto('./datasets/json1_a.json')\n",
    "''')\n",
    "display(conn.execute('SELECT * FROM people').df())"
   ]
  },
  {
   "cell_type": "code",
   "execution_count": 24,
   "id": "9d1a98ae-adcb-4cc4-b318-5a768edef93f",
   "metadata": {},
   "outputs": [
    {
     "data": {
      "text/plain": [
       "<duckdb.duckdb.DuckDBPyConnection at 0x7e4ea9111530>"
      ]
     },
     "execution_count": 24,
     "metadata": {},
     "output_type": "execute_result"
    }
   ],
   "source": [
    "conn.execute('''\n",
    "  COPY people\n",
    "    TO\n",
    "  './datasets/people.json' (FORMAT JSON);\n",
    "''')"
   ]
  },
  {
   "cell_type": "code",
   "execution_count": 23,
   "id": "34a2310d-572e-4d24-873e-f921dc992af3",
   "metadata": {},
   "outputs": [
    {
     "data": {
      "text/plain": [
       "<duckdb.duckdb.DuckDBPyConnection at 0x7e4ea9111530>"
      ]
     },
     "execution_count": 23,
     "metadata": {},
     "output_type": "execute_result"
    }
   ],
   "source": [
    "conn.execute('''\n",
    "  COPY people\n",
    "    TO\n",
    "  './datasets/people_array.json' (ARRAY TRUE);\n",
    "''')"
   ]
  },
  {
   "cell_type": "code",
   "execution_count": null,
   "id": "c37be4b2",
   "metadata": {},
   "outputs": [],
   "source": []
  }
 ],
 "metadata": {
  "kernelspec": {
   "display_name": "Python 3",
   "language": "python",
   "name": "python3"
  },
  "language_info": {
   "codemirror_mode": {
    "name": "ipython",
    "version": 3
   },
   "file_extension": ".py",
   "mimetype": "text/x-python",
   "name": "python",
   "nbconvert_exporter": "python",
   "pygments_lexer": "ipython3",
   "version": "3.12.1"
  }
 },
 "nbformat": 4,
 "nbformat_minor": 5
}
