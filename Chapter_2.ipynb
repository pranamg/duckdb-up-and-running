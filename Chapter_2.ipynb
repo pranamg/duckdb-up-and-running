{
 "cells": [
  {
   "cell_type": "code",
   "execution_count": null,
   "id": "b8279005-5a28-41c4-93c0-ff44ff3cef5e",
   "metadata": {},
   "outputs": [],
   "source": [
    "# !pip install duckdb"
   ]
  },
  {
   "cell_type": "code",
   "execution_count": null,
   "id": "019ce302",
   "metadata": {
    "scrolled": true
   },
   "outputs": [],
   "source": [
    "import duckdb\n",
    "\n",
    "conn = duckdb.connect()"
   ]
  },
  {
   "cell_type": "code",
   "execution_count": null,
   "id": "bb7da686",
   "metadata": {},
   "outputs": [],
   "source": [
    "conn = duckdb.connect(database = 'mydb.duckdb', read_only = False)"
   ]
  },
  {
   "cell_type": "code",
   "execution_count": null,
   "id": "8ea2f26e",
   "metadata": {},
   "outputs": [],
   "source": [
    "import duckdb\n",
    "\n",
    "conn = duckdb.connect()\n",
    "conn.execute('''\n",
    "  CREATE TABLE flights \n",
    "    as \n",
    "  SELECT \n",
    "    * \n",
    "  FROM read_csv_auto('flights.csv')    \n",
    "''')"
   ]
  },
  {
   "cell_type": "code",
   "execution_count": null,
   "id": "7a5c4432",
   "metadata": {},
   "outputs": [],
   "source": [
    "import duckdb\n",
    "\n",
    "conn = duckdb.connect()\n",
    "conn.execute('''\n",
    "  CREATE TABLE flights \n",
    "    as \n",
    "  SELECT \n",
    "    * \n",
    "  FROM read_csv_auto('flights.csv')\n",
    "''').df()"
   ]
  },
  {
   "cell_type": "code",
   "execution_count": null,
   "id": "0cd78f7f",
   "metadata": {},
   "outputs": [],
   "source": [
    "conn.execute('''\n",
    "  CREATE OR REPLACE TABLE flights \n",
    "    as \n",
    "  FROM 'flights.csv'\n",
    "''').df()"
   ]
  },
  {
   "cell_type": "code",
   "execution_count": null,
   "id": "f6df54da",
   "metadata": {},
   "outputs": [],
   "source": [
    "display(conn.execute('SHOW TABLES').df())"
   ]
  },
  {
   "cell_type": "code",
   "execution_count": null,
   "id": "4dfb33c8",
   "metadata": {},
   "outputs": [],
   "source": [
    "display(conn.execute('SELECT * FROM flights').df())"
   ]
  },
  {
   "cell_type": "code",
   "execution_count": null,
   "id": "9b2dc268",
   "metadata": {},
   "outputs": [],
   "source": [
    "conn.execute('''\n",
    "  CREATE TABLE airports(\n",
    "    IATA_CODE VARCHAR, AIRPORT VARCHAR, CITY VARCHAR,\n",
    "    STATE VARCHAR, COUNTRY VARCHAR, LATITUDE VARCHAR,\n",
    "    LONGITUDE VARCHAR); \n",
    "  COPY airports FROM 'airports.csv' (AUTO_DETECT TRUE);\n",
    "''')\n",
    "\n",
    "display(conn.execute('SELECT * FROM airports').df())"
   ]
  },
  {
   "cell_type": "code",
   "execution_count": null,
   "id": "fe65d48f",
   "metadata": {},
   "outputs": [],
   "source": [
    "result = conn.execute('''\n",
    "  SELECT COUNT(*) AS column_count\n",
    "  FROM information_schema.columns\n",
    "  WHERE table_name = 'airports';\n",
    "''').fetchall()\n",
    "\n",
    "# Print the number of columns\n",
    "print(f\"Number of columns: {result[0][0]}\")"
   ]
  },
  {
   "cell_type": "code",
   "execution_count": null,
   "id": "a5a0c5db-69e0-4a45-8a0f-cb314d891a36",
   "metadata": {},
   "outputs": [],
   "source": [
    "conn.execute('''\n",
    "  DROP TABLE IF EXISTS airports;\n",
    "  CREATE TABLE airports\n",
    "  AS\n",
    "  FROM read_csv('airports.csv', all_varchar=true)\n",
    "''')"
   ]
  },
  {
   "cell_type": "code",
   "execution_count": null,
   "id": "4afb6705-ee56-4f5a-87e1-737e43842449",
   "metadata": {},
   "outputs": [],
   "source": [
    "display(conn.execute('SHOW TABLES').df())"
   ]
  },
  {
   "cell_type": "code",
   "execution_count": null,
   "id": "71373fc6",
   "metadata": {},
   "outputs": [],
   "source": [
    "airlines = conn.execute('''\n",
    "  SELECT \n",
    "    * \n",
    "  FROM read_csv('airlines.csv',  \n",
    "                Header = True, \n",
    "                Columns = {'IATA_CODE': 'VARCHAR', 'AIRLINE': 'VARCHAR'})\n",
    "''').df()\n",
    "\n",
    "airlines"
   ]
  },
  {
   "cell_type": "code",
   "execution_count": null,
   "id": "c5dbe89c-8e12-47a4-ae55-50cd506366ab",
   "metadata": {},
   "outputs": [],
   "source": [
    "airlines = conn.execute('''\n",
    "  SELECT \n",
    "    * \n",
    "  FROM read_csv_auto('airlines.csv')\n",
    "''').df()\n",
    "airlines"
   ]
  },
  {
   "cell_type": "code",
   "execution_count": null,
   "id": "1a975fb5-19f7-4d53-8f69-64dee123249e",
   "metadata": {},
   "outputs": [],
   "source": [
    "conn.register(\"airlines\", airlines)"
   ]
  },
  {
   "cell_type": "code",
   "execution_count": null,
   "id": "a347ab39-797d-402b-843b-043bd7614cd8",
   "metadata": {},
   "outputs": [],
   "source": [
    "display(conn.execute('SHOW TABLES').df())"
   ]
  },
  {
   "cell_type": "code",
   "execution_count": null,
   "id": "6b895ce6-2468-4968-985c-a0cacc922e49",
   "metadata": {},
   "outputs": [],
   "source": [
    "display(conn.execute('SELECT * FROM airlines').df())"
   ]
  },
  {
   "cell_type": "code",
   "execution_count": null,
   "id": "9b583106-acf5-407f-a0f2-0e83380614f7",
   "metadata": {},
   "outputs": [],
   "source": [
    "import pandas as pd\n",
    "\n",
    "# load the CSV using pandas\n",
    "df_airlines = pd.read_csv(\"airlines.csv\")\n",
    "\n",
    "# associate the dataframe with the DuckDB database\n",
    "conn.register(\"airlines\", df_airlines)"
   ]
  },
  {
   "cell_type": "code",
   "execution_count": null,
   "id": "091c0778-3434-4d1f-a24e-4f08008f26a5",
   "metadata": {},
   "outputs": [],
   "source": [
    "conn.execute('''\n",
    "COPY\n",
    "  (SELECT IATA_CODE, LATITUDE, LONGITUDE FROM airports)\n",
    "TO\n",
    "  'airports_location.csv' WITH (HEADER 1, DELIMITER ',');\n",
    "''')"
   ]
  },
  {
   "cell_type": "code",
   "execution_count": null,
   "id": "1ef9bc05-96b9-4d7a-881c-500d97679211",
   "metadata": {},
   "outputs": [],
   "source": [
    "conn.execute('''\n",
    "COPY\n",
    " (SELECT\n",
    "   IATA_CODE, LATITUDE, LONGITUDE\n",
    "  FROM 'airports.csv'\n",
    "  LIMIT 10)\n",
    "  TO\n",
    "    'airports_location.csv' WITH (HEADER 1, DELIMITER ',');\n",
    "''')"
   ]
  },
  {
   "cell_type": "code",
   "execution_count": null,
   "id": "58dd0ac5-c56d-42f4-85ea-8c4ca6313452",
   "metadata": {},
   "outputs": [],
   "source": [
    "conn.close()"
   ]
  },
  {
   "cell_type": "code",
   "execution_count": null,
   "id": "3108ce68-f9e4-44bc-9f8d-95b12cd50743",
   "metadata": {},
   "outputs": [],
   "source": [
    "!pip install fastparquet"
   ]
  },
  {
   "cell_type": "code",
   "execution_count": null,
   "id": "28a6ac54-3679-4aee-a9b6-cf2a7e3904c2",
   "metadata": {},
   "outputs": [],
   "source": [
    "import pandas as pd\n",
    "\n",
    "df_airports = pd.read_csv(\"airports.csv\")\n",
    "df_airports.to_parquet('airports.parquet', engine='fastparquet')"
   ]
  },
  {
   "cell_type": "code",
   "execution_count": null,
   "id": "9fff5ed0-f287-4bc6-bc89-0b42762b4bdb",
   "metadata": {},
   "outputs": [],
   "source": [
    "import duckdb\n",
    "\n",
    "conn = duckdb.connect()\n",
    "conn.execute('''\n",
    "  CREATE TABLE airports\n",
    "    as\n",
    "  SELECT * FROM read_parquet('airports.parquet')\n",
    "  LIMIT 100\n",
    "''')"
   ]
  },
  {
   "cell_type": "code",
   "execution_count": null,
   "id": "0d56ce05-eedb-4e3b-a326-5312bf0c3720",
   "metadata": {},
   "outputs": [],
   "source": [
    "display(conn.execute('SELECT * FROM airports').df())"
   ]
  },
  {
   "cell_type": "code",
   "execution_count": null,
   "id": "9894a5c9-87c1-4878-b2ca-a91fc5d2a8fa",
   "metadata": {},
   "outputs": [],
   "source": [
    "conn.execute('''\n",
    "  INSERT INTO airports\n",
    "  SELECT * FROM read_parquet('airports.parquet')\n",
    "  ORDER BY 1 DESC\n",
    "  LIMIT 100\n",
    "''')\n",
    "display(conn.execute('SELECT * FROM airports').df())"
   ]
  },
  {
   "cell_type": "code",
   "execution_count": null,
   "id": "74ad7e38-721c-448c-bae8-0047e138fe3c",
   "metadata": {},
   "outputs": [],
   "source": [
    "conn.execute('''\n",
    "  COPY airports\n",
    "  FROM 'airports.parquet' (FORMAT PARQUET);\n",
    "''')"
   ]
  },
  {
   "cell_type": "code",
   "execution_count": null,
   "id": "0a65749d-9752-41de-af51-1ef9da930475",
   "metadata": {},
   "outputs": [],
   "source": [
    "conn.execute('''\n",
    "  COPY airports\n",
    "  TO\n",
    "    'airports_all.parquet' (FORMAT PARQUET);\n",
    "''')"
   ]
  },
  {
   "cell_type": "code",
   "execution_count": null,
   "id": "eecfb0a1-8b58-482c-8f72-acd676ce1b5a",
   "metadata": {},
   "outputs": [],
   "source": [
    "conn.execute('''\n",
    "  COPY\n",
    "    (SELECT * FROM airports LIMIT 100)\n",
    "  TO\n",
    "    'airports_100.parquet' (FORMAT PARQUET);\n",
    "''')"
   ]
  },
  {
   "cell_type": "code",
   "execution_count": null,
   "id": "f892b82a-a75b-40e6-97b4-e96c8cfb153b",
   "metadata": {},
   "outputs": [],
   "source": [
    "import duckdb\n",
    "\n",
    "conn = duckdb.connect()\n",
    "\n",
    "conn.execute('INSTALL spatial')\n",
    "conn.execute('LOAD spatial')\n",
    "conn.execute('''\n",
    "  CREATE TABLE airports\n",
    "  as\n",
    "  SELECT * FROM st_read('airports_and_airlines.xlsx', layer='airports');\n",
    "''')\n",
    "\n",
    "display(conn.execute('SELECT * FROM airports').df())"
   ]
  },
  {
   "cell_type": "code",
   "execution_count": null,
   "id": "d5ac10c7-0126-421f-b54f-8e6dc5d1793e",
   "metadata": {},
   "outputs": [],
   "source": [
    "import os\n",
    "os.environ['OGR_XLSX_HEADERS'] = 'DISABLE'"
   ]
  },
  {
   "cell_type": "code",
   "execution_count": null,
   "id": "905d1e3c-ded0-4a96-b7a1-9bb6c1c1634c",
   "metadata": {},
   "outputs": [],
   "source": [
    "os.environ['OGR_XLSX_HEADERS'] = 'FORCE'"
   ]
  },
  {
   "cell_type": "code",
   "execution_count": null,
   "id": "c656fe5f-5d6f-4ece-ae74-ed05bc0a93f6",
   "metadata": {},
   "outputs": [],
   "source": [
    "os.environ['OGR_XLSX_HEADERS'] = 'AUTO'"
   ]
  },
  {
   "cell_type": "code",
   "execution_count": null,
   "id": "72a7563f-c9cb-46f9-bac8-556712e54cbc",
   "metadata": {},
   "outputs": [],
   "source": [
    "conn.execute('''\n",
    "  CREATE TABLE airlines\n",
    "  AS\n",
    "  SELECT * FROM st_read('airports_and_airlines.xlsx', layer='airlines');\n",
    "''')\n",
    "display(conn.execute('SELECT * FROM airlines').df())"
   ]
  },
  {
   "cell_type": "code",
   "execution_count": null,
   "id": "df0e6bda-0825-4faa-a78e-90954a9dd471",
   "metadata": {},
   "outputs": [],
   "source": [
    "conn = duckdb.connect()\n",
    "\n",
    "conn.execute('INSTALL spatial')\n",
    "conn.execute('LOAD spatial')\n",
    "conn.execute('''\n",
    "  CREATE TABLE airlines (\n",
    "    IATA_CODE STRING,\n",
    "    AIRLINES STRING\n",
    "  );\n",
    "  INSERT INTO airlines\n",
    "  SELECT * FROM st_read('airports_and_airlines.xlsx', layer='airlines');\n",
    "''')\n",
    "display(conn.execute('SELECT * FROM airlines').df())"
   ]
  },
  {
   "cell_type": "code",
   "execution_count": null,
   "id": "413aa4d8-d77b-48f5-96e9-d624d1e35693",
   "metadata": {},
   "outputs": [],
   "source": [
    "os.environ['OGR_XLSX_FIELD_TYPES'] = 'STRING' # default is AUTO"
   ]
  },
  {
   "cell_type": "code",
   "execution_count": null,
   "id": "7f026248-2697-4e0d-92ce-24c73e3083f2",
   "metadata": {},
   "outputs": [],
   "source": [
    "conn.execute('''\n",
    "  COPY airlines\n",
    "  TO 'airlines.xlsx' WITH (FORMAT GDAL, DRIVER 'xlsx');\n",
    "''')"
   ]
  },
  {
   "cell_type": "code",
   "execution_count": null,
   "id": "b82f3291-9418-4f7c-b91d-23c45b132f2f",
   "metadata": {},
   "outputs": [],
   "source": [
    "pip install mysql-connector-python"
   ]
  },
  {
   "cell_type": "code",
   "execution_count": null,
   "id": "a2e46dbe-54bf-47f2-8168-287215765411",
   "metadata": {},
   "outputs": [],
   "source": [
    "import mysql.connector\n",
    "import duckdb\n",
    "\n",
    "# MySQL connection information\n",
    "mysql_host = 'localhost'\n",
    "mysql_user = 'user1'\n",
    "mysql_password = 'password'\n",
    "mysql_database = 'My_DB'\n",
    "mysql_table = 'airlines'\n",
    "\n",
    "# create a DuckDB connection\n",
    "duckdb_conn = duckdb.connect()\n",
    "\n",
    "# connect to MySQL\n",
    "mysql_conn = mysql.connector.connect(\n",
    "host = mysql_host,\n",
    "user = mysql_user,\n",
    "password = mysql_password,\n",
    "database = mysql_database\n",
    ")\n",
    "\n",
    "# create a cursor for MySQL\n",
    "mysql_cursor = mysql_conn.cursor()\n",
    "\n",
    "# query data from MySQL\n",
    "mysql_query = f'SELECT * FROM {mysql_table}'\n",
    "mysql_cursor.execute(mysql_query)\n",
    "\n",
    "# create a DuckDB table with the same schema as MySQL\n",
    "duckdb_create_table_query = \\\n",
    "f'CREATE TABLE airlines (IATA_CODE VARCHAR(2), AIRLINES VARCHAR)'\n",
    "duckdb_conn.execute(duckdb_create_table_query)\n",
    "\n",
    "# get column names from MySQL result\n",
    "mysql_columns = [column[0] for column in mysql_cursor.description]\n",
    "\n",
    "# fetch data from MySQL and insert into DuckDB table\n",
    "duckdb_insert_query = \\\n",
    "f'INSERT INTO airlines VALUES ({\", \".join([\"?\" for _ in mysql_columns])})'\n",
    "\n",
    "for row in mysql_cursor.fetchall():\n",
    "    duckdb_conn.execute(duckdb_insert_query, row)\n",
    "\n",
    "# query the data in DuckDB\n",
    "display(duckdb_conn.execute('SELECT * FROM airlines').df())\n",
    "\n",
    "# close the MySQL and DuckDB connections\n",
    "mysql_cursor.close()\n",
    "mysql_conn.close()\n",
    "duckdb_conn.close()"
   ]
  },
  {
   "cell_type": "code",
   "execution_count": null,
   "id": "965db95e",
   "metadata": {},
   "outputs": [],
   "source": [
    "import duckdb\n",
    "\n",
    "# create a DuckDB connection\n",
    "conn = duckdb.connect()\n",
    "\n",
    "# install and load the MySQL extension\n",
    "conn.execute('INSTALL mysql')\n",
    "conn.execute('LOAD mysql')\n",
    "\n",
    "# define MySQL connection parameters\n",
    "mysql_host     = 'localhost'\n",
    "mysql_user     = 'user1'\n",
    "mysql_password = 'password'\n",
    "mysql_database = 'My_DB'\n",
    "mysql_table    = 'airlines'\n",
    "mysql_port     = 3306\n",
    "\n",
    "# create a MySQL connection\n",
    "mysql_connection = f'mysql://{mysql_user}:{mysql_password}@{mysql_host}/{mysql_database}'\n",
    "\n",
    "attach_command = f'''\n",
    "    ATTACH 'host={mysql_host} \n",
    "    user={mysql_user} \n",
    "    password={mysql_password} \n",
    "    port={mysql_port} \n",
    "    database={mysql_database}' \n",
    "    AS mysqldb (TYPE MYSQL);\n",
    "'''\n",
    "conn.execute(attach_command)\n",
    "conn.execute('USE mysqldb;')\n",
    "\n",
    "display(conn.execute(f'''\n",
    "    SELECT * FROM {mysql_table}\n",
    "''').df())\n",
    "\n",
    "display(conn.execute(f'''\n",
    "    show tables\n",
    "''').df())\n",
    "\n",
    "# close the DuckDB connection\n",
    "conn.close()"
   ]
  },
  {
   "cell_type": "code",
   "execution_count": null,
   "id": "2e58e16c-c86b-45f2-81c0-34aa71a464c0",
   "metadata": {},
   "outputs": [],
   "source": []
  }
 ],
 "metadata": {
  "kernelspec": {
   "display_name": "Python 3 (ipykernel)",
   "language": "python",
   "name": "python3"
  },
  "language_info": {
   "codemirror_mode": {
    "name": "ipython",
    "version": 3
   },
   "file_extension": ".py",
   "mimetype": "text/x-python",
   "name": "python",
   "nbconvert_exporter": "python",
   "pygments_lexer": "ipython3",
   "version": "3.12.2"
  }
 },
 "nbformat": 4,
 "nbformat_minor": 5
}
