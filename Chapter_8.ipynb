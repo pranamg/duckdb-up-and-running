{
 "cells": [
  {
   "cell_type": "code",
   "execution_count": null,
   "id": "c7c6e193",
   "metadata": {},
   "outputs": [],
   "source": [
    "import duckdb\n",
    "\n",
    "conn = duckdb.connect()\n",
    "conn.execute('''\n",
    "  INSTALL httpfs;\n",
    "  LOAD httpfs;\n",
    "''')"
   ]
  },
  {
   "cell_type": "code",
   "execution_count": null,
   "id": "721446a1",
   "metadata": {},
   "outputs": [],
   "source": [
    "conn.execute('''\n",
    "  SELECT \n",
    "    *\n",
    "  FROM \n",
    "    'https://raw.githubusercontent.com/weimenglee/DuckDB_Book/main/AMZN.csv';    \n",
    "''').df()"
   ]
  },
  {
   "cell_type": "code",
   "execution_count": null,
   "id": "4fba55a3-c101-48ed-86c3-a1916cb62d12",
   "metadata": {},
   "outputs": [],
   "source": [
    "conn.execute('''\n",
    "SELECT\n",
    "  *\n",
    "FROM\n",
    "  'https://raw.githubusercontent.com/weimenglee/DuckDB_Book/main/AMZN.csv'\n",
    "WHERE year(Date) = 2018;\n",
    "''').df()"
   ]
  },
  {
   "cell_type": "code",
   "execution_count": null,
   "id": "32a990c0-752c-411f-9437-a4e64e35cf28",
   "metadata": {},
   "outputs": [],
   "source": [
    "conn.execute('''\n",
    "SELECT\n",
    "  *\n",
    "FROM read_csv([\n",
    "  'https://raw.githubusercontent.com/weimenglee/DuckDB_Book/main/AMZN.csv',\n",
    "  'https://raw.githubusercontent.com/weimenglee/DuckDB_Book/main/GOOG.csv'\n",
    "]);\n",
    "''').df()"
   ]
  },
  {
   "cell_type": "code",
   "execution_count": null,
   "id": "743faa6f-72c5-42bb-9933-51924e74d871",
   "metadata": {},
   "outputs": [],
   "source": [
    "conn.execute('''\n",
    "SELECT\n",
    "  *\n",
    "FROM\n",
    "  'https://github.com/weimenglee/DuckDB_Book' \n",
    "  '/raw/main/travel%20insurance.parquet';\n",
    "''').df()"
   ]
  },
  {
   "cell_type": "code",
   "execution_count": null,
   "id": "fac69413-92ba-4bc4-9588-ddb98c96f30e",
   "metadata": {},
   "outputs": [],
   "source": [
    "conn.execute('''\n",
    "DESCRIBE TABLE\n",
    "  'https://github.com/weimenglee/DuckDB_Book/raw/main/travel%20insurance.parquet';\n",
    "''').df()"
   ]
  },
  {
   "cell_type": "code",
   "execution_count": null,
   "id": "067ca0ce-0f18-4991-a2c9-b5a1653e2695",
   "metadata": {},
   "outputs": [],
   "source": [
    "conn.execute('''\n",
    "SELECT\n",
    "  Agency, \"Agency Type\"\n",
    "FROM\n",
    "  'https://github.com/weimenglee/DuckDB_Book'\n",
    "  '/raw/main/travel%20insurance.parquet';\n",
    "''').df()"
   ]
  },
  {
   "cell_type": "code",
   "execution_count": null,
   "id": "b7dd798e-ac85-4f79-aca2-cea745ca6a0d",
   "metadata": {},
   "outputs": [],
   "source": [
    "conn.execute('''\n",
    "SELECT\n",
    "  avg(age)\n",
    "FROM\n",
    "  'https://github.com/weimenglee/DuckDB_Book'\n",
    "  '/raw/main/travel%20insurance.parquet';\n",
    "''').df()"
   ]
  },
  {
   "cell_type": "code",
   "execution_count": null,
   "id": "8b3587ce-ea3c-4e24-ab97-b27c10545dc9",
   "metadata": {},
   "outputs": [],
   "source": [
    "conn.execute('''\n",
    "SELECT\n",
    "  count(*)\n",
    "FROM\n",
    "  'https://github.com/weimenglee/DuckDB_Book'\n",
    "  '/raw/main/travel%20insurance.parquet';\n",
    "''').df()"
   ]
  },
  {
   "cell_type": "code",
   "execution_count": null,
   "id": "0be2d248-43ed-425c-9dfc-39204ee53fd8",
   "metadata": {},
   "outputs": [],
   "source": [
    "import duckdb\n",
    "\n",
    "conn = duckdb.connect()\n",
    "conn.execute('''\n",
    "  SELECT \n",
    "    *\n",
    "  FROM\n",
    "    'hf://datasets/scikit-learn/tips/tips.csv';\n",
    "''').df()"
   ]
  },
  {
   "cell_type": "code",
   "execution_count": null,
   "id": "425ad0d0-c54c-4182-a915-821c65137694",
   "metadata": {},
   "outputs": [],
   "source": [
    "conn.execute('''\n",
    "CREATE TABLE Tips AS\n",
    "FROM\n",
    "  'hf://datasets/scikit-learn/tips/tips.csv';\n",
    "''')"
   ]
  },
  {
   "cell_type": "code",
   "execution_count": null,
   "id": "235e8690-22d6-4941-8f9d-dd625b9c8175",
   "metadata": {},
   "outputs": [],
   "source": [
    "conn.execute('''\n",
    "SELECT\n",
    "  *\n",
    "FROM\n",
    "  Tips\n",
    "''').df()"
   ]
  },
  {
   "cell_type": "code",
   "execution_count": null,
   "id": "11da3d31-07da-4d7e-9a5c-04710042a633",
   "metadata": {},
   "outputs": [],
   "source": [
    "conn.execute('''\n",
    "SELECT\n",
    "  *\n",
    "FROM\n",
    "  'hf://datasets/AiresPucrs/adult-census-income'\n",
    "  '/data/train-00000-of-00001-7e70ed54d8cbb057.parquet'\n",
    "''').df()"
   ]
  },
  {
   "cell_type": "code",
   "execution_count": null,
   "id": "fbbc05d0-261e-4234-9eb6-e2022bcec737",
   "metadata": {},
   "outputs": [],
   "source": [
    "conn.execute('''\n",
    "SELECT\n",
    "  *\n",
    "FROM\n",
    "  'hf://datasets/gabrielwu/city_country/*.csv';\n",
    "''').df()"
   ]
  },
  {
   "cell_type": "code",
   "execution_count": null,
   "id": "1002bcf9-ea8c-45f1-a937-965789025cd3",
   "metadata": {},
   "outputs": [],
   "source": [
    "conn.execute('''\n",
    "SELECT\n",
    "  *\n",
    "FROM\n",
    "  'hf://datasets/gabrielwu/city_country/*.csv'\n",
    "WHERE question LIKE '%Huaibei%';\n",
    "''').df()"
   ]
  },
  {
   "cell_type": "code",
   "execution_count": null,
   "id": "8142aa06-99fa-4711-ac50-1b79ab9c2fbe",
   "metadata": {},
   "outputs": [],
   "source": [
    "conn.execute('''\n",
    "SELECT\n",
    "  question\n",
    "FROM\n",
    "  'hf://datasets/Stanford/web_questions/data/*.parquet'\n",
    "WHERE question LIKE '%happened%';\n",
    "''').df()"
   ]
  },
  {
   "cell_type": "code",
   "execution_count": null,
   "id": "45c52dbb-8408-4c62-8e3f-bb3754248e99",
   "metadata": {},
   "outputs": [],
   "source": [
    "import duckdb\n",
    "\n",
    "conn = duckdb.connect()\n",
    "conn.execute('''\n",
    "CREATE SECRET hf_token (\n",
    "  TYPE HUGGINGFACE,\n",
    "  TOKEN '<your_token>'\n",
    ");\n",
    "''')"
   ]
  },
  {
   "cell_type": "code",
   "execution_count": null,
   "id": "8f79652f-4f26-4cc2-9d6f-06da62cdb4d2",
   "metadata": {},
   "outputs": [],
   "source": [
    "conn.execute('''\n",
    "SELECT\n",
    "  *\n",
    "FROM\n",
    "  'hf://datasets/Wei-Meng/StockPrices/AMZN.csv';\n",
    "''').df()"
   ]
  },
  {
   "cell_type": "code",
   "execution_count": null,
   "id": "e3cbbcf8-2c64-4723-814d-426e833d3473",
   "metadata": {},
   "outputs": [],
   "source": [
    "import duckdb\n",
    "\n",
    "conn = duckdb.connect()\n",
    "conn.execute('''\n",
    "  CREATE SECRET hf_token (\n",
    "    TYPE HUGGINGFACE,\n",
    "    PROVIDER CREDENTIAL_CHAIN\n",
    "  );\n",
    "''')\n",
    "conn.execute('''\n",
    "  SELECT \n",
    "    *\n",
    "  FROM \n",
    "    'hf://datasets/Wei-Meng/StockPrices/AMZN.csv';\n",
    "''').df()\n"
   ]
  },
  {
   "cell_type": "code",
   "execution_count": null,
   "id": "421da6c0-86c6-4a40-aab5-26045752b26a",
   "metadata": {},
   "outputs": [],
   "source": []
  }
 ],
 "metadata": {
  "kernelspec": {
   "display_name": "Python 3 (ipykernel)",
   "language": "python",
   "name": "python3"
  },
  "language_info": {
   "codemirror_mode": {
    "name": "ipython",
    "version": 3
   },
   "file_extension": ".py",
   "mimetype": "text/x-python",
   "name": "python",
   "nbconvert_exporter": "python",
   "pygments_lexer": "ipython3",
   "version": "3.12.2"
  }
 },
 "nbformat": 4,
 "nbformat_minor": 5
}
