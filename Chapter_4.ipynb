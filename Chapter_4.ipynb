{
 "cells": [
  {
   "cell_type": "code",
   "execution_count": null,
   "id": "9bcefae4",
   "metadata": {},
   "outputs": [],
   "source": [
    "# !pip install polars"
   ]
  },
  {
   "cell_type": "code",
   "execution_count": null,
   "id": "2a5e7865",
   "metadata": {},
   "outputs": [],
   "source": [
    "import polars\n",
    "polars.__version__"
   ]
  },
  {
   "cell_type": "code",
   "execution_count": null,
   "id": "8f0cd253",
   "metadata": {},
   "outputs": [],
   "source": [
    "import polars as pl\n",
    "\n",
    "df = pl.DataFrame(\n",
    "     {\n",
    "         'Model': ['Camry','Corolla','RAV4',\n",
    "                   'Mustang','F-150','Escape',\n",
    "                   'Golf','Tiguan'],\n",
    "         'Year': [1982,1966,1994,1964,1975,2000,1974,2007],   \n",
    "         'Engine_Min':[2.5,1.8,2.0,2.3,2.7,1.5,1.0,1.4],\n",
    "         'Engine_Max':[3.5,2.0,2.5,5.0,5.0,2.5,2.0,2.0],\n",
    "         'AWD':[False,False,True,False,True,True,True,True],\n",
    "         'Company': ['Toyota','Toyota','Toyota','Ford',\n",
    "                     'Ford','Ford','Volkswagen','Volkswagen'],\n",
    "     }\n",
    ")\n",
    "df"
   ]
  },
  {
   "cell_type": "code",
   "execution_count": null,
   "id": "ec1bc2e7",
   "metadata": {},
   "outputs": [],
   "source": [
    "df.dtypes"
   ]
  },
  {
   "cell_type": "code",
   "execution_count": null,
   "id": "4a5af4fd",
   "metadata": {},
   "outputs": [],
   "source": [
    "df.columns"
   ]
  },
  {
   "cell_type": "code",
   "execution_count": null,
   "id": "bfffb710",
   "metadata": {},
   "outputs": [],
   "source": [
    "df.rows()"
   ]
  },
  {
   "cell_type": "markdown",
   "id": "cea96075",
   "metadata": {},
   "source": [
    "# Selecting Columns"
   ]
  },
  {
   "cell_type": "code",
   "execution_count": null,
   "id": "f5a6a5c6",
   "metadata": {},
   "outputs": [],
   "source": [
    "df.select(\n",
    "    'Model'\n",
    ")"
   ]
  },
  {
   "cell_type": "code",
   "execution_count": null,
   "id": "2f972810",
   "metadata": {},
   "outputs": [],
   "source": [
    "df['Model']    # not recommended; anti-pattern"
   ]
  },
  {
   "cell_type": "code",
   "execution_count": null,
   "id": "ea2520f1",
   "metadata": {},
   "outputs": [],
   "source": [
    "df.select(\n",
    "    ['Model','Company']\n",
    ")"
   ]
  },
  {
   "cell_type": "code",
   "execution_count": null,
   "id": "84b366ea",
   "metadata": {},
   "outputs": [],
   "source": [
    "# get all columns of type Utf8\n",
    "df.select(\n",
    "    pl.col(pl.String)\n",
    ")"
   ]
  },
  {
   "cell_type": "code",
   "execution_count": null,
   "id": "92f83455",
   "metadata": {},
   "outputs": [],
   "source": [
    "# piping together expressions\n",
    "df.select(\n",
    "    pl.col(['Year','Model','Engine_Max'])\n",
    "    .sort_by(['Engine_Max','Year'],descending = [False,True])\n",
    ")"
   ]
  },
  {
   "cell_type": "code",
   "execution_count": null,
   "id": "648def31",
   "metadata": {},
   "outputs": [],
   "source": [
    "df.select(\n",
    "    [pl.col(pl.String), 'Year']\n",
    ")"
   ]
  },
  {
   "cell_type": "markdown",
   "id": "b2afd1f6",
   "metadata": {},
   "source": [
    "# Selecting Rows"
   ]
  },
  {
   "cell_type": "code",
   "execution_count": null,
   "id": "de12b8cc",
   "metadata": {},
   "outputs": [],
   "source": [
    "df.row(0)  # get the first row"
   ]
  },
  {
   "cell_type": "code",
   "execution_count": null,
   "id": "a908c971",
   "metadata": {},
   "outputs": [],
   "source": [
    "df[1:3]  # returns the first 3 rows"
   ]
  },
  {
   "cell_type": "code",
   "execution_count": null,
   "id": "ea6cfaf6",
   "metadata": {},
   "outputs": [],
   "source": [
    "df.filter(\n",
    "    pl.col('Company') == 'Toyota'\n",
    ")"
   ]
  },
  {
   "cell_type": "code",
   "execution_count": null,
   "id": "ae6bc2f9",
   "metadata": {},
   "outputs": [],
   "source": [
    "df.filter(\n",
    "    (pl.col('Company') == 'Toyota') | (pl.col('Company') == 'Ford')\n",
    ")\n",
    "\n",
    "# parentheses are important"
   ]
  },
  {
   "cell_type": "code",
   "execution_count": null,
   "id": "3a251ddf",
   "metadata": {},
   "outputs": [],
   "source": [
    "df.filter(\n",
    "    (pl.col('Company') == 'Toyota') & (pl.col('Year') > 1980)\n",
    ")"
   ]
  },
  {
   "cell_type": "code",
   "execution_count": null,
   "id": "873d02cb",
   "metadata": {},
   "outputs": [],
   "source": [
    "df.filter(\n",
    "    ~(pl.col('Company') == 'Toyota')\n",
    ")"
   ]
  },
  {
   "cell_type": "code",
   "execution_count": null,
   "id": "a6dd1144-4e08-4085-88df-a238ac2ec4ce",
   "metadata": {},
   "outputs": [],
   "source": [
    "df.filter(\n",
    "(pl.col('Company') != 'Toyota')\n",
    ")"
   ]
  },
  {
   "cell_type": "markdown",
   "id": "726c7473",
   "metadata": {},
   "source": [
    "# Selecting Rows and Columns"
   ]
  },
  {
   "cell_type": "code",
   "execution_count": null,
   "id": "67005636",
   "metadata": {},
   "outputs": [],
   "source": [
    "df.filter(\n",
    "    pl.col('Company') == 'Toyota'\n",
    ").select(\n",
    "    'Model'\n",
    ")"
   ]
  },
  {
   "cell_type": "code",
   "execution_count": null,
   "id": "b9ac4c9d",
   "metadata": {},
   "outputs": [],
   "source": [
    "df.filter(\n",
    "    pl.col('Company') == 'Toyota'\n",
    ").select(\n",
    "    ['Model','Year']\n",
    ")"
   ]
  },
  {
   "cell_type": "code",
   "execution_count": null,
   "id": "4f305aa0",
   "metadata": {},
   "outputs": [],
   "source": [
    "df.filter(\n",
    "    pl.col('Company') == 'Toyota'\n",
    ").select(\n",
    "    '*'\n",
    ")"
   ]
  },
  {
   "cell_type": "code",
   "execution_count": null,
   "id": "0a444b1b-ac08-498a-acf4-e0369219a1b1",
   "metadata": {},
   "outputs": [],
   "source": [
    "ctx = pl.SQLContext(cars = df)\n",
    "ctx.execute(\"SELECT * FROM cars\", eager=True)"
   ]
  },
  {
   "cell_type": "code",
   "execution_count": null,
   "id": "7bf6a79a-c065-4a36-b767-86526fcfd362",
   "metadata": {},
   "outputs": [],
   "source": [
    "ctx.execute('''\n",
    "SELECT Company,\n",
    "  AVG(Engine_Min) AS avg_engine_min,\n",
    "  AVG(Engine_Max) AS avg_engine_max\n",
    "FROM cars\n",
    "GROUP BY Company;\n",
    "''', eager=True)"
   ]
  },
  {
   "cell_type": "code",
   "execution_count": null,
   "id": "50744b4d-8447-499c-9d0d-7e41fa16621f",
   "metadata": {},
   "outputs": [],
   "source": [
    "import pandas as pd\n",
    "df = pd.read_csv('flights.csv')\n",
    "df"
   ]
  },
  {
   "cell_type": "code",
   "execution_count": null,
   "id": "2ca5cbbb-f173-4d56-887b-7b39524bad7c",
   "metadata": {},
   "outputs": [],
   "source": [
    "df = pd.read_csv('flights.csv')\n",
    "df = df[(df['MONTH'] == 5) &\n",
    "        (df['ORIGIN_AIRPORT'] == 'SFO') &\n",
    "        (df['DESTINATION_AIRPORT'] == 'SEA')]\n",
    "df"
   ]
  },
  {
   "cell_type": "code",
   "execution_count": null,
   "id": "6e81d17d",
   "metadata": {},
   "outputs": [],
   "source": [
    "# for mac\n",
    "!brew install graphviz"
   ]
  },
  {
   "cell_type": "code",
   "execution_count": null,
   "id": "3febb77b",
   "metadata": {},
   "outputs": [],
   "source": [
    "import polars as pl\n",
    "q = (\n",
    "    pl.scan_csv('flights.csv')    \n",
    ")\n",
    "type(q)"
   ]
  },
  {
   "cell_type": "code",
   "execution_count": null,
   "id": "3729321d-4057-4409-9818-a582db6af3de",
   "metadata": {},
   "outputs": [],
   "source": [
    "df = pl.read_csv('flights.csv')\n",
    "type(df)"
   ]
  },
  {
   "cell_type": "code",
   "execution_count": null,
   "id": "fc906930-cab3-4358-bc99-83cee2cd4bc0",
   "metadata": {},
   "outputs": [],
   "source": [
    "q = pl.scan_csv('flights.csv')\n",
    "q = q.select(['MONTH', 'ORIGIN_AIRPORT','DESTINATION_AIRPORT'])\n",
    "q = q.filter(\n",
    "    (pl.col('MONTH') == 5) &\n",
    "    (pl.col('ORIGIN_AIRPORT') == 'SFO') &\n",
    "    (pl.col('DESTINATION_AIRPORT') == 'SEA'))"
   ]
  },
  {
   "cell_type": "code",
   "execution_count": null,
   "id": "078129aa-3581-4546-93b4-a03dfbce1d3c",
   "metadata": {},
   "outputs": [],
   "source": [
    "q = (\n",
    "pl.scan_csv('flights.csv')\n",
    ".select(['MONTH', 'ORIGIN_AIRPORT','DESTINATION_AIRPORT'])\n",
    ".filter(\n",
    "    (pl.col('MONTH') == 5) &\n",
    "    (pl.col('ORIGIN_AIRPORT') == 'SFO') &\n",
    "    (pl.col('DESTINATION_AIRPORT') == 'SEA'))\n",
    ")"
   ]
  },
  {
   "cell_type": "code",
   "execution_count": null,
   "id": "a3d5ceef-a591-4346-aede-0199455ce40d",
   "metadata": {},
   "outputs": [],
   "source": [
    "q.show_graph(optimized=True)"
   ]
  },
  {
   "cell_type": "code",
   "execution_count": null,
   "id": "4b95da55-23b1-4eb7-81c1-467f6b54673f",
   "metadata": {},
   "outputs": [],
   "source": [
    "q.show_graph(optimized=False)"
   ]
  },
  {
   "cell_type": "code",
   "execution_count": null,
   "id": "91c6eed0-76da-425b-84e2-91df7f6bb515",
   "metadata": {},
   "outputs": [],
   "source": [
    "q.collect()"
   ]
  },
  {
   "cell_type": "code",
   "execution_count": null,
   "id": "443b7cee-a913-4559-8f14-e3d340994354",
   "metadata": {},
   "outputs": [],
   "source": [
    "df = (\n",
    "    pl.read_csv('flights.csv')\n",
    "    .select(['MONTH', 'ORIGIN_AIRPORT','DESTINATION_AIRPORT'])\n",
    "    .filter(\n",
    "        (pl.col('MONTH') == 5) &\n",
    "        (pl.col('ORIGIN_AIRPORT') == 'SFO') &\n",
    "        (pl.col('DESTINATION_AIRPORT') == 'SEA'))\n",
    ")\n",
    "df"
   ]
  },
  {
   "cell_type": "code",
   "execution_count": null,
   "id": "50f2ae41-eab6-4635-8057-e7cc60449072",
   "metadata": {},
   "outputs": [],
   "source": [
    "q = (\n",
    "    pl.read_csv('flights.csv')\n",
    "    .lazy()\n",
    "    .select(['MONTH', 'ORIGIN_AIRPORT','DESTINATION_AIRPORT'])\n",
    "    .filter(\n",
    "        (pl.col('MONTH') == 5) &\n",
    "        (pl.col('ORIGIN_AIRPORT') == 'SFO') &\n",
    "        (pl.col('DESTINATION_AIRPORT') == 'SEA'))\n",
    ")\n",
    "df = q.collect()\n",
    "display(df)"
   ]
  },
  {
   "cell_type": "code",
   "execution_count": null,
   "id": "312dbfa1-51bf-4ebf-859e-bd89c5d82896",
   "metadata": {},
   "outputs": [],
   "source": [
    "import polars as pl\n",
    "df = pl.DataFrame(\n",
    "    {\n",
    "        'Model': ['Camry','Corolla','RAV4',\n",
    "                  'Mustang','F-150','Escape',\n",
    "                  'Golf','Tiguan'],\n",
    "        'Year': [1982,1966,1994,1964,1975,2000,1974,2007],\n",
    "        'Engine_Min':[2.5,1.8,2.0,2.3,2.7,1.5,1.0,1.4],\n",
    "        'Engine_Max':[3.5,2.0,2.5,5.0,5.0,2.5,2.0,2.0],\n",
    "        'AWD':[False,False,True,False,True,True,True,True],\n",
    "        'Company': ['Toyota','Toyota','Toyota','Ford',\n",
    "        'Ford','Ford','Volkswagen','Volkswagen'],\n",
    "    }\n",
    ")    "
   ]
  },
  {
   "cell_type": "code",
   "execution_count": null,
   "id": "120cea16-2697-4e90-b786-cfde532d793f",
   "metadata": {},
   "outputs": [],
   "source": [
    "!pip install pyarrow"
   ]
  },
  {
   "cell_type": "code",
   "execution_count": null,
   "id": "75f9e3f5-9cc8-4ef7-91f0-b12563a31bda",
   "metadata": {},
   "outputs": [],
   "source": [
    "import duckdb\n",
    "result = duckdb.sql('''\n",
    "  SELECT \n",
    "    *\n",
    "  FROM df\n",
    "''')\n",
    "result"
   ]
  },
  {
   "cell_type": "code",
   "execution_count": null,
   "id": "baa43524-bb3e-419f-8fac-d35b19fe0556",
   "metadata": {},
   "outputs": [],
   "source": [
    "result.pl()"
   ]
  },
  {
   "cell_type": "code",
   "execution_count": null,
   "id": "3f91ebe9-aec1-4cef-a5c0-48ab4cfa4e43",
   "metadata": {},
   "outputs": [],
   "source": [
    "result.describe()"
   ]
  },
  {
   "cell_type": "code",
   "execution_count": null,
   "id": "32e09615-50da-4840-a023-32cdf3276eb0",
   "metadata": {},
   "outputs": [],
   "source": [
    "result.order('Year')"
   ]
  },
  {
   "cell_type": "code",
   "execution_count": null,
   "id": "1170b163-fce7-4144-9fc7-175e758e68d5",
   "metadata": {},
   "outputs": [],
   "source": [
    "result.order('Year DESC')"
   ]
  },
  {
   "cell_type": "code",
   "execution_count": null,
   "id": "682b2c93-e4d7-4219-8600-55a293c4cdb8",
   "metadata": {},
   "outputs": [],
   "source": [
    "result.apply('min', 'Year')"
   ]
  },
  {
   "cell_type": "code",
   "execution_count": null,
   "id": "be3cf755-fc14-4f1c-b87c-2c77c9389e74",
   "metadata": {},
   "outputs": [],
   "source": [
    "duckdb.sql('''\n",
    "  SELECT Company, Model\n",
    "  FROM df\n",
    "  ORDER by Company, Model\n",
    "''').pl()"
   ]
  },
  {
   "cell_type": "code",
   "execution_count": null,
   "id": "69ecc2ee-01e5-4686-b092-5f792321d5e5",
   "metadata": {},
   "outputs": [],
   "source": [
    "duckdb.sql('''\n",
    "  SELECT Company, count(Model) as count\n",
    "  FROM df\n",
    "  GROUP BY Company\n",
    "''').pl()"
   ]
  },
  {
   "cell_type": "code",
   "execution_count": null,
   "id": "605d8a57-6ebf-49c6-9787-804282bf383d",
   "metadata": {},
   "outputs": [],
   "source": [
    "result.pl().select(\n",
    "    pl.col('Company').value_counts()\n",
    ").unnest('Company')"
   ]
  },
  {
   "cell_type": "code",
   "execution_count": null,
   "id": "0d000cac-f81c-4bae-9a8b-6ca9d09d5c30",
   "metadata": {},
   "outputs": [],
   "source": [
    "import duckdb\n",
    "conn = duckdb.connect()\n",
    "conn.execute('''\n",
    "  CREATE TABLE customers\n",
    "    (customer_id INTEGER PRIMARY KEY, name STRING)\n",
    "''')\n",
    "conn.execute('''\n",
    "  CREATE TABLE products\n",
    "    (product_id INTEGER PRIMARY KEY, product_name STRING)\n",
    "''')\n",
    "conn.execute('''\n",
    "  CREATE TABLE sales\n",
    "    (customer_id INTEGER, product_id INTEGER, qty INTEGER,\n",
    "  PRIMARY KEY(customer_id,product_id))\n",
    "''')"
   ]
  },
  {
   "cell_type": "code",
   "execution_count": null,
   "id": "d9ccd4fd-2e67-4f89-97bc-687c7dbe5318",
   "metadata": {},
   "outputs": [],
   "source": [
    "customers_relation = conn.table('customers')"
   ]
  },
  {
   "cell_type": "code",
   "execution_count": null,
   "id": "f27e4d24-e104-44fc-a020-087c1de118c4",
   "metadata": {},
   "outputs": [],
   "source": [
    "# convert to a pandas DataFrame\n",
    "customers_relation.df()\n",
    "\n",
    "# convert to a Polars DataFrame\n",
    "customers_relation.pl()"
   ]
  },
  {
   "cell_type": "code",
   "execution_count": null,
   "id": "18b30f50-9c82-48e9-ab11-69393818bb06",
   "metadata": {},
   "outputs": [],
   "source": [
    "customers_relation.insert([1, 'Alice'])\n",
    "customers_relation.insert([2, 'Bob'])\n",
    "customers_relation.insert([3, 'Charlie'])"
   ]
  },
  {
   "cell_type": "code",
   "execution_count": null,
   "id": "81cf8d3c-34f1-47bc-ba83-ef4a0b250042",
   "metadata": {},
   "outputs": [],
   "source": [
    "products_relation = conn.table('products')\n",
    "products_relation.insert([10, 'Paperclips'])\n",
    "products_relation.insert([20, 'Staple'])\n",
    "products_relation.insert([30, 'Notebook'])\n",
    "sales_relation = conn.table(\"sales\")\n",
    "sales_relation.insert([1,20,1])\n",
    "sales_relation.insert([1,10,2])\n",
    "sales_relation.insert([2,30,7])\n",
    "sales_relation.insert([3,10,3])\n",
    "sales_relation.insert([3,20,2])"
   ]
  },
  {
   "cell_type": "code",
   "execution_count": null,
   "id": "8adfe904-291f-4578-bd04-40cad9028f96",
   "metadata": {},
   "outputs": [],
   "source": [
    "result = customers_relation.join(\n",
    "    sales_relation,\n",
    "    condition = \"customer_id\",\n",
    "    how = \"inner\"\n",
    ").join(\n",
    "    products_relation,\n",
    "    condition = \"product_id\",\n",
    "    how = \"inner\"\n",
    ")    "
   ]
  },
  {
   "cell_type": "code",
   "execution_count": null,
   "id": "0dae47cb-5821-4c13-bbfc-9a371e68fd65",
   "metadata": {},
   "outputs": [],
   "source": [
    "result"
   ]
  },
  {
   "cell_type": "code",
   "execution_count": null,
   "id": "6093c983-ec73-4b79-bfa0-830f587a04d6",
   "metadata": {},
   "outputs": [],
   "source": [
    "result.filter('customer_id = 1')"
   ]
  },
  {
   "cell_type": "code",
   "execution_count": null,
   "id": "a9ac1a55-c762-492c-b5b0-42faabfcb7d9",
   "metadata": {},
   "outputs": [],
   "source": [
    "# execute a query on the result to fetch and print the joined data\n",
    "conn.execute('''\n",
    "  SELECT *\n",
    "  FROM result\n",
    "  WHERE customer_id = 1\n",
    "''').pl()"
   ]
  },
  {
   "cell_type": "code",
   "execution_count": null,
   "id": "b5178ef6-b987-417c-a993-850e9cc93133",
   "metadata": {},
   "outputs": [],
   "source": [
    "result.aggregate('customer_id, MAX(name) AS Name, ' +\n",
    "                 'SUM(qty) as \"Total Qty\"',\n",
    "                 'customer_id')"
   ]
  },
  {
   "cell_type": "code",
   "execution_count": null,
   "id": "d2eec42b-8b71-473d-a942-9751c87c9dff",
   "metadata": {},
   "outputs": [],
   "source": [
    "result.project('name, qty, product_name')"
   ]
  },
  {
   "cell_type": "code",
   "execution_count": null,
   "id": "1455f549-1852-4e9c-a3dc-1f17d7b2ede3",
   "metadata": {},
   "outputs": [],
   "source": [
    "result.limit(3)"
   ]
  },
  {
   "cell_type": "code",
   "execution_count": null,
   "id": "1ad7c768-202b-4583-b528-563664e532b4",
   "metadata": {},
   "outputs": [],
   "source": [
    "result.limit(3,2) # display 3 rows, starting at offset 2 (third row)"
   ]
  },
  {
   "cell_type": "code",
   "execution_count": null,
   "id": "17e5b8ca-ce1f-4d57-ad5b-d17bb46d135b",
   "metadata": {},
   "outputs": [],
   "source": []
  }
 ],
 "metadata": {
  "kernelspec": {
   "display_name": "Python 3 (ipykernel)",
   "language": "python",
   "name": "python3"
  },
  "language_info": {
   "codemirror_mode": {
    "name": "ipython",
    "version": 3
   },
   "file_extension": ".py",
   "mimetype": "text/x-python",
   "name": "python",
   "nbconvert_exporter": "python",
   "pygments_lexer": "ipython3",
   "version": "3.12.2"
  }
 },
 "nbformat": 4,
 "nbformat_minor": 5
}
