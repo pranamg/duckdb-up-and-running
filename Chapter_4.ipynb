{
 "cells": [
  {
   "cell_type": "markdown",
   "id": "461494e7",
   "metadata": {},
   "source": [
    "# Using DuckDB with Polars"
   ]
  },
  {
   "cell_type": "markdown",
   "id": "58def9b3",
   "metadata": {},
   "source": [
    "## Introduction to Polars"
   ]
  },
  {
   "cell_type": "code",
   "execution_count": 1,
   "id": "9bcefae4",
   "metadata": {},
   "outputs": [
    {
     "name": "stdout",
     "output_type": "stream",
     "text": [
      "Collecting polars\n",
      "  Downloading polars-1.33.1-cp39-abi3-manylinux_2_17_x86_64.manylinux2014_x86_64.whl.metadata (15 kB)\n",
      "Downloading polars-1.33.1-cp39-abi3-manylinux_2_17_x86_64.manylinux2014_x86_64.whl (39.7 MB)\n",
      "\u001b[2K   \u001b[90m━━━━━━━━━━━━━━━━━━━━━━━━━━━━━━━━━━━━━━━━\u001b[0m \u001b[32m39.7/39.7 MB\u001b[0m \u001b[31m32.0 MB/s\u001b[0m  \u001b[33m0:00:01\u001b[0mm0:00:01\u001b[0m00:01\u001b[0m\n",
      "\u001b[?25hInstalling collected packages: polars\n",
      "Successfully installed polars-1.33.1\n",
      "Note: you may need to restart the kernel to use updated packages.\n"
     ]
    }
   ],
   "source": [
    "%pip install polars"
   ]
  },
  {
   "cell_type": "code",
   "execution_count": null,
   "id": "2a5e7865",
   "metadata": {},
   "outputs": [
    {
     "data": {
      "text/plain": [
       "'1.33.1'"
      ]
     },
     "execution_count": 1,
     "metadata": {},
     "output_type": "execute_result"
    }
   ],
   "source": [
    "import polars\n",
    "polars.__version__"
   ]
  },
  {
   "cell_type": "markdown",
   "id": "2031409a",
   "metadata": {},
   "source": [
    "## Creating a Polars Dataframe"
   ]
  },
  {
   "cell_type": "code",
   "execution_count": null,
   "id": "8f0cd253",
   "metadata": {},
   "outputs": [
    {
     "data": {
      "text/html": [
       "<div><style>\n",
       ".dataframe > thead > tr,\n",
       ".dataframe > tbody > tr {\n",
       "  text-align: right;\n",
       "  white-space: pre-wrap;\n",
       "}\n",
       "</style>\n",
       "<small>shape: (8, 6)</small><table border=\"1\" class=\"dataframe\"><thead><tr><th>Model</th><th>Year</th><th>Engine_Min</th><th>Engine_Max</th><th>AWD</th><th>Company</th></tr><tr><td>str</td><td>i64</td><td>f64</td><td>f64</td><td>bool</td><td>str</td></tr></thead><tbody><tr><td>&quot;Camry&quot;</td><td>1982</td><td>2.5</td><td>3.5</td><td>false</td><td>&quot;Toyota&quot;</td></tr><tr><td>&quot;Corolla&quot;</td><td>1966</td><td>1.8</td><td>2.0</td><td>false</td><td>&quot;Toyota&quot;</td></tr><tr><td>&quot;RAV4&quot;</td><td>1994</td><td>2.0</td><td>2.5</td><td>true</td><td>&quot;Toyota&quot;</td></tr><tr><td>&quot;Mustang&quot;</td><td>1964</td><td>2.3</td><td>5.0</td><td>false</td><td>&quot;Ford&quot;</td></tr><tr><td>&quot;F-150&quot;</td><td>1975</td><td>2.7</td><td>5.0</td><td>true</td><td>&quot;Ford&quot;</td></tr><tr><td>&quot;Escape&quot;</td><td>2000</td><td>1.5</td><td>2.5</td><td>true</td><td>&quot;Ford&quot;</td></tr><tr><td>&quot;Golf&quot;</td><td>1974</td><td>1.0</td><td>2.0</td><td>true</td><td>&quot;Volkswagen&quot;</td></tr><tr><td>&quot;Tiguan&quot;</td><td>2007</td><td>1.4</td><td>2.0</td><td>true</td><td>&quot;Volkswagen&quot;</td></tr></tbody></table></div>"
      ],
      "text/plain": [
       "shape: (8, 6)\n",
       "┌─────────┬──────┬────────────┬────────────┬───────┬────────────┐\n",
       "│ Model   ┆ Year ┆ Engine_Min ┆ Engine_Max ┆ AWD   ┆ Company    │\n",
       "│ ---     ┆ ---  ┆ ---        ┆ ---        ┆ ---   ┆ ---        │\n",
       "│ str     ┆ i64  ┆ f64        ┆ f64        ┆ bool  ┆ str        │\n",
       "╞═════════╪══════╪════════════╪════════════╪═══════╪════════════╡\n",
       "│ Camry   ┆ 1982 ┆ 2.5        ┆ 3.5        ┆ false ┆ Toyota     │\n",
       "│ Corolla ┆ 1966 ┆ 1.8        ┆ 2.0        ┆ false ┆ Toyota     │\n",
       "│ RAV4    ┆ 1994 ┆ 2.0        ┆ 2.5        ┆ true  ┆ Toyota     │\n",
       "│ Mustang ┆ 1964 ┆ 2.3        ┆ 5.0        ┆ false ┆ Ford       │\n",
       "│ F-150   ┆ 1975 ┆ 2.7        ┆ 5.0        ┆ true  ┆ Ford       │\n",
       "│ Escape  ┆ 2000 ┆ 1.5        ┆ 2.5        ┆ true  ┆ Ford       │\n",
       "│ Golf    ┆ 1974 ┆ 1.0        ┆ 2.0        ┆ true  ┆ Volkswagen │\n",
       "│ Tiguan  ┆ 2007 ┆ 1.4        ┆ 2.0        ┆ true  ┆ Volkswagen │\n",
       "└─────────┴──────┴────────────┴────────────┴───────┴────────────┘"
      ]
     },
     "execution_count": 2,
     "metadata": {},
     "output_type": "execute_result"
    }
   ],
   "source": [
    "import polars as pl\n",
    "\n",
    "df = pl.DataFrame(\n",
    "     {\n",
    "         'Model': ['Camry','Corolla','RAV4',\n",
    "                   'Mustang','F-150','Escape',\n",
    "                   'Golf','Tiguan'],\n",
    "         'Year': [1982,1966,1994,1964,1975,2000,1974,2007],   \n",
    "         'Engine_Min':[2.5,1.8,2.0,2.3,2.7,1.5,1.0,1.4],\n",
    "         'Engine_Max':[3.5,2.0,2.5,5.0,5.0,2.5,2.0,2.0],\n",
    "         'AWD':[False,False,True,False,True,True,True,True],\n",
    "         'Company': ['Toyota','Toyota','Toyota','Ford',\n",
    "                     'Ford','Ford','Volkswagen','Volkswagen'],\n",
    "     }\n",
    ")\n",
    "df\n",
    "# A Polars Dataframe does not have an index.\n",
    "# Below the headers of the DataFrame are the datatypes of each column."
   ]
  },
  {
   "cell_type": "code",
   "execution_count": null,
   "id": "ec1bc2e7",
   "metadata": {},
   "outputs": [
    {
     "data": {
      "text/plain": [
       "[String, Int64, Float64, Float64, Boolean, String]"
      ]
     },
     "execution_count": 3,
     "metadata": {},
     "output_type": "execute_result"
    }
   ],
   "source": [
    "# To diplay the full name of the data type of each column in the Polars DataFrame, type:\n",
    "df.dtypes"
   ]
  },
  {
   "cell_type": "code",
   "execution_count": null,
   "id": "4a5af4fd",
   "metadata": {},
   "outputs": [
    {
     "data": {
      "text/plain": [
       "['Model', 'Year', 'Engine_Min', 'Engine_Max', 'AWD', 'Company']"
      ]
     },
     "execution_count": 4,
     "metadata": {},
     "output_type": "execute_result"
    }
   ],
   "source": [
    "# To display the column names of the Polars DataFrame, type:\n",
    "df.columns"
   ]
  },
  {
   "cell_type": "code",
   "execution_count": null,
   "id": "bfffb710",
   "metadata": {},
   "outputs": [
    {
     "data": {
      "text/plain": [
       "[('Camry', 1982, 2.5, 3.5, False, 'Toyota'),\n",
       " ('Corolla', 1966, 1.8, 2.0, False, 'Toyota'),\n",
       " ('RAV4', 1994, 2.0, 2.5, True, 'Toyota'),\n",
       " ('Mustang', 1964, 2.3, 5.0, False, 'Ford'),\n",
       " ('F-150', 1975, 2.7, 5.0, True, 'Ford'),\n",
       " ('Escape', 2000, 1.5, 2.5, True, 'Ford'),\n",
       " ('Golf', 1974, 1.0, 2.0, True, 'Volkswagen'),\n",
       " ('Tiguan', 2007, 1.4, 2.0, True, 'Volkswagen')]"
      ]
     },
     "execution_count": 5,
     "metadata": {},
     "output_type": "execute_result"
    }
   ],
   "source": [
    "# To display the data in the Polars DataFrame as a list of tuples, type:\n",
    "df.rows()"
   ]
  },
  {
   "cell_type": "markdown",
   "id": "cea96075",
   "metadata": {},
   "source": [
    "### Selecting Columns"
   ]
  },
  {
   "cell_type": "code",
   "execution_count": null,
   "id": "f5a6a5c6",
   "metadata": {},
   "outputs": [
    {
     "data": {
      "text/html": [
       "<div><style>\n",
       ".dataframe > thead > tr,\n",
       ".dataframe > tbody > tr {\n",
       "  text-align: right;\n",
       "  white-space: pre-wrap;\n",
       "}\n",
       "</style>\n",
       "<small>shape: (8, 1)</small><table border=\"1\" class=\"dataframe\"><thead><tr><th>Model</th></tr><tr><td>str</td></tr></thead><tbody><tr><td>&quot;Camry&quot;</td></tr><tr><td>&quot;Corolla&quot;</td></tr><tr><td>&quot;RAV4&quot;</td></tr><tr><td>&quot;Mustang&quot;</td></tr><tr><td>&quot;F-150&quot;</td></tr><tr><td>&quot;Escape&quot;</td></tr><tr><td>&quot;Golf&quot;</td></tr><tr><td>&quot;Tiguan&quot;</td></tr></tbody></table></div>"
      ],
      "text/plain": [
       "shape: (8, 1)\n",
       "┌─────────┐\n",
       "│ Model   │\n",
       "│ ---     │\n",
       "│ str     │\n",
       "╞═════════╡\n",
       "│ Camry   │\n",
       "│ Corolla │\n",
       "│ RAV4    │\n",
       "│ Mustang │\n",
       "│ F-150   │\n",
       "│ Escape  │\n",
       "│ Golf    │\n",
       "│ Tiguan  │\n",
       "└─────────┘"
      ]
     },
     "execution_count": 6,
     "metadata": {},
     "output_type": "execute_result"
    }
   ],
   "source": [
    "# To select a particular column in the dataframe, type:\n",
    "df.select(\n",
    "    'Model'\n",
    ")"
   ]
  },
  {
   "cell_type": "code",
   "execution_count": 7,
   "id": "2f972810",
   "metadata": {},
   "outputs": [
    {
     "data": {
      "text/html": [
       "<div><style>\n",
       ".dataframe > thead > tr,\n",
       ".dataframe > tbody > tr {\n",
       "  text-align: right;\n",
       "  white-space: pre-wrap;\n",
       "}\n",
       "</style>\n",
       "<small>shape: (8,)</small><table border=\"1\" class=\"dataframe\"><thead><tr><th>Model</th></tr><tr><td>str</td></tr></thead><tbody><tr><td>&quot;Camry&quot;</td></tr><tr><td>&quot;Corolla&quot;</td></tr><tr><td>&quot;RAV4&quot;</td></tr><tr><td>&quot;Mustang&quot;</td></tr><tr><td>&quot;F-150&quot;</td></tr><tr><td>&quot;Escape&quot;</td></tr><tr><td>&quot;Golf&quot;</td></tr><tr><td>&quot;Tiguan&quot;</td></tr></tbody></table></div>"
      ],
      "text/plain": [
       "shape: (8,)\n",
       "Series: 'Model' [str]\n",
       "[\n",
       "\t\"Camry\"\n",
       "\t\"Corolla\"\n",
       "\t\"RAV4\"\n",
       "\t\"Mustang\"\n",
       "\t\"F-150\"\n",
       "\t\"Escape\"\n",
       "\t\"Golf\"\n",
       "\t\"Tiguan\"\n",
       "]"
      ]
     },
     "execution_count": 7,
     "metadata": {},
     "output_type": "execute_result"
    }
   ],
   "source": [
    "df['Model']    # not recommended; anti-pattern"
   ]
  },
  {
   "cell_type": "code",
   "execution_count": null,
   "id": "ea2520f1",
   "metadata": {},
   "outputs": [
    {
     "data": {
      "text/html": [
       "<div><style>\n",
       ".dataframe > thead > tr,\n",
       ".dataframe > tbody > tr {\n",
       "  text-align: right;\n",
       "  white-space: pre-wrap;\n",
       "}\n",
       "</style>\n",
       "<small>shape: (8, 2)</small><table border=\"1\" class=\"dataframe\"><thead><tr><th>Model</th><th>Company</th></tr><tr><td>str</td><td>str</td></tr></thead><tbody><tr><td>&quot;Camry&quot;</td><td>&quot;Toyota&quot;</td></tr><tr><td>&quot;Corolla&quot;</td><td>&quot;Toyota&quot;</td></tr><tr><td>&quot;RAV4&quot;</td><td>&quot;Toyota&quot;</td></tr><tr><td>&quot;Mustang&quot;</td><td>&quot;Ford&quot;</td></tr><tr><td>&quot;F-150&quot;</td><td>&quot;Ford&quot;</td></tr><tr><td>&quot;Escape&quot;</td><td>&quot;Ford&quot;</td></tr><tr><td>&quot;Golf&quot;</td><td>&quot;Volkswagen&quot;</td></tr><tr><td>&quot;Tiguan&quot;</td><td>&quot;Volkswagen&quot;</td></tr></tbody></table></div>"
      ],
      "text/plain": [
       "shape: (8, 2)\n",
       "┌─────────┬────────────┐\n",
       "│ Model   ┆ Company    │\n",
       "│ ---     ┆ ---        │\n",
       "│ str     ┆ str        │\n",
       "╞═════════╪════════════╡\n",
       "│ Camry   ┆ Toyota     │\n",
       "│ Corolla ┆ Toyota     │\n",
       "│ RAV4    ┆ Toyota     │\n",
       "│ Mustang ┆ Ford       │\n",
       "│ F-150   ┆ Ford       │\n",
       "│ Escape  ┆ Ford       │\n",
       "│ Golf    ┆ Volkswagen │\n",
       "│ Tiguan  ┆ Volkswagen │\n",
       "└─────────┴────────────┘"
      ]
     },
     "execution_count": 9,
     "metadata": {},
     "output_type": "execute_result"
    }
   ],
   "source": [
    "# To select multiple columns in the dataframe, type:\n",
    "df.select(\n",
    "    ['Model','Company']\n",
    ")"
   ]
  },
  {
   "cell_type": "code",
   "execution_count": 10,
   "id": "84b366ea",
   "metadata": {},
   "outputs": [
    {
     "data": {
      "text/html": [
       "<div><style>\n",
       ".dataframe > thead > tr,\n",
       ".dataframe > tbody > tr {\n",
       "  text-align: right;\n",
       "  white-space: pre-wrap;\n",
       "}\n",
       "</style>\n",
       "<small>shape: (8, 2)</small><table border=\"1\" class=\"dataframe\"><thead><tr><th>Model</th><th>Company</th></tr><tr><td>str</td><td>str</td></tr></thead><tbody><tr><td>&quot;Camry&quot;</td><td>&quot;Toyota&quot;</td></tr><tr><td>&quot;Corolla&quot;</td><td>&quot;Toyota&quot;</td></tr><tr><td>&quot;RAV4&quot;</td><td>&quot;Toyota&quot;</td></tr><tr><td>&quot;Mustang&quot;</td><td>&quot;Ford&quot;</td></tr><tr><td>&quot;F-150&quot;</td><td>&quot;Ford&quot;</td></tr><tr><td>&quot;Escape&quot;</td><td>&quot;Ford&quot;</td></tr><tr><td>&quot;Golf&quot;</td><td>&quot;Volkswagen&quot;</td></tr><tr><td>&quot;Tiguan&quot;</td><td>&quot;Volkswagen&quot;</td></tr></tbody></table></div>"
      ],
      "text/plain": [
       "shape: (8, 2)\n",
       "┌─────────┬────────────┐\n",
       "│ Model   ┆ Company    │\n",
       "│ ---     ┆ ---        │\n",
       "│ str     ┆ str        │\n",
       "╞═════════╪════════════╡\n",
       "│ Camry   ┆ Toyota     │\n",
       "│ Corolla ┆ Toyota     │\n",
       "│ RAV4    ┆ Toyota     │\n",
       "│ Mustang ┆ Ford       │\n",
       "│ F-150   ┆ Ford       │\n",
       "│ Escape  ┆ Ford       │\n",
       "│ Golf    ┆ Volkswagen │\n",
       "│ Tiguan  ┆ Volkswagen │\n",
       "└─────────┴────────────┘"
      ]
     },
     "execution_count": 10,
     "metadata": {},
     "output_type": "execute_result"
    }
   ],
   "source": [
    "# get all columns of type Utf8\n",
    "df.select(\n",
    "    pl.col(pl.String)\n",
    ")"
   ]
  },
  {
   "cell_type": "code",
   "execution_count": 11,
   "id": "92f83455",
   "metadata": {},
   "outputs": [
    {
     "data": {
      "text/html": [
       "<div><style>\n",
       ".dataframe > thead > tr,\n",
       ".dataframe > tbody > tr {\n",
       "  text-align: right;\n",
       "  white-space: pre-wrap;\n",
       "}\n",
       "</style>\n",
       "<small>shape: (8, 3)</small><table border=\"1\" class=\"dataframe\"><thead><tr><th>Year</th><th>Model</th><th>Engine_Max</th></tr><tr><td>i64</td><td>str</td><td>f64</td></tr></thead><tbody><tr><td>2007</td><td>&quot;Tiguan&quot;</td><td>2.0</td></tr><tr><td>1974</td><td>&quot;Golf&quot;</td><td>2.0</td></tr><tr><td>1966</td><td>&quot;Corolla&quot;</td><td>2.0</td></tr><tr><td>2000</td><td>&quot;Escape&quot;</td><td>2.5</td></tr><tr><td>1994</td><td>&quot;RAV4&quot;</td><td>2.5</td></tr><tr><td>1982</td><td>&quot;Camry&quot;</td><td>3.5</td></tr><tr><td>1975</td><td>&quot;F-150&quot;</td><td>5.0</td></tr><tr><td>1964</td><td>&quot;Mustang&quot;</td><td>5.0</td></tr></tbody></table></div>"
      ],
      "text/plain": [
       "shape: (8, 3)\n",
       "┌──────┬─────────┬────────────┐\n",
       "│ Year ┆ Model   ┆ Engine_Max │\n",
       "│ ---  ┆ ---     ┆ ---        │\n",
       "│ i64  ┆ str     ┆ f64        │\n",
       "╞══════╪═════════╪════════════╡\n",
       "│ 2007 ┆ Tiguan  ┆ 2.0        │\n",
       "│ 1974 ┆ Golf    ┆ 2.0        │\n",
       "│ 1966 ┆ Corolla ┆ 2.0        │\n",
       "│ 2000 ┆ Escape  ┆ 2.5        │\n",
       "│ 1994 ┆ RAV4    ┆ 2.5        │\n",
       "│ 1982 ┆ Camry   ┆ 3.5        │\n",
       "│ 1975 ┆ F-150   ┆ 5.0        │\n",
       "│ 1964 ┆ Mustang ┆ 5.0        │\n",
       "└──────┴─────────┴────────────┘"
      ]
     },
     "execution_count": 11,
     "metadata": {},
     "output_type": "execute_result"
    }
   ],
   "source": [
    "# piping together expressions\n",
    "df.select(\n",
    "    pl.col(['Year','Model','Engine_Max'])\n",
    "    .sort_by(['Engine_Max','Year'],descending = [False,True])\n",
    ")"
   ]
  },
  {
   "cell_type": "code",
   "execution_count": 12,
   "id": "648def31",
   "metadata": {},
   "outputs": [
    {
     "data": {
      "text/html": [
       "<div><style>\n",
       ".dataframe > thead > tr,\n",
       ".dataframe > tbody > tr {\n",
       "  text-align: right;\n",
       "  white-space: pre-wrap;\n",
       "}\n",
       "</style>\n",
       "<small>shape: (8, 3)</small><table border=\"1\" class=\"dataframe\"><thead><tr><th>Model</th><th>Company</th><th>Year</th></tr><tr><td>str</td><td>str</td><td>i64</td></tr></thead><tbody><tr><td>&quot;Camry&quot;</td><td>&quot;Toyota&quot;</td><td>1982</td></tr><tr><td>&quot;Corolla&quot;</td><td>&quot;Toyota&quot;</td><td>1966</td></tr><tr><td>&quot;RAV4&quot;</td><td>&quot;Toyota&quot;</td><td>1994</td></tr><tr><td>&quot;Mustang&quot;</td><td>&quot;Ford&quot;</td><td>1964</td></tr><tr><td>&quot;F-150&quot;</td><td>&quot;Ford&quot;</td><td>1975</td></tr><tr><td>&quot;Escape&quot;</td><td>&quot;Ford&quot;</td><td>2000</td></tr><tr><td>&quot;Golf&quot;</td><td>&quot;Volkswagen&quot;</td><td>1974</td></tr><tr><td>&quot;Tiguan&quot;</td><td>&quot;Volkswagen&quot;</td><td>2007</td></tr></tbody></table></div>"
      ],
      "text/plain": [
       "shape: (8, 3)\n",
       "┌─────────┬────────────┬──────┐\n",
       "│ Model   ┆ Company    ┆ Year │\n",
       "│ ---     ┆ ---        ┆ ---  │\n",
       "│ str     ┆ str        ┆ i64  │\n",
       "╞═════════╪════════════╪══════╡\n",
       "│ Camry   ┆ Toyota     ┆ 1982 │\n",
       "│ Corolla ┆ Toyota     ┆ 1966 │\n",
       "│ RAV4    ┆ Toyota     ┆ 1994 │\n",
       "│ Mustang ┆ Ford       ┆ 1964 │\n",
       "│ F-150   ┆ Ford       ┆ 1975 │\n",
       "│ Escape  ┆ Ford       ┆ 2000 │\n",
       "│ Golf    ┆ Volkswagen ┆ 1974 │\n",
       "│ Tiguan  ┆ Volkswagen ┆ 2007 │\n",
       "└─────────┴────────────┴──────┘"
      ]
     },
     "execution_count": 12,
     "metadata": {},
     "output_type": "execute_result"
    }
   ],
   "source": [
    "df.select(\n",
    "    [pl.col(pl.String), 'Year']\n",
    ")"
   ]
  },
  {
   "cell_type": "markdown",
   "id": "b2afd1f6",
   "metadata": {},
   "source": [
    "### Selecting Rows"
   ]
  },
  {
   "cell_type": "code",
   "execution_count": 13,
   "id": "de12b8cc",
   "metadata": {},
   "outputs": [
    {
     "data": {
      "text/plain": [
       "('Camry', 1982, 2.5, 3.5, False, 'Toyota')"
      ]
     },
     "execution_count": 13,
     "metadata": {},
     "output_type": "execute_result"
    }
   ],
   "source": [
    "df.row(0)  # get the first row"
   ]
  },
  {
   "cell_type": "code",
   "execution_count": null,
   "id": "a908c971",
   "metadata": {},
   "outputs": [
    {
     "data": {
      "text/html": [
       "<div><style>\n",
       ".dataframe > thead > tr,\n",
       ".dataframe > tbody > tr {\n",
       "  text-align: right;\n",
       "  white-space: pre-wrap;\n",
       "}\n",
       "</style>\n",
       "<small>shape: (2, 6)</small><table border=\"1\" class=\"dataframe\"><thead><tr><th>Model</th><th>Year</th><th>Engine_Min</th><th>Engine_Max</th><th>AWD</th><th>Company</th></tr><tr><td>str</td><td>i64</td><td>f64</td><td>f64</td><td>bool</td><td>str</td></tr></thead><tbody><tr><td>&quot;Corolla&quot;</td><td>1966</td><td>1.8</td><td>2.0</td><td>false</td><td>&quot;Toyota&quot;</td></tr><tr><td>&quot;RAV4&quot;</td><td>1994</td><td>2.0</td><td>2.5</td><td>true</td><td>&quot;Toyota&quot;</td></tr></tbody></table></div>"
      ],
      "text/plain": [
       "shape: (2, 6)\n",
       "┌─────────┬──────┬────────────┬────────────┬───────┬─────────┐\n",
       "│ Model   ┆ Year ┆ Engine_Min ┆ Engine_Max ┆ AWD   ┆ Company │\n",
       "│ ---     ┆ ---  ┆ ---        ┆ ---        ┆ ---   ┆ ---     │\n",
       "│ str     ┆ i64  ┆ f64        ┆ f64        ┆ bool  ┆ str     │\n",
       "╞═════════╪══════╪════════════╪════════════╪═══════╪═════════╡\n",
       "│ Corolla ┆ 1966 ┆ 1.8        ┆ 2.0        ┆ false ┆ Toyota  │\n",
       "│ RAV4    ┆ 1994 ┆ 2.0        ┆ 2.5        ┆ true  ┆ Toyota  │\n",
       "└─────────┴──────┴────────────┴────────────┴───────┴─────────┘"
      ]
     },
     "execution_count": 14,
     "metadata": {},
     "output_type": "execute_result"
    }
   ],
   "source": [
    "df[1:3]  # returns the second and third rows"
   ]
  },
  {
   "cell_type": "code",
   "execution_count": null,
   "id": "7a0acbaa",
   "metadata": {},
   "outputs": [
    {
     "data": {
      "text/html": [
       "<div><style>\n",
       ".dataframe > thead > tr,\n",
       ".dataframe > tbody > tr {\n",
       "  text-align: right;\n",
       "  white-space: pre-wrap;\n",
       "}\n",
       "</style>\n",
       "<small>shape: (5, 6)</small><table border=\"1\" class=\"dataframe\"><thead><tr><th>Model</th><th>Year</th><th>Engine_Min</th><th>Engine_Max</th><th>AWD</th><th>Company</th></tr><tr><td>str</td><td>i64</td><td>f64</td><td>f64</td><td>bool</td><td>str</td></tr></thead><tbody><tr><td>&quot;Camry&quot;</td><td>1982</td><td>2.5</td><td>3.5</td><td>false</td><td>&quot;Toyota&quot;</td></tr><tr><td>&quot;Corolla&quot;</td><td>1966</td><td>1.8</td><td>2.0</td><td>false</td><td>&quot;Toyota&quot;</td></tr><tr><td>&quot;RAV4&quot;</td><td>1994</td><td>2.0</td><td>2.5</td><td>true</td><td>&quot;Toyota&quot;</td></tr><tr><td>&quot;Mustang&quot;</td><td>1964</td><td>2.3</td><td>5.0</td><td>false</td><td>&quot;Ford&quot;</td></tr><tr><td>&quot;F-150&quot;</td><td>1975</td><td>2.7</td><td>5.0</td><td>true</td><td>&quot;Ford&quot;</td></tr></tbody></table></div>"
      ],
      "text/plain": [
       "shape: (5, 6)\n",
       "┌─────────┬──────┬────────────┬────────────┬───────┬─────────┐\n",
       "│ Model   ┆ Year ┆ Engine_Min ┆ Engine_Max ┆ AWD   ┆ Company │\n",
       "│ ---     ┆ ---  ┆ ---        ┆ ---        ┆ ---   ┆ ---     │\n",
       "│ str     ┆ i64  ┆ f64        ┆ f64        ┆ bool  ┆ str     │\n",
       "╞═════════╪══════╪════════════╪════════════╪═══════╪═════════╡\n",
       "│ Camry   ┆ 1982 ┆ 2.5        ┆ 3.5        ┆ false ┆ Toyota  │\n",
       "│ Corolla ┆ 1966 ┆ 1.8        ┆ 2.0        ┆ false ┆ Toyota  │\n",
       "│ RAV4    ┆ 1994 ┆ 2.0        ┆ 2.5        ┆ true  ┆ Toyota  │\n",
       "│ Mustang ┆ 1964 ┆ 2.3        ┆ 5.0        ┆ false ┆ Ford    │\n",
       "│ F-150   ┆ 1975 ┆ 2.7        ┆ 5.0        ┆ true  ┆ Ford    │\n",
       "└─────────┴──────┴────────────┴────────────┴───────┴─────────┘"
      ]
     },
     "execution_count": 16,
     "metadata": {},
     "output_type": "execute_result"
    }
   ],
   "source": [
    "df.head() # top 5 rows"
   ]
  },
  {
   "cell_type": "code",
   "execution_count": null,
   "id": "ec5277cb",
   "metadata": {},
   "outputs": [
    {
     "data": {
      "text/html": [
       "<div><style>\n",
       ".dataframe > thead > tr,\n",
       ".dataframe > tbody > tr {\n",
       "  text-align: right;\n",
       "  white-space: pre-wrap;\n",
       "}\n",
       "</style>\n",
       "<small>shape: (5, 6)</small><table border=\"1\" class=\"dataframe\"><thead><tr><th>Model</th><th>Year</th><th>Engine_Min</th><th>Engine_Max</th><th>AWD</th><th>Company</th></tr><tr><td>str</td><td>i64</td><td>f64</td><td>f64</td><td>bool</td><td>str</td></tr></thead><tbody><tr><td>&quot;Mustang&quot;</td><td>1964</td><td>2.3</td><td>5.0</td><td>false</td><td>&quot;Ford&quot;</td></tr><tr><td>&quot;F-150&quot;</td><td>1975</td><td>2.7</td><td>5.0</td><td>true</td><td>&quot;Ford&quot;</td></tr><tr><td>&quot;Escape&quot;</td><td>2000</td><td>1.5</td><td>2.5</td><td>true</td><td>&quot;Ford&quot;</td></tr><tr><td>&quot;Golf&quot;</td><td>1974</td><td>1.0</td><td>2.0</td><td>true</td><td>&quot;Volkswagen&quot;</td></tr><tr><td>&quot;Tiguan&quot;</td><td>2007</td><td>1.4</td><td>2.0</td><td>true</td><td>&quot;Volkswagen&quot;</td></tr></tbody></table></div>"
      ],
      "text/plain": [
       "shape: (5, 6)\n",
       "┌─────────┬──────┬────────────┬────────────┬───────┬────────────┐\n",
       "│ Model   ┆ Year ┆ Engine_Min ┆ Engine_Max ┆ AWD   ┆ Company    │\n",
       "│ ---     ┆ ---  ┆ ---        ┆ ---        ┆ ---   ┆ ---        │\n",
       "│ str     ┆ i64  ┆ f64        ┆ f64        ┆ bool  ┆ str        │\n",
       "╞═════════╪══════╪════════════╪════════════╪═══════╪════════════╡\n",
       "│ Mustang ┆ 1964 ┆ 2.3        ┆ 5.0        ┆ false ┆ Ford       │\n",
       "│ F-150   ┆ 1975 ┆ 2.7        ┆ 5.0        ┆ true  ┆ Ford       │\n",
       "│ Escape  ┆ 2000 ┆ 1.5        ┆ 2.5        ┆ true  ┆ Ford       │\n",
       "│ Golf    ┆ 1974 ┆ 1.0        ┆ 2.0        ┆ true  ┆ Volkswagen │\n",
       "│ Tiguan  ┆ 2007 ┆ 1.4        ┆ 2.0        ┆ true  ┆ Volkswagen │\n",
       "└─────────┴──────┴────────────┴────────────┴───────┴────────────┘"
      ]
     },
     "execution_count": 17,
     "metadata": {},
     "output_type": "execute_result"
    }
   ],
   "source": [
    "df.tail() # bottom 5 rows"
   ]
  },
  {
   "cell_type": "code",
   "execution_count": 18,
   "id": "8fee2fe1",
   "metadata": {},
   "outputs": [
    {
     "data": {
      "text/html": [
       "<div><style>\n",
       ".dataframe > thead > tr,\n",
       ".dataframe > tbody > tr {\n",
       "  text-align: right;\n",
       "  white-space: pre-wrap;\n",
       "}\n",
       "</style>\n",
       "<small>shape: (3, 6)</small><table border=\"1\" class=\"dataframe\"><thead><tr><th>Model</th><th>Year</th><th>Engine_Min</th><th>Engine_Max</th><th>AWD</th><th>Company</th></tr><tr><td>str</td><td>i64</td><td>f64</td><td>f64</td><td>bool</td><td>str</td></tr></thead><tbody><tr><td>&quot;Tiguan&quot;</td><td>2007</td><td>1.4</td><td>2.0</td><td>true</td><td>&quot;Volkswagen&quot;</td></tr><tr><td>&quot;Corolla&quot;</td><td>1966</td><td>1.8</td><td>2.0</td><td>false</td><td>&quot;Toyota&quot;</td></tr><tr><td>&quot;Camry&quot;</td><td>1982</td><td>2.5</td><td>3.5</td><td>false</td><td>&quot;Toyota&quot;</td></tr></tbody></table></div>"
      ],
      "text/plain": [
       "shape: (3, 6)\n",
       "┌─────────┬──────┬────────────┬────────────┬───────┬────────────┐\n",
       "│ Model   ┆ Year ┆ Engine_Min ┆ Engine_Max ┆ AWD   ┆ Company    │\n",
       "│ ---     ┆ ---  ┆ ---        ┆ ---        ┆ ---   ┆ ---        │\n",
       "│ str     ┆ i64  ┆ f64        ┆ f64        ┆ bool  ┆ str        │\n",
       "╞═════════╪══════╪════════════╪════════════╪═══════╪════════════╡\n",
       "│ Tiguan  ┆ 2007 ┆ 1.4        ┆ 2.0        ┆ true  ┆ Volkswagen │\n",
       "│ Corolla ┆ 1966 ┆ 1.8        ┆ 2.0        ┆ false ┆ Toyota     │\n",
       "│ Camry   ┆ 1982 ┆ 2.5        ┆ 3.5        ┆ false ┆ Toyota     │\n",
       "└─────────┴──────┴────────────┴────────────┴───────┴────────────┘"
      ]
     },
     "execution_count": 18,
     "metadata": {},
     "output_type": "execute_result"
    }
   ],
   "source": [
    "df.sample(3)  # get 3 random rows"
   ]
  },
  {
   "cell_type": "code",
   "execution_count": null,
   "id": "ea6cfaf6",
   "metadata": {},
   "outputs": [
    {
     "data": {
      "text/html": [
       "<div><style>\n",
       ".dataframe > thead > tr,\n",
       ".dataframe > tbody > tr {\n",
       "  text-align: right;\n",
       "  white-space: pre-wrap;\n",
       "}\n",
       "</style>\n",
       "<small>shape: (3, 6)</small><table border=\"1\" class=\"dataframe\"><thead><tr><th>Model</th><th>Year</th><th>Engine_Min</th><th>Engine_Max</th><th>AWD</th><th>Company</th></tr><tr><td>str</td><td>i64</td><td>f64</td><td>f64</td><td>bool</td><td>str</td></tr></thead><tbody><tr><td>&quot;Camry&quot;</td><td>1982</td><td>2.5</td><td>3.5</td><td>false</td><td>&quot;Toyota&quot;</td></tr><tr><td>&quot;Corolla&quot;</td><td>1966</td><td>1.8</td><td>2.0</td><td>false</td><td>&quot;Toyota&quot;</td></tr><tr><td>&quot;RAV4&quot;</td><td>1994</td><td>2.0</td><td>2.5</td><td>true</td><td>&quot;Toyota&quot;</td></tr></tbody></table></div>"
      ],
      "text/plain": [
       "shape: (3, 6)\n",
       "┌─────────┬──────┬────────────┬────────────┬───────┬─────────┐\n",
       "│ Model   ┆ Year ┆ Engine_Min ┆ Engine_Max ┆ AWD   ┆ Company │\n",
       "│ ---     ┆ ---  ┆ ---        ┆ ---        ┆ ---   ┆ ---     │\n",
       "│ str     ┆ i64  ┆ f64        ┆ f64        ┆ bool  ┆ str     │\n",
       "╞═════════╪══════╪════════════╪════════════╪═══════╪═════════╡\n",
       "│ Camry   ┆ 1982 ┆ 2.5        ┆ 3.5        ┆ false ┆ Toyota  │\n",
       "│ Corolla ┆ 1966 ┆ 1.8        ┆ 2.0        ┆ false ┆ Toyota  │\n",
       "│ RAV4    ┆ 1994 ┆ 2.0        ┆ 2.5        ┆ true  ┆ Toyota  │\n",
       "└─────────┴──────┴────────────┴────────────┴───────┴─────────┘"
      ]
     },
     "execution_count": 15,
     "metadata": {},
     "output_type": "execute_result"
    }
   ],
   "source": [
    "# filter columms based on a condition\n",
    "df.filter(\n",
    "    pl.col('Company') == 'Toyota'\n",
    ")"
   ]
  },
  {
   "cell_type": "code",
   "execution_count": 19,
   "id": "ae6bc2f9",
   "metadata": {},
   "outputs": [
    {
     "data": {
      "text/html": [
       "<div><style>\n",
       ".dataframe > thead > tr,\n",
       ".dataframe > tbody > tr {\n",
       "  text-align: right;\n",
       "  white-space: pre-wrap;\n",
       "}\n",
       "</style>\n",
       "<small>shape: (6, 6)</small><table border=\"1\" class=\"dataframe\"><thead><tr><th>Model</th><th>Year</th><th>Engine_Min</th><th>Engine_Max</th><th>AWD</th><th>Company</th></tr><tr><td>str</td><td>i64</td><td>f64</td><td>f64</td><td>bool</td><td>str</td></tr></thead><tbody><tr><td>&quot;Camry&quot;</td><td>1982</td><td>2.5</td><td>3.5</td><td>false</td><td>&quot;Toyota&quot;</td></tr><tr><td>&quot;Corolla&quot;</td><td>1966</td><td>1.8</td><td>2.0</td><td>false</td><td>&quot;Toyota&quot;</td></tr><tr><td>&quot;RAV4&quot;</td><td>1994</td><td>2.0</td><td>2.5</td><td>true</td><td>&quot;Toyota&quot;</td></tr><tr><td>&quot;Mustang&quot;</td><td>1964</td><td>2.3</td><td>5.0</td><td>false</td><td>&quot;Ford&quot;</td></tr><tr><td>&quot;F-150&quot;</td><td>1975</td><td>2.7</td><td>5.0</td><td>true</td><td>&quot;Ford&quot;</td></tr><tr><td>&quot;Escape&quot;</td><td>2000</td><td>1.5</td><td>2.5</td><td>true</td><td>&quot;Ford&quot;</td></tr></tbody></table></div>"
      ],
      "text/plain": [
       "shape: (6, 6)\n",
       "┌─────────┬──────┬────────────┬────────────┬───────┬─────────┐\n",
       "│ Model   ┆ Year ┆ Engine_Min ┆ Engine_Max ┆ AWD   ┆ Company │\n",
       "│ ---     ┆ ---  ┆ ---        ┆ ---        ┆ ---   ┆ ---     │\n",
       "│ str     ┆ i64  ┆ f64        ┆ f64        ┆ bool  ┆ str     │\n",
       "╞═════════╪══════╪════════════╪════════════╪═══════╪═════════╡\n",
       "│ Camry   ┆ 1982 ┆ 2.5        ┆ 3.5        ┆ false ┆ Toyota  │\n",
       "│ Corolla ┆ 1966 ┆ 1.8        ┆ 2.0        ┆ false ┆ Toyota  │\n",
       "│ RAV4    ┆ 1994 ┆ 2.0        ┆ 2.5        ┆ true  ┆ Toyota  │\n",
       "│ Mustang ┆ 1964 ┆ 2.3        ┆ 5.0        ┆ false ┆ Ford    │\n",
       "│ F-150   ┆ 1975 ┆ 2.7        ┆ 5.0        ┆ true  ┆ Ford    │\n",
       "│ Escape  ┆ 2000 ┆ 1.5        ┆ 2.5        ┆ true  ┆ Ford    │\n",
       "└─────────┴──────┴────────────┴────────────┴───────┴─────────┘"
      ]
     },
     "execution_count": 19,
     "metadata": {},
     "output_type": "execute_result"
    }
   ],
   "source": [
    "df.filter(\n",
    "    (pl.col('Company') == 'Toyota') | (pl.col('Company') == 'Ford')\n",
    ")\n",
    "\n",
    "# parentheses are important"
   ]
  },
  {
   "cell_type": "code",
   "execution_count": 21,
   "id": "ded2a850",
   "metadata": {},
   "outputs": [
    {
     "data": {
      "text/html": [
       "<div><style>\n",
       ".dataframe > thead > tr,\n",
       ".dataframe > tbody > tr {\n",
       "  text-align: right;\n",
       "  white-space: pre-wrap;\n",
       "}\n",
       "</style>\n",
       "<small>shape: (6, 6)</small><table border=\"1\" class=\"dataframe\"><thead><tr><th>Model</th><th>Year</th><th>Engine_Min</th><th>Engine_Max</th><th>AWD</th><th>Company</th></tr><tr><td>str</td><td>i64</td><td>f64</td><td>f64</td><td>bool</td><td>str</td></tr></thead><tbody><tr><td>&quot;Camry&quot;</td><td>1982</td><td>2.5</td><td>3.5</td><td>false</td><td>&quot;Toyota&quot;</td></tr><tr><td>&quot;Corolla&quot;</td><td>1966</td><td>1.8</td><td>2.0</td><td>false</td><td>&quot;Toyota&quot;</td></tr><tr><td>&quot;RAV4&quot;</td><td>1994</td><td>2.0</td><td>2.5</td><td>true</td><td>&quot;Toyota&quot;</td></tr><tr><td>&quot;Mustang&quot;</td><td>1964</td><td>2.3</td><td>5.0</td><td>false</td><td>&quot;Ford&quot;</td></tr><tr><td>&quot;F-150&quot;</td><td>1975</td><td>2.7</td><td>5.0</td><td>true</td><td>&quot;Ford&quot;</td></tr><tr><td>&quot;Escape&quot;</td><td>2000</td><td>1.5</td><td>2.5</td><td>true</td><td>&quot;Ford&quot;</td></tr></tbody></table></div>"
      ],
      "text/plain": [
       "shape: (6, 6)\n",
       "┌─────────┬──────┬────────────┬────────────┬───────┬─────────┐\n",
       "│ Model   ┆ Year ┆ Engine_Min ┆ Engine_Max ┆ AWD   ┆ Company │\n",
       "│ ---     ┆ ---  ┆ ---        ┆ ---        ┆ ---   ┆ ---     │\n",
       "│ str     ┆ i64  ┆ f64        ┆ f64        ┆ bool  ┆ str     │\n",
       "╞═════════╪══════╪════════════╪════════════╪═══════╪═════════╡\n",
       "│ Camry   ┆ 1982 ┆ 2.5        ┆ 3.5        ┆ false ┆ Toyota  │\n",
       "│ Corolla ┆ 1966 ┆ 1.8        ┆ 2.0        ┆ false ┆ Toyota  │\n",
       "│ RAV4    ┆ 1994 ┆ 2.0        ┆ 2.5        ┆ true  ┆ Toyota  │\n",
       "│ Mustang ┆ 1964 ┆ 2.3        ┆ 5.0        ┆ false ┆ Ford    │\n",
       "│ F-150   ┆ 1975 ┆ 2.7        ┆ 5.0        ┆ true  ┆ Ford    │\n",
       "│ Escape  ┆ 2000 ┆ 1.5        ┆ 2.5        ┆ true  ┆ Ford    │\n",
       "└─────────┴──────┴────────────┴────────────┴───────┴─────────┘"
      ]
     },
     "execution_count": 21,
     "metadata": {},
     "output_type": "execute_result"
    }
   ],
   "source": [
    "# alternatively, you can use the .is_in() method\n",
    "df.filter(\n",
    "    pl.col('Company').is_in(['Toyota','Ford'])\n",
    ")"
   ]
  },
  {
   "cell_type": "code",
   "execution_count": 20,
   "id": "3a251ddf",
   "metadata": {},
   "outputs": [
    {
     "data": {
      "text/html": [
       "<div><style>\n",
       ".dataframe > thead > tr,\n",
       ".dataframe > tbody > tr {\n",
       "  text-align: right;\n",
       "  white-space: pre-wrap;\n",
       "}\n",
       "</style>\n",
       "<small>shape: (2, 6)</small><table border=\"1\" class=\"dataframe\"><thead><tr><th>Model</th><th>Year</th><th>Engine_Min</th><th>Engine_Max</th><th>AWD</th><th>Company</th></tr><tr><td>str</td><td>i64</td><td>f64</td><td>f64</td><td>bool</td><td>str</td></tr></thead><tbody><tr><td>&quot;Camry&quot;</td><td>1982</td><td>2.5</td><td>3.5</td><td>false</td><td>&quot;Toyota&quot;</td></tr><tr><td>&quot;RAV4&quot;</td><td>1994</td><td>2.0</td><td>2.5</td><td>true</td><td>&quot;Toyota&quot;</td></tr></tbody></table></div>"
      ],
      "text/plain": [
       "shape: (2, 6)\n",
       "┌───────┬──────┬────────────┬────────────┬───────┬─────────┐\n",
       "│ Model ┆ Year ┆ Engine_Min ┆ Engine_Max ┆ AWD   ┆ Company │\n",
       "│ ---   ┆ ---  ┆ ---        ┆ ---        ┆ ---   ┆ ---     │\n",
       "│ str   ┆ i64  ┆ f64        ┆ f64        ┆ bool  ┆ str     │\n",
       "╞═══════╪══════╪════════════╪════════════╪═══════╪═════════╡\n",
       "│ Camry ┆ 1982 ┆ 2.5        ┆ 3.5        ┆ false ┆ Toyota  │\n",
       "│ RAV4  ┆ 1994 ┆ 2.0        ┆ 2.5        ┆ true  ┆ Toyota  │\n",
       "└───────┴──────┴────────────┴────────────┴───────┴─────────┘"
      ]
     },
     "execution_count": 20,
     "metadata": {},
     "output_type": "execute_result"
    }
   ],
   "source": [
    "df.filter(\n",
    "    (pl.col('Company') == 'Toyota') & (pl.col('Year') > 1980)\n",
    ")"
   ]
  },
  {
   "cell_type": "code",
   "execution_count": null,
   "id": "873d02cb",
   "metadata": {},
   "outputs": [
    {
     "data": {
      "text/html": [
       "<div><style>\n",
       ".dataframe > thead > tr,\n",
       ".dataframe > tbody > tr {\n",
       "  text-align: right;\n",
       "  white-space: pre-wrap;\n",
       "}\n",
       "</style>\n",
       "<small>shape: (5, 6)</small><table border=\"1\" class=\"dataframe\"><thead><tr><th>Model</th><th>Year</th><th>Engine_Min</th><th>Engine_Max</th><th>AWD</th><th>Company</th></tr><tr><td>str</td><td>i64</td><td>f64</td><td>f64</td><td>bool</td><td>str</td></tr></thead><tbody><tr><td>&quot;Mustang&quot;</td><td>1964</td><td>2.3</td><td>5.0</td><td>false</td><td>&quot;Ford&quot;</td></tr><tr><td>&quot;F-150&quot;</td><td>1975</td><td>2.7</td><td>5.0</td><td>true</td><td>&quot;Ford&quot;</td></tr><tr><td>&quot;Escape&quot;</td><td>2000</td><td>1.5</td><td>2.5</td><td>true</td><td>&quot;Ford&quot;</td></tr><tr><td>&quot;Golf&quot;</td><td>1974</td><td>1.0</td><td>2.0</td><td>true</td><td>&quot;Volkswagen&quot;</td></tr><tr><td>&quot;Tiguan&quot;</td><td>2007</td><td>1.4</td><td>2.0</td><td>true</td><td>&quot;Volkswagen&quot;</td></tr></tbody></table></div>"
      ],
      "text/plain": [
       "shape: (5, 6)\n",
       "┌─────────┬──────┬────────────┬────────────┬───────┬────────────┐\n",
       "│ Model   ┆ Year ┆ Engine_Min ┆ Engine_Max ┆ AWD   ┆ Company    │\n",
       "│ ---     ┆ ---  ┆ ---        ┆ ---        ┆ ---   ┆ ---        │\n",
       "│ str     ┆ i64  ┆ f64        ┆ f64        ┆ bool  ┆ str        │\n",
       "╞═════════╪══════╪════════════╪════════════╪═══════╪════════════╡\n",
       "│ Mustang ┆ 1964 ┆ 2.3        ┆ 5.0        ┆ false ┆ Ford       │\n",
       "│ F-150   ┆ 1975 ┆ 2.7        ┆ 5.0        ┆ true  ┆ Ford       │\n",
       "│ Escape  ┆ 2000 ┆ 1.5        ┆ 2.5        ┆ true  ┆ Ford       │\n",
       "│ Golf    ┆ 1974 ┆ 1.0        ┆ 2.0        ┆ true  ┆ Volkswagen │\n",
       "│ Tiguan  ┆ 2007 ┆ 1.4        ┆ 2.0        ┆ true  ┆ Volkswagen │\n",
       "└─────────┴──────┴────────────┴────────────┴───────┴────────────┘"
      ]
     },
     "execution_count": 22,
     "metadata": {},
     "output_type": "execute_result"
    }
   ],
   "source": [
    "# All Cars except Toyota using the ~ (not) operator\n",
    "df.filter(\n",
    "    ~(pl.col('Company') == 'Toyota')\n",
    ")"
   ]
  },
  {
   "cell_type": "code",
   "execution_count": null,
   "id": "a6dd1144-4e08-4085-88df-a238ac2ec4ce",
   "metadata": {},
   "outputs": [
    {
     "data": {
      "text/html": [
       "<div><style>\n",
       ".dataframe > thead > tr,\n",
       ".dataframe > tbody > tr {\n",
       "  text-align: right;\n",
       "  white-space: pre-wrap;\n",
       "}\n",
       "</style>\n",
       "<small>shape: (5, 6)</small><table border=\"1\" class=\"dataframe\"><thead><tr><th>Model</th><th>Year</th><th>Engine_Min</th><th>Engine_Max</th><th>AWD</th><th>Company</th></tr><tr><td>str</td><td>i64</td><td>f64</td><td>f64</td><td>bool</td><td>str</td></tr></thead><tbody><tr><td>&quot;Mustang&quot;</td><td>1964</td><td>2.3</td><td>5.0</td><td>false</td><td>&quot;Ford&quot;</td></tr><tr><td>&quot;F-150&quot;</td><td>1975</td><td>2.7</td><td>5.0</td><td>true</td><td>&quot;Ford&quot;</td></tr><tr><td>&quot;Escape&quot;</td><td>2000</td><td>1.5</td><td>2.5</td><td>true</td><td>&quot;Ford&quot;</td></tr><tr><td>&quot;Golf&quot;</td><td>1974</td><td>1.0</td><td>2.0</td><td>true</td><td>&quot;Volkswagen&quot;</td></tr><tr><td>&quot;Tiguan&quot;</td><td>2007</td><td>1.4</td><td>2.0</td><td>true</td><td>&quot;Volkswagen&quot;</td></tr></tbody></table></div>"
      ],
      "text/plain": [
       "shape: (5, 6)\n",
       "┌─────────┬──────┬────────────┬────────────┬───────┬────────────┐\n",
       "│ Model   ┆ Year ┆ Engine_Min ┆ Engine_Max ┆ AWD   ┆ Company    │\n",
       "│ ---     ┆ ---  ┆ ---        ┆ ---        ┆ ---   ┆ ---        │\n",
       "│ str     ┆ i64  ┆ f64        ┆ f64        ┆ bool  ┆ str        │\n",
       "╞═════════╪══════╪════════════╪════════════╪═══════╪════════════╡\n",
       "│ Mustang ┆ 1964 ┆ 2.3        ┆ 5.0        ┆ false ┆ Ford       │\n",
       "│ F-150   ┆ 1975 ┆ 2.7        ┆ 5.0        ┆ true  ┆ Ford       │\n",
       "│ Escape  ┆ 2000 ┆ 1.5        ┆ 2.5        ┆ true  ┆ Ford       │\n",
       "│ Golf    ┆ 1974 ┆ 1.0        ┆ 2.0        ┆ true  ┆ Volkswagen │\n",
       "│ Tiguan  ┆ 2007 ┆ 1.4        ┆ 2.0        ┆ true  ┆ Volkswagen │\n",
       "└─────────┴──────┴────────────┴────────────┴───────┴────────────┘"
      ]
     },
     "execution_count": 23,
     "metadata": {},
     "output_type": "execute_result"
    }
   ],
   "source": [
    "# Another way to get all cars except Toyota using the != operator\n",
    "df.filter(\n",
    "(pl.col('Company') != 'Toyota')\n",
    ")"
   ]
  },
  {
   "cell_type": "markdown",
   "id": "726c7473",
   "metadata": {},
   "source": [
    "### Selecting Rows and Columns"
   ]
  },
  {
   "cell_type": "code",
   "execution_count": 24,
   "id": "67005636",
   "metadata": {},
   "outputs": [
    {
     "data": {
      "text/html": [
       "<div><style>\n",
       ".dataframe > thead > tr,\n",
       ".dataframe > tbody > tr {\n",
       "  text-align: right;\n",
       "  white-space: pre-wrap;\n",
       "}\n",
       "</style>\n",
       "<small>shape: (3, 1)</small><table border=\"1\" class=\"dataframe\"><thead><tr><th>Model</th></tr><tr><td>str</td></tr></thead><tbody><tr><td>&quot;Camry&quot;</td></tr><tr><td>&quot;Corolla&quot;</td></tr><tr><td>&quot;RAV4&quot;</td></tr></tbody></table></div>"
      ],
      "text/plain": [
       "shape: (3, 1)\n",
       "┌─────────┐\n",
       "│ Model   │\n",
       "│ ---     │\n",
       "│ str     │\n",
       "╞═════════╡\n",
       "│ Camry   │\n",
       "│ Corolla │\n",
       "│ RAV4    │\n",
       "└─────────┘"
      ]
     },
     "execution_count": 24,
     "metadata": {},
     "output_type": "execute_result"
    }
   ],
   "source": [
    "df.filter(\n",
    "    pl.col('Company') == 'Toyota'\n",
    ").select(\n",
    "    'Model'\n",
    ")"
   ]
  },
  {
   "cell_type": "code",
   "execution_count": 25,
   "id": "b9ac4c9d",
   "metadata": {},
   "outputs": [
    {
     "data": {
      "text/html": [
       "<div><style>\n",
       ".dataframe > thead > tr,\n",
       ".dataframe > tbody > tr {\n",
       "  text-align: right;\n",
       "  white-space: pre-wrap;\n",
       "}\n",
       "</style>\n",
       "<small>shape: (3, 2)</small><table border=\"1\" class=\"dataframe\"><thead><tr><th>Model</th><th>Year</th></tr><tr><td>str</td><td>i64</td></tr></thead><tbody><tr><td>&quot;Camry&quot;</td><td>1982</td></tr><tr><td>&quot;Corolla&quot;</td><td>1966</td></tr><tr><td>&quot;RAV4&quot;</td><td>1994</td></tr></tbody></table></div>"
      ],
      "text/plain": [
       "shape: (3, 2)\n",
       "┌─────────┬──────┐\n",
       "│ Model   ┆ Year │\n",
       "│ ---     ┆ ---  │\n",
       "│ str     ┆ i64  │\n",
       "╞═════════╪══════╡\n",
       "│ Camry   ┆ 1982 │\n",
       "│ Corolla ┆ 1966 │\n",
       "│ RAV4    ┆ 1994 │\n",
       "└─────────┴──────┘"
      ]
     },
     "execution_count": 25,
     "metadata": {},
     "output_type": "execute_result"
    }
   ],
   "source": [
    "df.filter(\n",
    "    pl.col('Company') == 'Toyota'\n",
    ").select(\n",
    "    ['Model','Year']\n",
    ")"
   ]
  },
  {
   "cell_type": "markdown",
   "id": "a81cbe16",
   "metadata": {},
   "source": [
    "### Using SQL on Polars"
   ]
  },
  {
   "cell_type": "code",
   "execution_count": 26,
   "id": "4f305aa0",
   "metadata": {},
   "outputs": [
    {
     "data": {
      "text/html": [
       "<div><style>\n",
       ".dataframe > thead > tr,\n",
       ".dataframe > tbody > tr {\n",
       "  text-align: right;\n",
       "  white-space: pre-wrap;\n",
       "}\n",
       "</style>\n",
       "<small>shape: (3, 6)</small><table border=\"1\" class=\"dataframe\"><thead><tr><th>Model</th><th>Year</th><th>Engine_Min</th><th>Engine_Max</th><th>AWD</th><th>Company</th></tr><tr><td>str</td><td>i64</td><td>f64</td><td>f64</td><td>bool</td><td>str</td></tr></thead><tbody><tr><td>&quot;Camry&quot;</td><td>1982</td><td>2.5</td><td>3.5</td><td>false</td><td>&quot;Toyota&quot;</td></tr><tr><td>&quot;Corolla&quot;</td><td>1966</td><td>1.8</td><td>2.0</td><td>false</td><td>&quot;Toyota&quot;</td></tr><tr><td>&quot;RAV4&quot;</td><td>1994</td><td>2.0</td><td>2.5</td><td>true</td><td>&quot;Toyota&quot;</td></tr></tbody></table></div>"
      ],
      "text/plain": [
       "shape: (3, 6)\n",
       "┌─────────┬──────┬────────────┬────────────┬───────┬─────────┐\n",
       "│ Model   ┆ Year ┆ Engine_Min ┆ Engine_Max ┆ AWD   ┆ Company │\n",
       "│ ---     ┆ ---  ┆ ---        ┆ ---        ┆ ---   ┆ ---     │\n",
       "│ str     ┆ i64  ┆ f64        ┆ f64        ┆ bool  ┆ str     │\n",
       "╞═════════╪══════╪════════════╪════════════╪═══════╪═════════╡\n",
       "│ Camry   ┆ 1982 ┆ 2.5        ┆ 3.5        ┆ false ┆ Toyota  │\n",
       "│ Corolla ┆ 1966 ┆ 1.8        ┆ 2.0        ┆ false ┆ Toyota  │\n",
       "│ RAV4    ┆ 1994 ┆ 2.0        ┆ 2.5        ┆ true  ┆ Toyota  │\n",
       "└─────────┴──────┴────────────┴────────────┴───────┴─────────┘"
      ]
     },
     "execution_count": 26,
     "metadata": {},
     "output_type": "execute_result"
    }
   ],
   "source": [
    "df.filter(\n",
    "    pl.col('Company') == 'Toyota'\n",
    ").select(\n",
    "    '*'\n",
    ")"
   ]
  },
  {
   "cell_type": "code",
   "execution_count": 27,
   "id": "0a444b1b-ac08-498a-acf4-e0369219a1b1",
   "metadata": {},
   "outputs": [
    {
     "data": {
      "text/html": [
       "<div><style>\n",
       ".dataframe > thead > tr,\n",
       ".dataframe > tbody > tr {\n",
       "  text-align: right;\n",
       "  white-space: pre-wrap;\n",
       "}\n",
       "</style>\n",
       "<small>shape: (8, 6)</small><table border=\"1\" class=\"dataframe\"><thead><tr><th>Model</th><th>Year</th><th>Engine_Min</th><th>Engine_Max</th><th>AWD</th><th>Company</th></tr><tr><td>str</td><td>i64</td><td>f64</td><td>f64</td><td>bool</td><td>str</td></tr></thead><tbody><tr><td>&quot;Camry&quot;</td><td>1982</td><td>2.5</td><td>3.5</td><td>false</td><td>&quot;Toyota&quot;</td></tr><tr><td>&quot;Corolla&quot;</td><td>1966</td><td>1.8</td><td>2.0</td><td>false</td><td>&quot;Toyota&quot;</td></tr><tr><td>&quot;RAV4&quot;</td><td>1994</td><td>2.0</td><td>2.5</td><td>true</td><td>&quot;Toyota&quot;</td></tr><tr><td>&quot;Mustang&quot;</td><td>1964</td><td>2.3</td><td>5.0</td><td>false</td><td>&quot;Ford&quot;</td></tr><tr><td>&quot;F-150&quot;</td><td>1975</td><td>2.7</td><td>5.0</td><td>true</td><td>&quot;Ford&quot;</td></tr><tr><td>&quot;Escape&quot;</td><td>2000</td><td>1.5</td><td>2.5</td><td>true</td><td>&quot;Ford&quot;</td></tr><tr><td>&quot;Golf&quot;</td><td>1974</td><td>1.0</td><td>2.0</td><td>true</td><td>&quot;Volkswagen&quot;</td></tr><tr><td>&quot;Tiguan&quot;</td><td>2007</td><td>1.4</td><td>2.0</td><td>true</td><td>&quot;Volkswagen&quot;</td></tr></tbody></table></div>"
      ],
      "text/plain": [
       "shape: (8, 6)\n",
       "┌─────────┬──────┬────────────┬────────────┬───────┬────────────┐\n",
       "│ Model   ┆ Year ┆ Engine_Min ┆ Engine_Max ┆ AWD   ┆ Company    │\n",
       "│ ---     ┆ ---  ┆ ---        ┆ ---        ┆ ---   ┆ ---        │\n",
       "│ str     ┆ i64  ┆ f64        ┆ f64        ┆ bool  ┆ str        │\n",
       "╞═════════╪══════╪════════════╪════════════╪═══════╪════════════╡\n",
       "│ Camry   ┆ 1982 ┆ 2.5        ┆ 3.5        ┆ false ┆ Toyota     │\n",
       "│ Corolla ┆ 1966 ┆ 1.8        ┆ 2.0        ┆ false ┆ Toyota     │\n",
       "│ RAV4    ┆ 1994 ┆ 2.0        ┆ 2.5        ┆ true  ┆ Toyota     │\n",
       "│ Mustang ┆ 1964 ┆ 2.3        ┆ 5.0        ┆ false ┆ Ford       │\n",
       "│ F-150   ┆ 1975 ┆ 2.7        ┆ 5.0        ┆ true  ┆ Ford       │\n",
       "│ Escape  ┆ 2000 ┆ 1.5        ┆ 2.5        ┆ true  ┆ Ford       │\n",
       "│ Golf    ┆ 1974 ┆ 1.0        ┆ 2.0        ┆ true  ┆ Volkswagen │\n",
       "│ Tiguan  ┆ 2007 ┆ 1.4        ┆ 2.0        ┆ true  ┆ Volkswagen │\n",
       "└─────────┴──────┴────────────┴────────────┴───────┴────────────┘"
      ]
     },
     "execution_count": 27,
     "metadata": {},
     "output_type": "execute_result"
    }
   ],
   "source": [
    "ctx = pl.SQLContext(cars = df)\n",
    "ctx.execute(\"SELECT * FROM cars\", eager=True)"
   ]
  },
  {
   "cell_type": "code",
   "execution_count": 28,
   "id": "7bf6a79a-c065-4a36-b767-86526fcfd362",
   "metadata": {},
   "outputs": [
    {
     "data": {
      "text/html": [
       "<div><style>\n",
       ".dataframe > thead > tr,\n",
       ".dataframe > tbody > tr {\n",
       "  text-align: right;\n",
       "  white-space: pre-wrap;\n",
       "}\n",
       "</style>\n",
       "<small>shape: (3, 3)</small><table border=\"1\" class=\"dataframe\"><thead><tr><th>Company</th><th>avg_engine_min</th><th>avg_engine_max</th></tr><tr><td>str</td><td>f64</td><td>f64</td></tr></thead><tbody><tr><td>&quot;Volkswagen&quot;</td><td>1.2</td><td>2.0</td></tr><tr><td>&quot;Ford&quot;</td><td>2.166667</td><td>4.166667</td></tr><tr><td>&quot;Toyota&quot;</td><td>2.1</td><td>2.666667</td></tr></tbody></table></div>"
      ],
      "text/plain": [
       "shape: (3, 3)\n",
       "┌────────────┬────────────────┬────────────────┐\n",
       "│ Company    ┆ avg_engine_min ┆ avg_engine_max │\n",
       "│ ---        ┆ ---            ┆ ---            │\n",
       "│ str        ┆ f64            ┆ f64            │\n",
       "╞════════════╪════════════════╪════════════════╡\n",
       "│ Volkswagen ┆ 1.2            ┆ 2.0            │\n",
       "│ Ford       ┆ 2.166667       ┆ 4.166667       │\n",
       "│ Toyota     ┆ 2.1            ┆ 2.666667       │\n",
       "└────────────┴────────────────┴────────────────┘"
      ]
     },
     "execution_count": 28,
     "metadata": {},
     "output_type": "execute_result"
    }
   ],
   "source": [
    "ctx.execute('''\n",
    "SELECT Company,\n",
    "  AVG(Engine_Min) AS avg_engine_min,\n",
    "  AVG(Engine_Max) AS avg_engine_max\n",
    "FROM cars\n",
    "GROUP BY Company;\n",
    "''', eager=True)"
   ]
  },
  {
   "cell_type": "markdown",
   "id": "5d6d9efc",
   "metadata": {},
   "source": [
    "## Understanding Lazy Evalution in Polars"
   ]
  },
  {
   "cell_type": "code",
   "execution_count": 29,
   "id": "50744b4d-8447-499c-9d0d-7e41fa16621f",
   "metadata": {},
   "outputs": [
    {
     "data": {
      "text/html": [
       "<div>\n",
       "<style scoped>\n",
       "    .dataframe tbody tr th:only-of-type {\n",
       "        vertical-align: middle;\n",
       "    }\n",
       "\n",
       "    .dataframe tbody tr th {\n",
       "        vertical-align: top;\n",
       "    }\n",
       "\n",
       "    .dataframe thead th {\n",
       "        text-align: right;\n",
       "    }\n",
       "</style>\n",
       "<table border=\"1\" class=\"dataframe\">\n",
       "  <thead>\n",
       "    <tr style=\"text-align: right;\">\n",
       "      <th></th>\n",
       "      <th>YEAR</th>\n",
       "      <th>MONTH</th>\n",
       "      <th>DAY</th>\n",
       "      <th>DAY_OF_WEEK</th>\n",
       "      <th>AIRLINE</th>\n",
       "      <th>FLIGHT_NUMBER</th>\n",
       "      <th>TAIL_NUMBER</th>\n",
       "      <th>ORIGIN_AIRPORT</th>\n",
       "      <th>DESTINATION_AIRPORT</th>\n",
       "      <th>SCHEDULED_DEPARTURE</th>\n",
       "      <th>...</th>\n",
       "      <th>ARRIVAL_TIME</th>\n",
       "      <th>ARRIVAL_DELAY</th>\n",
       "      <th>DIVERTED</th>\n",
       "      <th>CANCELLED</th>\n",
       "      <th>CANCELLATION_REASON</th>\n",
       "      <th>AIR_SYSTEM_DELAY</th>\n",
       "      <th>SECURITY_DELAY</th>\n",
       "      <th>AIRLINE_DELAY</th>\n",
       "      <th>LATE_AIRCRAFT_DELAY</th>\n",
       "      <th>WEATHER_DELAY</th>\n",
       "    </tr>\n",
       "  </thead>\n",
       "  <tbody>\n",
       "    <tr>\n",
       "      <th>0</th>\n",
       "      <td>2015</td>\n",
       "      <td>1</td>\n",
       "      <td>1</td>\n",
       "      <td>4</td>\n",
       "      <td>AS</td>\n",
       "      <td>98</td>\n",
       "      <td>N407AS</td>\n",
       "      <td>ANC</td>\n",
       "      <td>SEA</td>\n",
       "      <td>5</td>\n",
       "      <td>...</td>\n",
       "      <td>408.0</td>\n",
       "      <td>-22.0</td>\n",
       "      <td>0</td>\n",
       "      <td>0</td>\n",
       "      <td>NaN</td>\n",
       "      <td>NaN</td>\n",
       "      <td>NaN</td>\n",
       "      <td>NaN</td>\n",
       "      <td>NaN</td>\n",
       "      <td>NaN</td>\n",
       "    </tr>\n",
       "    <tr>\n",
       "      <th>1</th>\n",
       "      <td>2015</td>\n",
       "      <td>1</td>\n",
       "      <td>1</td>\n",
       "      <td>4</td>\n",
       "      <td>AA</td>\n",
       "      <td>2336</td>\n",
       "      <td>N3KUAA</td>\n",
       "      <td>LAX</td>\n",
       "      <td>PBI</td>\n",
       "      <td>10</td>\n",
       "      <td>...</td>\n",
       "      <td>741.0</td>\n",
       "      <td>-9.0</td>\n",
       "      <td>0</td>\n",
       "      <td>0</td>\n",
       "      <td>NaN</td>\n",
       "      <td>NaN</td>\n",
       "      <td>NaN</td>\n",
       "      <td>NaN</td>\n",
       "      <td>NaN</td>\n",
       "      <td>NaN</td>\n",
       "    </tr>\n",
       "    <tr>\n",
       "      <th>2</th>\n",
       "      <td>2015</td>\n",
       "      <td>1</td>\n",
       "      <td>1</td>\n",
       "      <td>4</td>\n",
       "      <td>US</td>\n",
       "      <td>840</td>\n",
       "      <td>N171US</td>\n",
       "      <td>SFO</td>\n",
       "      <td>CLT</td>\n",
       "      <td>20</td>\n",
       "      <td>...</td>\n",
       "      <td>811.0</td>\n",
       "      <td>5.0</td>\n",
       "      <td>0</td>\n",
       "      <td>0</td>\n",
       "      <td>NaN</td>\n",
       "      <td>NaN</td>\n",
       "      <td>NaN</td>\n",
       "      <td>NaN</td>\n",
       "      <td>NaN</td>\n",
       "      <td>NaN</td>\n",
       "    </tr>\n",
       "    <tr>\n",
       "      <th>3</th>\n",
       "      <td>2015</td>\n",
       "      <td>1</td>\n",
       "      <td>1</td>\n",
       "      <td>4</td>\n",
       "      <td>AA</td>\n",
       "      <td>258</td>\n",
       "      <td>N3HYAA</td>\n",
       "      <td>LAX</td>\n",
       "      <td>MIA</td>\n",
       "      <td>20</td>\n",
       "      <td>...</td>\n",
       "      <td>756.0</td>\n",
       "      <td>-9.0</td>\n",
       "      <td>0</td>\n",
       "      <td>0</td>\n",
       "      <td>NaN</td>\n",
       "      <td>NaN</td>\n",
       "      <td>NaN</td>\n",
       "      <td>NaN</td>\n",
       "      <td>NaN</td>\n",
       "      <td>NaN</td>\n",
       "    </tr>\n",
       "    <tr>\n",
       "      <th>4</th>\n",
       "      <td>2015</td>\n",
       "      <td>1</td>\n",
       "      <td>1</td>\n",
       "      <td>4</td>\n",
       "      <td>AS</td>\n",
       "      <td>135</td>\n",
       "      <td>N527AS</td>\n",
       "      <td>SEA</td>\n",
       "      <td>ANC</td>\n",
       "      <td>25</td>\n",
       "      <td>...</td>\n",
       "      <td>259.0</td>\n",
       "      <td>-21.0</td>\n",
       "      <td>0</td>\n",
       "      <td>0</td>\n",
       "      <td>NaN</td>\n",
       "      <td>NaN</td>\n",
       "      <td>NaN</td>\n",
       "      <td>NaN</td>\n",
       "      <td>NaN</td>\n",
       "      <td>NaN</td>\n",
       "    </tr>\n",
       "    <tr>\n",
       "      <th>...</th>\n",
       "      <td>...</td>\n",
       "      <td>...</td>\n",
       "      <td>...</td>\n",
       "      <td>...</td>\n",
       "      <td>...</td>\n",
       "      <td>...</td>\n",
       "      <td>...</td>\n",
       "      <td>...</td>\n",
       "      <td>...</td>\n",
       "      <td>...</td>\n",
       "      <td>...</td>\n",
       "      <td>...</td>\n",
       "      <td>...</td>\n",
       "      <td>...</td>\n",
       "      <td>...</td>\n",
       "      <td>...</td>\n",
       "      <td>...</td>\n",
       "      <td>...</td>\n",
       "      <td>...</td>\n",
       "      <td>...</td>\n",
       "      <td>...</td>\n",
       "    </tr>\n",
       "    <tr>\n",
       "      <th>995</th>\n",
       "      <td>2015</td>\n",
       "      <td>1</td>\n",
       "      <td>1</td>\n",
       "      <td>4</td>\n",
       "      <td>WN</td>\n",
       "      <td>552</td>\n",
       "      <td>N291WN</td>\n",
       "      <td>SAT</td>\n",
       "      <td>ELP</td>\n",
       "      <td>705</td>\n",
       "      <td>...</td>\n",
       "      <td>810.0</td>\n",
       "      <td>30.0</td>\n",
       "      <td>0</td>\n",
       "      <td>0</td>\n",
       "      <td>NaN</td>\n",
       "      <td>1.0</td>\n",
       "      <td>0.0</td>\n",
       "      <td>29.0</td>\n",
       "      <td>0.0</td>\n",
       "      <td>0.0</td>\n",
       "    </tr>\n",
       "    <tr>\n",
       "      <th>996</th>\n",
       "      <td>2015</td>\n",
       "      <td>1</td>\n",
       "      <td>1</td>\n",
       "      <td>4</td>\n",
       "      <td>WN</td>\n",
       "      <td>3239</td>\n",
       "      <td>N905WN</td>\n",
       "      <td>TPA</td>\n",
       "      <td>BWI</td>\n",
       "      <td>705</td>\n",
       "      <td>...</td>\n",
       "      <td>907.0</td>\n",
       "      <td>-18.0</td>\n",
       "      <td>0</td>\n",
       "      <td>0</td>\n",
       "      <td>NaN</td>\n",
       "      <td>NaN</td>\n",
       "      <td>NaN</td>\n",
       "      <td>NaN</td>\n",
       "      <td>NaN</td>\n",
       "      <td>NaN</td>\n",
       "    </tr>\n",
       "    <tr>\n",
       "      <th>997</th>\n",
       "      <td>2015</td>\n",
       "      <td>1</td>\n",
       "      <td>1</td>\n",
       "      <td>4</td>\n",
       "      <td>WN</td>\n",
       "      <td>1912</td>\n",
       "      <td>N554WN</td>\n",
       "      <td>TUS</td>\n",
       "      <td>DEN</td>\n",
       "      <td>705</td>\n",
       "      <td>...</td>\n",
       "      <td>846.0</td>\n",
       "      <td>-9.0</td>\n",
       "      <td>0</td>\n",
       "      <td>0</td>\n",
       "      <td>NaN</td>\n",
       "      <td>NaN</td>\n",
       "      <td>NaN</td>\n",
       "      <td>NaN</td>\n",
       "      <td>NaN</td>\n",
       "      <td>NaN</td>\n",
       "    </tr>\n",
       "    <tr>\n",
       "      <th>998</th>\n",
       "      <td>2015</td>\n",
       "      <td>1</td>\n",
       "      <td>1</td>\n",
       "      <td>4</td>\n",
       "      <td>UA</td>\n",
       "      <td>1660</td>\n",
       "      <td>N17730</td>\n",
       "      <td>SNA</td>\n",
       "      <td>EWR</td>\n",
       "      <td>705</td>\n",
       "      <td>...</td>\n",
       "      <td>1433.0</td>\n",
       "      <td>-51.0</td>\n",
       "      <td>0</td>\n",
       "      <td>0</td>\n",
       "      <td>NaN</td>\n",
       "      <td>NaN</td>\n",
       "      <td>NaN</td>\n",
       "      <td>NaN</td>\n",
       "      <td>NaN</td>\n",
       "      <td>NaN</td>\n",
       "    </tr>\n",
       "    <tr>\n",
       "      <th>999</th>\n",
       "      <td>2015</td>\n",
       "      <td>1</td>\n",
       "      <td>1</td>\n",
       "      <td>4</td>\n",
       "      <td>US</td>\n",
       "      <td>445</td>\n",
       "      <td>N187US</td>\n",
       "      <td>RDU</td>\n",
       "      <td>CLT</td>\n",
       "      <td>705</td>\n",
       "      <td>...</td>\n",
       "      <td>833.0</td>\n",
       "      <td>23.0</td>\n",
       "      <td>0</td>\n",
       "      <td>0</td>\n",
       "      <td>NaN</td>\n",
       "      <td>23.0</td>\n",
       "      <td>0.0</td>\n",
       "      <td>0.0</td>\n",
       "      <td>0.0</td>\n",
       "      <td>0.0</td>\n",
       "    </tr>\n",
       "  </tbody>\n",
       "</table>\n",
       "<p>1000 rows × 31 columns</p>\n",
       "</div>"
      ],
      "text/plain": [
       "     YEAR  MONTH  DAY  DAY_OF_WEEK AIRLINE  FLIGHT_NUMBER TAIL_NUMBER  \\\n",
       "0    2015      1    1            4      AS             98      N407AS   \n",
       "1    2015      1    1            4      AA           2336      N3KUAA   \n",
       "2    2015      1    1            4      US            840      N171US   \n",
       "3    2015      1    1            4      AA            258      N3HYAA   \n",
       "4    2015      1    1            4      AS            135      N527AS   \n",
       "..    ...    ...  ...          ...     ...            ...         ...   \n",
       "995  2015      1    1            4      WN            552      N291WN   \n",
       "996  2015      1    1            4      WN           3239      N905WN   \n",
       "997  2015      1    1            4      WN           1912      N554WN   \n",
       "998  2015      1    1            4      UA           1660      N17730   \n",
       "999  2015      1    1            4      US            445      N187US   \n",
       "\n",
       "    ORIGIN_AIRPORT DESTINATION_AIRPORT  SCHEDULED_DEPARTURE  ...  \\\n",
       "0              ANC                 SEA                    5  ...   \n",
       "1              LAX                 PBI                   10  ...   \n",
       "2              SFO                 CLT                   20  ...   \n",
       "3              LAX                 MIA                   20  ...   \n",
       "4              SEA                 ANC                   25  ...   \n",
       "..             ...                 ...                  ...  ...   \n",
       "995            SAT                 ELP                  705  ...   \n",
       "996            TPA                 BWI                  705  ...   \n",
       "997            TUS                 DEN                  705  ...   \n",
       "998            SNA                 EWR                  705  ...   \n",
       "999            RDU                 CLT                  705  ...   \n",
       "\n",
       "     ARRIVAL_TIME  ARRIVAL_DELAY  DIVERTED  CANCELLED  CANCELLATION_REASON  \\\n",
       "0           408.0          -22.0         0          0                  NaN   \n",
       "1           741.0           -9.0         0          0                  NaN   \n",
       "2           811.0            5.0         0          0                  NaN   \n",
       "3           756.0           -9.0         0          0                  NaN   \n",
       "4           259.0          -21.0         0          0                  NaN   \n",
       "..            ...            ...       ...        ...                  ...   \n",
       "995         810.0           30.0         0          0                  NaN   \n",
       "996         907.0          -18.0         0          0                  NaN   \n",
       "997         846.0           -9.0         0          0                  NaN   \n",
       "998        1433.0          -51.0         0          0                  NaN   \n",
       "999         833.0           23.0         0          0                  NaN   \n",
       "\n",
       "     AIR_SYSTEM_DELAY  SECURITY_DELAY  AIRLINE_DELAY  LATE_AIRCRAFT_DELAY  \\\n",
       "0                 NaN             NaN            NaN                  NaN   \n",
       "1                 NaN             NaN            NaN                  NaN   \n",
       "2                 NaN             NaN            NaN                  NaN   \n",
       "3                 NaN             NaN            NaN                  NaN   \n",
       "4                 NaN             NaN            NaN                  NaN   \n",
       "..                ...             ...            ...                  ...   \n",
       "995               1.0             0.0           29.0                  0.0   \n",
       "996               NaN             NaN            NaN                  NaN   \n",
       "997               NaN             NaN            NaN                  NaN   \n",
       "998               NaN             NaN            NaN                  NaN   \n",
       "999              23.0             0.0            0.0                  0.0   \n",
       "\n",
       "     WEATHER_DELAY  \n",
       "0              NaN  \n",
       "1              NaN  \n",
       "2              NaN  \n",
       "3              NaN  \n",
       "4              NaN  \n",
       "..             ...  \n",
       "995            0.0  \n",
       "996            NaN  \n",
       "997            NaN  \n",
       "998            NaN  \n",
       "999            0.0  \n",
       "\n",
       "[1000 rows x 31 columns]"
      ]
     },
     "execution_count": 29,
     "metadata": {},
     "output_type": "execute_result"
    }
   ],
   "source": [
    "import pandas as pd\n",
    "df = pd.read_csv('./datasets/flights/flights_sample.csv')\n",
    "df"
   ]
  },
  {
   "cell_type": "code",
   "execution_count": 34,
   "id": "2ca5cbbb-f173-4d56-887b-7b39524bad7c",
   "metadata": {},
   "outputs": [
    {
     "data": {
      "text/html": [
       "<div>\n",
       "<style scoped>\n",
       "    .dataframe tbody tr th:only-of-type {\n",
       "        vertical-align: middle;\n",
       "    }\n",
       "\n",
       "    .dataframe tbody tr th {\n",
       "        vertical-align: top;\n",
       "    }\n",
       "\n",
       "    .dataframe thead th {\n",
       "        text-align: right;\n",
       "    }\n",
       "</style>\n",
       "<table border=\"1\" class=\"dataframe\">\n",
       "  <thead>\n",
       "    <tr style=\"text-align: right;\">\n",
       "      <th></th>\n",
       "      <th>YEAR</th>\n",
       "      <th>MONTH</th>\n",
       "      <th>DAY</th>\n",
       "      <th>DAY_OF_WEEK</th>\n",
       "      <th>AIRLINE</th>\n",
       "      <th>FLIGHT_NUMBER</th>\n",
       "      <th>TAIL_NUMBER</th>\n",
       "      <th>ORIGIN_AIRPORT</th>\n",
       "      <th>DESTINATION_AIRPORT</th>\n",
       "      <th>SCHEDULED_DEPARTURE</th>\n",
       "      <th>...</th>\n",
       "      <th>ARRIVAL_TIME</th>\n",
       "      <th>ARRIVAL_DELAY</th>\n",
       "      <th>DIVERTED</th>\n",
       "      <th>CANCELLED</th>\n",
       "      <th>CANCELLATION_REASON</th>\n",
       "      <th>AIR_SYSTEM_DELAY</th>\n",
       "      <th>SECURITY_DELAY</th>\n",
       "      <th>AIRLINE_DELAY</th>\n",
       "      <th>LATE_AIRCRAFT_DELAY</th>\n",
       "      <th>WEATHER_DELAY</th>\n",
       "    </tr>\n",
       "  </thead>\n",
       "  <tbody>\n",
       "    <tr>\n",
       "      <th>0</th>\n",
       "      <td>2015</td>\n",
       "      <td>1</td>\n",
       "      <td>1</td>\n",
       "      <td>4</td>\n",
       "      <td>AS</td>\n",
       "      <td>98</td>\n",
       "      <td>N407AS</td>\n",
       "      <td>ANC</td>\n",
       "      <td>SEA</td>\n",
       "      <td>5</td>\n",
       "      <td>...</td>\n",
       "      <td>408.0</td>\n",
       "      <td>-22.0</td>\n",
       "      <td>0</td>\n",
       "      <td>0</td>\n",
       "      <td>NaN</td>\n",
       "      <td>NaN</td>\n",
       "      <td>NaN</td>\n",
       "      <td>NaN</td>\n",
       "      <td>NaN</td>\n",
       "      <td>NaN</td>\n",
       "    </tr>\n",
       "    <tr>\n",
       "      <th>15</th>\n",
       "      <td>2015</td>\n",
       "      <td>1</td>\n",
       "      <td>1</td>\n",
       "      <td>4</td>\n",
       "      <td>AS</td>\n",
       "      <td>108</td>\n",
       "      <td>N309AS</td>\n",
       "      <td>ANC</td>\n",
       "      <td>SEA</td>\n",
       "      <td>45</td>\n",
       "      <td>...</td>\n",
       "      <td>455.0</td>\n",
       "      <td>-14.0</td>\n",
       "      <td>0</td>\n",
       "      <td>0</td>\n",
       "      <td>NaN</td>\n",
       "      <td>NaN</td>\n",
       "      <td>NaN</td>\n",
       "      <td>NaN</td>\n",
       "      <td>NaN</td>\n",
       "      <td>NaN</td>\n",
       "    </tr>\n",
       "    <tr>\n",
       "      <th>16</th>\n",
       "      <td>2015</td>\n",
       "      <td>1</td>\n",
       "      <td>1</td>\n",
       "      <td>4</td>\n",
       "      <td>DL</td>\n",
       "      <td>1560</td>\n",
       "      <td>N3743H</td>\n",
       "      <td>ANC</td>\n",
       "      <td>SEA</td>\n",
       "      <td>45</td>\n",
       "      <td>...</td>\n",
       "      <td>451.0</td>\n",
       "      <td>-24.0</td>\n",
       "      <td>0</td>\n",
       "      <td>0</td>\n",
       "      <td>NaN</td>\n",
       "      <td>NaN</td>\n",
       "      <td>NaN</td>\n",
       "      <td>NaN</td>\n",
       "      <td>NaN</td>\n",
       "      <td>NaN</td>\n",
       "    </tr>\n",
       "    <tr>\n",
       "      <th>32</th>\n",
       "      <td>2015</td>\n",
       "      <td>1</td>\n",
       "      <td>1</td>\n",
       "      <td>4</td>\n",
       "      <td>AS</td>\n",
       "      <td>136</td>\n",
       "      <td>N431AS</td>\n",
       "      <td>ANC</td>\n",
       "      <td>SEA</td>\n",
       "      <td>135</td>\n",
       "      <td>...</td>\n",
       "      <td>NaN</td>\n",
       "      <td>NaN</td>\n",
       "      <td>0</td>\n",
       "      <td>1</td>\n",
       "      <td>A</td>\n",
       "      <td>NaN</td>\n",
       "      <td>NaN</td>\n",
       "      <td>NaN</td>\n",
       "      <td>NaN</td>\n",
       "      <td>NaN</td>\n",
       "    </tr>\n",
       "    <tr>\n",
       "      <th>38</th>\n",
       "      <td>2015</td>\n",
       "      <td>1</td>\n",
       "      <td>1</td>\n",
       "      <td>4</td>\n",
       "      <td>AS</td>\n",
       "      <td>134</td>\n",
       "      <td>N464AS</td>\n",
       "      <td>ANC</td>\n",
       "      <td>SEA</td>\n",
       "      <td>155</td>\n",
       "      <td>...</td>\n",
       "      <td>558.0</td>\n",
       "      <td>-35.0</td>\n",
       "      <td>0</td>\n",
       "      <td>0</td>\n",
       "      <td>NaN</td>\n",
       "      <td>NaN</td>\n",
       "      <td>NaN</td>\n",
       "      <td>NaN</td>\n",
       "      <td>NaN</td>\n",
       "      <td>NaN</td>\n",
       "    </tr>\n",
       "    <tr>\n",
       "      <th>47</th>\n",
       "      <td>2015</td>\n",
       "      <td>1</td>\n",
       "      <td>1</td>\n",
       "      <td>4</td>\n",
       "      <td>AS</td>\n",
       "      <td>114</td>\n",
       "      <td>N303AS</td>\n",
       "      <td>ANC</td>\n",
       "      <td>SEA</td>\n",
       "      <td>220</td>\n",
       "      <td>...</td>\n",
       "      <td>628.0</td>\n",
       "      <td>-12.0</td>\n",
       "      <td>0</td>\n",
       "      <td>0</td>\n",
       "      <td>NaN</td>\n",
       "      <td>NaN</td>\n",
       "      <td>NaN</td>\n",
       "      <td>NaN</td>\n",
       "      <td>NaN</td>\n",
       "      <td>NaN</td>\n",
       "    </tr>\n",
       "    <tr>\n",
       "      <th>61</th>\n",
       "      <td>2015</td>\n",
       "      <td>1</td>\n",
       "      <td>1</td>\n",
       "      <td>4</td>\n",
       "      <td>AS</td>\n",
       "      <td>730</td>\n",
       "      <td>N423AS</td>\n",
       "      <td>ANC</td>\n",
       "      <td>SEA</td>\n",
       "      <td>505</td>\n",
       "      <td>...</td>\n",
       "      <td>916.0</td>\n",
       "      <td>-14.0</td>\n",
       "      <td>0</td>\n",
       "      <td>0</td>\n",
       "      <td>NaN</td>\n",
       "      <td>NaN</td>\n",
       "      <td>NaN</td>\n",
       "      <td>NaN</td>\n",
       "      <td>NaN</td>\n",
       "      <td>NaN</td>\n",
       "    </tr>\n",
       "    <tr>\n",
       "      <th>890</th>\n",
       "      <td>2015</td>\n",
       "      <td>1</td>\n",
       "      <td>1</td>\n",
       "      <td>4</td>\n",
       "      <td>AS</td>\n",
       "      <td>112</td>\n",
       "      <td>N527AS</td>\n",
       "      <td>ANC</td>\n",
       "      <td>SEA</td>\n",
       "      <td>700</td>\n",
       "      <td>...</td>\n",
       "      <td>1115.0</td>\n",
       "      <td>-15.0</td>\n",
       "      <td>0</td>\n",
       "      <td>0</td>\n",
       "      <td>NaN</td>\n",
       "      <td>NaN</td>\n",
       "      <td>NaN</td>\n",
       "      <td>NaN</td>\n",
       "      <td>NaN</td>\n",
       "      <td>NaN</td>\n",
       "    </tr>\n",
       "  </tbody>\n",
       "</table>\n",
       "<p>8 rows × 31 columns</p>\n",
       "</div>"
      ],
      "text/plain": [
       "     YEAR  MONTH  DAY  DAY_OF_WEEK AIRLINE  FLIGHT_NUMBER TAIL_NUMBER  \\\n",
       "0    2015      1    1            4      AS             98      N407AS   \n",
       "15   2015      1    1            4      AS            108      N309AS   \n",
       "16   2015      1    1            4      DL           1560      N3743H   \n",
       "32   2015      1    1            4      AS            136      N431AS   \n",
       "38   2015      1    1            4      AS            134      N464AS   \n",
       "47   2015      1    1            4      AS            114      N303AS   \n",
       "61   2015      1    1            4      AS            730      N423AS   \n",
       "890  2015      1    1            4      AS            112      N527AS   \n",
       "\n",
       "    ORIGIN_AIRPORT DESTINATION_AIRPORT  SCHEDULED_DEPARTURE  ...  \\\n",
       "0              ANC                 SEA                    5  ...   \n",
       "15             ANC                 SEA                   45  ...   \n",
       "16             ANC                 SEA                   45  ...   \n",
       "32             ANC                 SEA                  135  ...   \n",
       "38             ANC                 SEA                  155  ...   \n",
       "47             ANC                 SEA                  220  ...   \n",
       "61             ANC                 SEA                  505  ...   \n",
       "890            ANC                 SEA                  700  ...   \n",
       "\n",
       "     ARRIVAL_TIME  ARRIVAL_DELAY  DIVERTED  CANCELLED  CANCELLATION_REASON  \\\n",
       "0           408.0          -22.0         0          0                  NaN   \n",
       "15          455.0          -14.0         0          0                  NaN   \n",
       "16          451.0          -24.0         0          0                  NaN   \n",
       "32            NaN            NaN         0          1                    A   \n",
       "38          558.0          -35.0         0          0                  NaN   \n",
       "47          628.0          -12.0         0          0                  NaN   \n",
       "61          916.0          -14.0         0          0                  NaN   \n",
       "890        1115.0          -15.0         0          0                  NaN   \n",
       "\n",
       "     AIR_SYSTEM_DELAY  SECURITY_DELAY  AIRLINE_DELAY  LATE_AIRCRAFT_DELAY  \\\n",
       "0                 NaN             NaN            NaN                  NaN   \n",
       "15                NaN             NaN            NaN                  NaN   \n",
       "16                NaN             NaN            NaN                  NaN   \n",
       "32                NaN             NaN            NaN                  NaN   \n",
       "38                NaN             NaN            NaN                  NaN   \n",
       "47                NaN             NaN            NaN                  NaN   \n",
       "61                NaN             NaN            NaN                  NaN   \n",
       "890               NaN             NaN            NaN                  NaN   \n",
       "\n",
       "     WEATHER_DELAY  \n",
       "0              NaN  \n",
       "15             NaN  \n",
       "16             NaN  \n",
       "32             NaN  \n",
       "38             NaN  \n",
       "47             NaN  \n",
       "61             NaN  \n",
       "890            NaN  \n",
       "\n",
       "[8 rows x 31 columns]"
      ]
     },
     "execution_count": 34,
     "metadata": {},
     "output_type": "execute_result"
    }
   ],
   "source": [
    "df = pd.read_csv('./datasets/flights/flights_sample.csv')\n",
    "df = df[(df['MONTH'] == 1) &\n",
    "        (df['ORIGIN_AIRPORT'] == 'ANC') &\n",
    "        (df['DESTINATION_AIRPORT'] == 'SEA')]\n",
    "df"
   ]
  },
  {
   "cell_type": "code",
   "execution_count": null,
   "id": "6e81d17d",
   "metadata": {},
   "outputs": [],
   "source": [
    "# for mac\n",
    "%brew install graphviz"
   ]
  },
  {
   "cell_type": "code",
   "execution_count": null,
   "id": "1e01e074",
   "metadata": {},
   "outputs": [
    {
     "name": "stdout",
     "output_type": "stream",
     "text": [
      "E: Could not open lock file /var/lib/dpkg/lock-frontend - open (13: Permission denied)\n",
      "E: Unable to acquire the dpkg frontend lock (/var/lib/dpkg/lock-frontend), are you root?\n"
     ]
    }
   ],
   "source": [
    "# for linux\n",
    "%apt-get install graphviz"
   ]
  },
  {
   "cell_type": "code",
   "execution_count": null,
   "id": "5fe1eee8",
   "metadata": {},
   "outputs": [],
   "source": [
    "# Windows using winget\n",
    "%winget install Graphviz.Graphviz"
   ]
  },
  {
   "cell_type": "code",
   "execution_count": null,
   "id": "e0eb6348",
   "metadata": {},
   "outputs": [
    {
     "name": "stdout",
     "output_type": "stream",
     "text": [
      "Collecting graphviz\n",
      "  Downloading graphviz-0.21-py3-none-any.whl.metadata (12 kB)\n",
      "Downloading graphviz-0.21-py3-none-any.whl (47 kB)\n",
      "Installing collected packages: graphviz\n",
      "Successfully installed graphviz-0.21\n",
      "Note: you may need to restart the kernel to use updated packages.\n"
     ]
    }
   ],
   "source": [
    "%pip install graphviz"
   ]
  },
  {
   "cell_type": "markdown",
   "id": "00605545",
   "metadata": {},
   "source": [
    "### Implicit lazy evaluation"
   ]
  },
  {
   "cell_type": "code",
   "execution_count": 35,
   "id": "3febb77b",
   "metadata": {},
   "outputs": [
    {
     "data": {
      "text/plain": [
       "polars.lazyframe.frame.LazyFrame"
      ]
     },
     "execution_count": 35,
     "metadata": {},
     "output_type": "execute_result"
    }
   ],
   "source": [
    "import polars as pl\n",
    "q = (\n",
    "    pl.scan_csv('./datasets/flights/flights_sample.csv')    \n",
    ")\n",
    "type(q)"
   ]
  },
  {
   "cell_type": "code",
   "execution_count": 36,
   "id": "3729321d-4057-4409-9818-a582db6af3de",
   "metadata": {},
   "outputs": [
    {
     "data": {
      "text/plain": [
       "polars.dataframe.frame.DataFrame"
      ]
     },
     "execution_count": 36,
     "metadata": {},
     "output_type": "execute_result"
    }
   ],
   "source": [
    "df = pl.read_csv('./datasets/flights/flights_sample.csv')\n",
    "type(df)"
   ]
  },
  {
   "cell_type": "code",
   "execution_count": 37,
   "id": "fc906930-cab3-4358-bc99-83cee2cd4bc0",
   "metadata": {},
   "outputs": [],
   "source": [
    "q = pl.scan_csv('./datasets/flights/flights_sample.csv')\n",
    "q = q.select(['MONTH', 'ORIGIN_AIRPORT','DESTINATION_AIRPORT'])\n",
    "q = q.filter(\n",
    "    (pl.col('MONTH') == 1) &\n",
    "    (pl.col('ORIGIN_AIRPORT') == 'ANC') &\n",
    "    (pl.col('DESTINATION_AIRPORT') == 'SEA'))"
   ]
  },
  {
   "cell_type": "code",
   "execution_count": 38,
   "id": "078129aa-3581-4546-93b4-a03dfbce1d3c",
   "metadata": {},
   "outputs": [],
   "source": [
    "q = (\n",
    "pl.scan_csv('./datasets/flights/flights_sample.csv')\n",
    ".select(['MONTH', 'ORIGIN_AIRPORT','DESTINATION_AIRPORT'])\n",
    ".filter(\n",
    "    (pl.col('MONTH') == 1) &\n",
    "    (pl.col('ORIGIN_AIRPORT') == 'ANC') &\n",
    "    (pl.col('DESTINATION_AIRPORT') == 'SEA'))\n",
    ")"
   ]
  },
  {
   "cell_type": "code",
   "execution_count": 1,
   "id": "a3d5ceef-a591-4346-aede-0199455ce40d",
   "metadata": {},
   "outputs": [
    {
     "ename": "NameError",
     "evalue": "name 'q' is not defined",
     "output_type": "error",
     "traceback": [
      "\u001b[31m---------------------------------------------------------------------------\u001b[39m",
      "\u001b[31mNameError\u001b[39m                                 Traceback (most recent call last)",
      "\u001b[36mCell\u001b[39m\u001b[36m \u001b[39m\u001b[32mIn[1]\u001b[39m\u001b[32m, line 1\u001b[39m\n\u001b[32m----> \u001b[39m\u001b[32m1\u001b[39m \u001b[43mq\u001b[49m.show_graph(optimized=\u001b[38;5;28;01mFalse\u001b[39;00m) \u001b[38;5;66;03m# By default show_graph() prints out the query in its optimized format. However, if you print out the q object, it displays the graph in no-optimized mode.\u001b[39;00m\n",
      "\u001b[31mNameError\u001b[39m: name 'q' is not defined"
     ]
    }
   ],
   "source": [
    "q.show_graph(optimized=True) "
   ]
  },
  {
   "cell_type": "code",
   "execution_count": null,
   "id": "4b95da55-23b1-4eb7-81c1-467f6b54673f",
   "metadata": {},
   "outputs": [],
   "source": [
    "q.show_graph(optimized=False) # By default show_graph() prints out the query in its optimized format. However, if you print out the q object, it displays the graph in no-optimized mode."
   ]
  },
  {
   "cell_type": "code",
   "execution_count": 43,
   "id": "91c6eed0-76da-425b-84e2-91df7f6bb515",
   "metadata": {},
   "outputs": [
    {
     "data": {
      "text/html": [
       "<div><style>\n",
       ".dataframe > thead > tr,\n",
       ".dataframe > tbody > tr {\n",
       "  text-align: right;\n",
       "  white-space: pre-wrap;\n",
       "}\n",
       "</style>\n",
       "<small>shape: (8, 3)</small><table border=\"1\" class=\"dataframe\"><thead><tr><th>MONTH</th><th>ORIGIN_AIRPORT</th><th>DESTINATION_AIRPORT</th></tr><tr><td>i64</td><td>str</td><td>str</td></tr></thead><tbody><tr><td>1</td><td>&quot;ANC&quot;</td><td>&quot;SEA&quot;</td></tr><tr><td>1</td><td>&quot;ANC&quot;</td><td>&quot;SEA&quot;</td></tr><tr><td>1</td><td>&quot;ANC&quot;</td><td>&quot;SEA&quot;</td></tr><tr><td>1</td><td>&quot;ANC&quot;</td><td>&quot;SEA&quot;</td></tr><tr><td>1</td><td>&quot;ANC&quot;</td><td>&quot;SEA&quot;</td></tr><tr><td>1</td><td>&quot;ANC&quot;</td><td>&quot;SEA&quot;</td></tr><tr><td>1</td><td>&quot;ANC&quot;</td><td>&quot;SEA&quot;</td></tr><tr><td>1</td><td>&quot;ANC&quot;</td><td>&quot;SEA&quot;</td></tr></tbody></table></div>"
      ],
      "text/plain": [
       "shape: (8, 3)\n",
       "┌───────┬────────────────┬─────────────────────┐\n",
       "│ MONTH ┆ ORIGIN_AIRPORT ┆ DESTINATION_AIRPORT │\n",
       "│ ---   ┆ ---            ┆ ---                 │\n",
       "│ i64   ┆ str            ┆ str                 │\n",
       "╞═══════╪════════════════╪═════════════════════╡\n",
       "│ 1     ┆ ANC            ┆ SEA                 │\n",
       "│ 1     ┆ ANC            ┆ SEA                 │\n",
       "│ 1     ┆ ANC            ┆ SEA                 │\n",
       "│ 1     ┆ ANC            ┆ SEA                 │\n",
       "│ 1     ┆ ANC            ┆ SEA                 │\n",
       "│ 1     ┆ ANC            ┆ SEA                 │\n",
       "│ 1     ┆ ANC            ┆ SEA                 │\n",
       "│ 1     ┆ ANC            ┆ SEA                 │\n",
       "└───────┴────────────────┴─────────────────────┘"
      ]
     },
     "execution_count": 43,
     "metadata": {},
     "output_type": "execute_result"
    }
   ],
   "source": [
    "q.collect()"
   ]
  },
  {
   "cell_type": "markdown",
   "id": "2649647c",
   "metadata": {},
   "source": [
    "### Explicit lazy evaluation"
   ]
  },
  {
   "cell_type": "code",
   "execution_count": 44,
   "id": "443b7cee-a913-4559-8f14-e3d340994354",
   "metadata": {},
   "outputs": [
    {
     "data": {
      "text/html": [
       "<div><style>\n",
       ".dataframe > thead > tr,\n",
       ".dataframe > tbody > tr {\n",
       "  text-align: right;\n",
       "  white-space: pre-wrap;\n",
       "}\n",
       "</style>\n",
       "<small>shape: (8, 3)</small><table border=\"1\" class=\"dataframe\"><thead><tr><th>MONTH</th><th>ORIGIN_AIRPORT</th><th>DESTINATION_AIRPORT</th></tr><tr><td>i64</td><td>str</td><td>str</td></tr></thead><tbody><tr><td>1</td><td>&quot;ANC&quot;</td><td>&quot;SEA&quot;</td></tr><tr><td>1</td><td>&quot;ANC&quot;</td><td>&quot;SEA&quot;</td></tr><tr><td>1</td><td>&quot;ANC&quot;</td><td>&quot;SEA&quot;</td></tr><tr><td>1</td><td>&quot;ANC&quot;</td><td>&quot;SEA&quot;</td></tr><tr><td>1</td><td>&quot;ANC&quot;</td><td>&quot;SEA&quot;</td></tr><tr><td>1</td><td>&quot;ANC&quot;</td><td>&quot;SEA&quot;</td></tr><tr><td>1</td><td>&quot;ANC&quot;</td><td>&quot;SEA&quot;</td></tr><tr><td>1</td><td>&quot;ANC&quot;</td><td>&quot;SEA&quot;</td></tr></tbody></table></div>"
      ],
      "text/plain": [
       "shape: (8, 3)\n",
       "┌───────┬────────────────┬─────────────────────┐\n",
       "│ MONTH ┆ ORIGIN_AIRPORT ┆ DESTINATION_AIRPORT │\n",
       "│ ---   ┆ ---            ┆ ---                 │\n",
       "│ i64   ┆ str            ┆ str                 │\n",
       "╞═══════╪════════════════╪═════════════════════╡\n",
       "│ 1     ┆ ANC            ┆ SEA                 │\n",
       "│ 1     ┆ ANC            ┆ SEA                 │\n",
       "│ 1     ┆ ANC            ┆ SEA                 │\n",
       "│ 1     ┆ ANC            ┆ SEA                 │\n",
       "│ 1     ┆ ANC            ┆ SEA                 │\n",
       "│ 1     ┆ ANC            ┆ SEA                 │\n",
       "│ 1     ┆ ANC            ┆ SEA                 │\n",
       "│ 1     ┆ ANC            ┆ SEA                 │\n",
       "└───────┴────────────────┴─────────────────────┘"
      ]
     },
     "execution_count": 44,
     "metadata": {},
     "output_type": "execute_result"
    }
   ],
   "source": [
    "df = (\n",
    "    pl.read_csv('./datasets/flights/flights_sample.csv')\n",
    "    .select(['MONTH', 'ORIGIN_AIRPORT','DESTINATION_AIRPORT'])\n",
    "    .filter(\n",
    "        (pl.col('MONTH') == 1) &\n",
    "        (pl.col('ORIGIN_AIRPORT') == 'ANC') &\n",
    "        (pl.col('DESTINATION_AIRPORT') == 'SEA'))\n",
    ")\n",
    "df"
   ]
  },
  {
   "cell_type": "code",
   "execution_count": null,
   "id": "50f2ae41-eab6-4635-8057-e7cc60449072",
   "metadata": {},
   "outputs": [
    {
     "data": {
      "text/html": [
       "<div><style>\n",
       ".dataframe > thead > tr,\n",
       ".dataframe > tbody > tr {\n",
       "  text-align: right;\n",
       "  white-space: pre-wrap;\n",
       "}\n",
       "</style>\n",
       "<small>shape: (8, 3)</small><table border=\"1\" class=\"dataframe\"><thead><tr><th>MONTH</th><th>ORIGIN_AIRPORT</th><th>DESTINATION_AIRPORT</th></tr><tr><td>i64</td><td>str</td><td>str</td></tr></thead><tbody><tr><td>1</td><td>&quot;ANC&quot;</td><td>&quot;SEA&quot;</td></tr><tr><td>1</td><td>&quot;ANC&quot;</td><td>&quot;SEA&quot;</td></tr><tr><td>1</td><td>&quot;ANC&quot;</td><td>&quot;SEA&quot;</td></tr><tr><td>1</td><td>&quot;ANC&quot;</td><td>&quot;SEA&quot;</td></tr><tr><td>1</td><td>&quot;ANC&quot;</td><td>&quot;SEA&quot;</td></tr><tr><td>1</td><td>&quot;ANC&quot;</td><td>&quot;SEA&quot;</td></tr><tr><td>1</td><td>&quot;ANC&quot;</td><td>&quot;SEA&quot;</td></tr><tr><td>1</td><td>&quot;ANC&quot;</td><td>&quot;SEA&quot;</td></tr></tbody></table></div>"
      ],
      "text/plain": [
       "shape: (8, 3)\n",
       "┌───────┬────────────────┬─────────────────────┐\n",
       "│ MONTH ┆ ORIGIN_AIRPORT ┆ DESTINATION_AIRPORT │\n",
       "│ ---   ┆ ---            ┆ ---                 │\n",
       "│ i64   ┆ str            ┆ str                 │\n",
       "╞═══════╪════════════════╪═════════════════════╡\n",
       "│ 1     ┆ ANC            ┆ SEA                 │\n",
       "│ 1     ┆ ANC            ┆ SEA                 │\n",
       "│ 1     ┆ ANC            ┆ SEA                 │\n",
       "│ 1     ┆ ANC            ┆ SEA                 │\n",
       "│ 1     ┆ ANC            ┆ SEA                 │\n",
       "│ 1     ┆ ANC            ┆ SEA                 │\n",
       "│ 1     ┆ ANC            ┆ SEA                 │\n",
       "│ 1     ┆ ANC            ┆ SEA                 │\n",
       "└───────┴────────────────┴─────────────────────┘"
      ]
     },
     "metadata": {},
     "output_type": "display_data"
    }
   ],
   "source": [
    "# To ensure all the subsequent queries after the CSV is loaded can be optimized, use the lazy() method immediately after the read_csv() function.\n",
    "q = (\n",
    "    pl.read_csv('./datasets/flights/flights_sample.csv')\n",
    "    .lazy()\n",
    "    .select(['MONTH', 'ORIGIN_AIRPORT','DESTINATION_AIRPORT'])\n",
    "    .filter(\n",
    "        (pl.col('MONTH') == 1) &\n",
    "        (pl.col('ORIGIN_AIRPORT') == 'ANC') &\n",
    "        (pl.col('DESTINATION_AIRPORT') == 'SEA'))\n",
    ")\n",
    "df = q.collect()\n",
    "display(df)"
   ]
  },
  {
   "cell_type": "markdown",
   "id": "27b3c3a8",
   "metadata": {},
   "source": [
    "## Querying Polars DataFrames Using DuckDB"
   ]
  },
  {
   "cell_type": "markdown",
   "id": "87a7b564",
   "metadata": {},
   "source": [
    "### Using the sql() Function"
   ]
  },
  {
   "cell_type": "code",
   "execution_count": 4,
   "id": "120cea16-2697-4e90-b786-cfde532d793f",
   "metadata": {},
   "outputs": [
    {
     "name": "stdout",
     "output_type": "stream",
     "text": [
      "Requirement already satisfied: pyarrow in /usr/local/python/3.12.1/lib/python3.12/site-packages (21.0.0)\n",
      "Note: you may need to restart the kernel to use updated packages.\n"
     ]
    }
   ],
   "source": [
    "%pip install pyarrow\n",
    "# Remember to restart the kernel after installing new packages"
   ]
  },
  {
   "cell_type": "code",
   "execution_count": 1,
   "id": "312dbfa1-51bf-4ebf-859e-bd89c5d82896",
   "metadata": {},
   "outputs": [],
   "source": [
    "import polars as pl\n",
    "df = pl.DataFrame(\n",
    "    {\n",
    "        'Model': ['Camry','Corolla','RAV4',\n",
    "                  'Mustang','F-150','Escape',\n",
    "                  'Golf','Tiguan'],\n",
    "        'Year': [1982,1966,1994,1964,1975,2000,1974,2007],\n",
    "        'Engine_Min':[2.5,1.8,2.0,2.3,2.7,1.5,1.0,1.4],\n",
    "        'Engine_Max':[3.5,2.0,2.5,5.0,5.0,2.5,2.0,2.0],\n",
    "        'AWD':[False,False,True,False,True,True,True,True],\n",
    "        'Company': ['Toyota','Toyota','Toyota','Ford',\n",
    "        'Ford','Ford','Volkswagen','Volkswagen'],\n",
    "    }\n",
    ")    "
   ]
  },
  {
   "cell_type": "code",
   "execution_count": null,
   "id": "75f9e3f5-9cc8-4ef7-91f0-b12563a31bda",
   "metadata": {},
   "outputs": [
    {
     "data": {
      "text/plain": [
       "┌─────────┬───────┬────────────┬────────────┬─────────┬────────────┐\n",
       "│  Model  │ Year  │ Engine_Min │ Engine_Max │   AWD   │  Company   │\n",
       "│ varchar │ int64 │   double   │   double   │ boolean │  varchar   │\n",
       "├─────────┼───────┼────────────┼────────────┼─────────┼────────────┤\n",
       "│ Camry   │  1982 │        2.5 │        3.5 │ false   │ Toyota     │\n",
       "│ Corolla │  1966 │        1.8 │        2.0 │ false   │ Toyota     │\n",
       "│ RAV4    │  1994 │        2.0 │        2.5 │ true    │ Toyota     │\n",
       "│ Mustang │  1964 │        2.3 │        5.0 │ false   │ Ford       │\n",
       "│ F-150   │  1975 │        2.7 │        5.0 │ true    │ Ford       │\n",
       "│ Escape  │  2000 │        1.5 │        2.5 │ true    │ Ford       │\n",
       "│ Golf    │  1974 │        1.0 │        2.0 │ true    │ Volkswagen │\n",
       "│ Tiguan  │  2007 │        1.4 │        2.0 │ true    │ Volkswagen │\n",
       "└─────────┴───────┴────────────┴────────────┴─────────┴────────────┘"
      ]
     },
     "execution_count": 3,
     "metadata": {},
     "output_type": "execute_result"
    }
   ],
   "source": [
    "import duckdb\n",
    "result = duckdb.sql('''\n",
    "  SELECT \n",
    "    *\n",
    "  FROM df\n",
    "''')\n",
    "result\n",
    "# The sql() functions returns a duck.DuckDBPyRelation object."
   ]
  },
  {
   "cell_type": "code",
   "execution_count": null,
   "id": "baa43524-bb3e-419f-8fac-d35b19fe0556",
   "metadata": {},
   "outputs": [
    {
     "data": {
      "text/html": [
       "<div><style>\n",
       ".dataframe > thead > tr,\n",
       ".dataframe > tbody > tr {\n",
       "  text-align: right;\n",
       "  white-space: pre-wrap;\n",
       "}\n",
       "</style>\n",
       "<small>shape: (8, 6)</small><table border=\"1\" class=\"dataframe\"><thead><tr><th>Model</th><th>Year</th><th>Engine_Min</th><th>Engine_Max</th><th>AWD</th><th>Company</th></tr><tr><td>str</td><td>i64</td><td>f64</td><td>f64</td><td>bool</td><td>str</td></tr></thead><tbody><tr><td>&quot;Camry&quot;</td><td>1982</td><td>2.5</td><td>3.5</td><td>false</td><td>&quot;Toyota&quot;</td></tr><tr><td>&quot;Corolla&quot;</td><td>1966</td><td>1.8</td><td>2.0</td><td>false</td><td>&quot;Toyota&quot;</td></tr><tr><td>&quot;RAV4&quot;</td><td>1994</td><td>2.0</td><td>2.5</td><td>true</td><td>&quot;Toyota&quot;</td></tr><tr><td>&quot;Mustang&quot;</td><td>1964</td><td>2.3</td><td>5.0</td><td>false</td><td>&quot;Ford&quot;</td></tr><tr><td>&quot;F-150&quot;</td><td>1975</td><td>2.7</td><td>5.0</td><td>true</td><td>&quot;Ford&quot;</td></tr><tr><td>&quot;Escape&quot;</td><td>2000</td><td>1.5</td><td>2.5</td><td>true</td><td>&quot;Ford&quot;</td></tr><tr><td>&quot;Golf&quot;</td><td>1974</td><td>1.0</td><td>2.0</td><td>true</td><td>&quot;Volkswagen&quot;</td></tr><tr><td>&quot;Tiguan&quot;</td><td>2007</td><td>1.4</td><td>2.0</td><td>true</td><td>&quot;Volkswagen&quot;</td></tr></tbody></table></div>"
      ],
      "text/plain": [
       "shape: (8, 6)\n",
       "┌─────────┬──────┬────────────┬────────────┬───────┬────────────┐\n",
       "│ Model   ┆ Year ┆ Engine_Min ┆ Engine_Max ┆ AWD   ┆ Company    │\n",
       "│ ---     ┆ ---  ┆ ---        ┆ ---        ┆ ---   ┆ ---        │\n",
       "│ str     ┆ i64  ┆ f64        ┆ f64        ┆ bool  ┆ str        │\n",
       "╞═════════╪══════╪════════════╪════════════╪═══════╪════════════╡\n",
       "│ Camry   ┆ 1982 ┆ 2.5        ┆ 3.5        ┆ false ┆ Toyota     │\n",
       "│ Corolla ┆ 1966 ┆ 1.8        ┆ 2.0        ┆ false ┆ Toyota     │\n",
       "│ RAV4    ┆ 1994 ┆ 2.0        ┆ 2.5        ┆ true  ┆ Toyota     │\n",
       "│ Mustang ┆ 1964 ┆ 2.3        ┆ 5.0        ┆ false ┆ Ford       │\n",
       "│ F-150   ┆ 1975 ┆ 2.7        ┆ 5.0        ┆ true  ┆ Ford       │\n",
       "│ Escape  ┆ 2000 ┆ 1.5        ┆ 2.5        ┆ true  ┆ Ford       │\n",
       "│ Golf    ┆ 1974 ┆ 1.0        ┆ 2.0        ┆ true  ┆ Volkswagen │\n",
       "│ Tiguan  ┆ 2007 ┆ 1.4        ┆ 2.0        ┆ true  ┆ Volkswagen │\n",
       "└─────────┴──────┴────────────┴────────────┴───────┴────────────┘"
      ]
     },
     "execution_count": 5,
     "metadata": {},
     "output_type": "execute_result"
    }
   ],
   "source": [
    "result.pl() - # Displays the result as a Polars DataFrame"
   ]
  },
  {
   "cell_type": "code",
   "execution_count": null,
   "id": "3f91ebe9-aec1-4cef-a5c0-48ab4cfa4e43",
   "metadata": {},
   "outputs": [
    {
     "data": {
      "text/plain": [
       "┌─────────┬─────────┬────────────────────┬────────────────────┬───────────────────┬─────────┬────────────┐\n",
       "│  aggr   │  Model  │        Year        │     Engine_Min     │    Engine_Max     │   AWD   │  Company   │\n",
       "│ varchar │ varchar │       double       │       double       │      double       │ varchar │  varchar   │\n",
       "├─────────┼─────────┼────────────────────┼────────────────────┼───────────────────┼─────────┼────────────┤\n",
       "│ count   │ 8       │                8.0 │                8.0 │               8.0 │ 8       │ 8          │\n",
       "│ mean    │ NULL    │            1982.75 │ 1.9000000000000001 │            3.0625 │ NULL    │ NULL       │\n",
       "│ stddev  │ NULL    │ 15.953056133543761 │ 0.5855400437691198 │ 1.293872923766914 │ NULL    │ NULL       │\n",
       "│ min     │ Camry   │             1964.0 │                1.0 │               2.0 │ false   │ Ford       │\n",
       "│ max     │ Tiguan  │             2007.0 │                2.7 │               5.0 │ true    │ Volkswagen │\n",
       "│ median  │ NULL    │             1978.5 │                1.9 │               2.5 │ NULL    │ NULL       │\n",
       "└─────────┴─────────┴────────────────────┴────────────────────┴───────────────────┴─────────┴────────────┘"
      ]
     },
     "execution_count": 6,
     "metadata": {},
     "output_type": "execute_result"
    }
   ],
   "source": [
    "result.describe() # Generate some basic statistics (min, max, median, count, stddev)"
   ]
  },
  {
   "cell_type": "code",
   "execution_count": null,
   "id": "32e09615-50da-4840-a023-32cdf3276eb0",
   "metadata": {},
   "outputs": [
    {
     "data": {
      "text/plain": [
       "┌─────────┬───────┬────────────┬────────────┬─────────┬────────────┐\n",
       "│  Model  │ Year  │ Engine_Min │ Engine_Max │   AWD   │  Company   │\n",
       "│ varchar │ int64 │   double   │   double   │ boolean │  varchar   │\n",
       "├─────────┼───────┼────────────┼────────────┼─────────┼────────────┤\n",
       "│ Mustang │  1964 │        2.3 │        5.0 │ false   │ Ford       │\n",
       "│ Corolla │  1966 │        1.8 │        2.0 │ false   │ Toyota     │\n",
       "│ Golf    │  1974 │        1.0 │        2.0 │ true    │ Volkswagen │\n",
       "│ F-150   │  1975 │        2.7 │        5.0 │ true    │ Ford       │\n",
       "│ Camry   │  1982 │        2.5 │        3.5 │ false   │ Toyota     │\n",
       "│ RAV4    │  1994 │        2.0 │        2.5 │ true    │ Toyota     │\n",
       "│ Escape  │  2000 │        1.5 │        2.5 │ true    │ Ford       │\n",
       "│ Tiguan  │  2007 │        1.4 │        2.0 │ true    │ Volkswagen │\n",
       "└─────────┴───────┴────────────┴────────────┴─────────┴────────────┘"
      ]
     },
     "execution_count": 7,
     "metadata": {},
     "output_type": "execute_result"
    }
   ],
   "source": [
    "result.order('Year') # Order the result by the Year column"
   ]
  },
  {
   "cell_type": "code",
   "execution_count": null,
   "id": "1170b163-fce7-4144-9fc7-175e758e68d5",
   "metadata": {},
   "outputs": [
    {
     "data": {
      "text/plain": [
       "┌─────────┬───────┬────────────┬────────────┬─────────┬────────────┐\n",
       "│  Model  │ Year  │ Engine_Min │ Engine_Max │   AWD   │  Company   │\n",
       "│ varchar │ int64 │   double   │   double   │ boolean │  varchar   │\n",
       "├─────────┼───────┼────────────┼────────────┼─────────┼────────────┤\n",
       "│ Tiguan  │  2007 │        1.4 │        2.0 │ true    │ Volkswagen │\n",
       "│ Escape  │  2000 │        1.5 │        2.5 │ true    │ Ford       │\n",
       "│ RAV4    │  1994 │        2.0 │        2.5 │ true    │ Toyota     │\n",
       "│ Camry   │  1982 │        2.5 │        3.5 │ false   │ Toyota     │\n",
       "│ F-150   │  1975 │        2.7 │        5.0 │ true    │ Ford       │\n",
       "│ Golf    │  1974 │        1.0 │        2.0 │ true    │ Volkswagen │\n",
       "│ Corolla │  1966 │        1.8 │        2.0 │ false   │ Toyota     │\n",
       "│ Mustang │  1964 │        2.3 │        5.0 │ false   │ Ford       │\n",
       "└─────────┴───────┴────────────┴────────────┴─────────┴────────────┘"
      ]
     },
     "execution_count": 8,
     "metadata": {},
     "output_type": "execute_result"
    }
   ],
   "source": [
    "result.order('Year DESC') # Order the result by the Year column in descending order"
   ]
  },
  {
   "cell_type": "code",
   "execution_count": null,
   "id": "682b2c93-e4d7-4219-8600-55a293c4cdb8",
   "metadata": {},
   "outputs": [
    {
     "data": {
      "text/plain": [
       "┌─────────────┐\n",
       "│ min(\"Year\") │\n",
       "│    int64    │\n",
       "├─────────────┤\n",
       "│        1964 │\n",
       "└─────────────┘"
      ]
     },
     "execution_count": 9,
     "metadata": {},
     "output_type": "execute_result"
    }
   ],
   "source": [
    "result.apply('min', 'Year') # Use the apply() method to apply a function to a column. "
   ]
  },
  {
   "cell_type": "code",
   "execution_count": 10,
   "id": "be3cf755-fc14-4f1c-b87c-2c77c9389e74",
   "metadata": {},
   "outputs": [
    {
     "data": {
      "text/html": [
       "<div><style>\n",
       ".dataframe > thead > tr,\n",
       ".dataframe > tbody > tr {\n",
       "  text-align: right;\n",
       "  white-space: pre-wrap;\n",
       "}\n",
       "</style>\n",
       "<small>shape: (8, 2)</small><table border=\"1\" class=\"dataframe\"><thead><tr><th>Company</th><th>Model</th></tr><tr><td>str</td><td>str</td></tr></thead><tbody><tr><td>&quot;Ford&quot;</td><td>&quot;Escape&quot;</td></tr><tr><td>&quot;Ford&quot;</td><td>&quot;F-150&quot;</td></tr><tr><td>&quot;Ford&quot;</td><td>&quot;Mustang&quot;</td></tr><tr><td>&quot;Toyota&quot;</td><td>&quot;Camry&quot;</td></tr><tr><td>&quot;Toyota&quot;</td><td>&quot;Corolla&quot;</td></tr><tr><td>&quot;Toyota&quot;</td><td>&quot;RAV4&quot;</td></tr><tr><td>&quot;Volkswagen&quot;</td><td>&quot;Golf&quot;</td></tr><tr><td>&quot;Volkswagen&quot;</td><td>&quot;Tiguan&quot;</td></tr></tbody></table></div>"
      ],
      "text/plain": [
       "shape: (8, 2)\n",
       "┌────────────┬─────────┐\n",
       "│ Company    ┆ Model   │\n",
       "│ ---        ┆ ---     │\n",
       "│ str        ┆ str     │\n",
       "╞════════════╪═════════╡\n",
       "│ Ford       ┆ Escape  │\n",
       "│ Ford       ┆ F-150   │\n",
       "│ Ford       ┆ Mustang │\n",
       "│ Toyota     ┆ Camry   │\n",
       "│ Toyota     ┆ Corolla │\n",
       "│ Toyota     ┆ RAV4    │\n",
       "│ Volkswagen ┆ Golf    │\n",
       "│ Volkswagen ┆ Tiguan  │\n",
       "└────────────┴─────────┘"
      ]
     },
     "execution_count": 10,
     "metadata": {},
     "output_type": "execute_result"
    }
   ],
   "source": [
    "duckdb.sql('''\n",
    "  SELECT Company, Model\n",
    "  FROM df\n",
    "  ORDER by Company, Model\n",
    "''').pl()"
   ]
  },
  {
   "cell_type": "code",
   "execution_count": 11,
   "id": "69ecc2ee-01e5-4686-b092-5f792321d5e5",
   "metadata": {},
   "outputs": [
    {
     "data": {
      "text/html": [
       "<div><style>\n",
       ".dataframe > thead > tr,\n",
       ".dataframe > tbody > tr {\n",
       "  text-align: right;\n",
       "  white-space: pre-wrap;\n",
       "}\n",
       "</style>\n",
       "<small>shape: (3, 2)</small><table border=\"1\" class=\"dataframe\"><thead><tr><th>Company</th><th>count</th></tr><tr><td>str</td><td>i64</td></tr></thead><tbody><tr><td>&quot;Toyota&quot;</td><td>3</td></tr><tr><td>&quot;Volkswagen&quot;</td><td>2</td></tr><tr><td>&quot;Ford&quot;</td><td>3</td></tr></tbody></table></div>"
      ],
      "text/plain": [
       "shape: (3, 2)\n",
       "┌────────────┬───────┐\n",
       "│ Company    ┆ count │\n",
       "│ ---        ┆ ---   │\n",
       "│ str        ┆ i64   │\n",
       "╞════════════╪═══════╡\n",
       "│ Toyota     ┆ 3     │\n",
       "│ Volkswagen ┆ 2     │\n",
       "│ Ford       ┆ 3     │\n",
       "└────────────┴───────┘"
      ]
     },
     "execution_count": 11,
     "metadata": {},
     "output_type": "execute_result"
    }
   ],
   "source": [
    "duckdb.sql('''\n",
    "  SELECT Company, count(Model) as count\n",
    "  FROM df\n",
    "  GROUP BY Company\n",
    "''').pl()"
   ]
  },
  {
   "cell_type": "code",
   "execution_count": 12,
   "id": "605d8a57-6ebf-49c6-9787-804282bf383d",
   "metadata": {},
   "outputs": [
    {
     "data": {
      "text/html": [
       "<div><style>\n",
       ".dataframe > thead > tr,\n",
       ".dataframe > tbody > tr {\n",
       "  text-align: right;\n",
       "  white-space: pre-wrap;\n",
       "}\n",
       "</style>\n",
       "<small>shape: (3, 2)</small><table border=\"1\" class=\"dataframe\"><thead><tr><th>Company</th><th>count</th></tr><tr><td>str</td><td>u32</td></tr></thead><tbody><tr><td>&quot;Toyota&quot;</td><td>3</td></tr><tr><td>&quot;Ford&quot;</td><td>3</td></tr><tr><td>&quot;Volkswagen&quot;</td><td>2</td></tr></tbody></table></div>"
      ],
      "text/plain": [
       "shape: (3, 2)\n",
       "┌────────────┬───────┐\n",
       "│ Company    ┆ count │\n",
       "│ ---        ┆ ---   │\n",
       "│ str        ┆ u32   │\n",
       "╞════════════╪═══════╡\n",
       "│ Toyota     ┆ 3     │\n",
       "│ Ford       ┆ 3     │\n",
       "│ Volkswagen ┆ 2     │\n",
       "└────────────┴───────┘"
      ]
     },
     "execution_count": 12,
     "metadata": {},
     "output_type": "execute_result"
    }
   ],
   "source": [
    "result.pl().select(\n",
    "    pl.col('Company').value_counts()\n",
    ").unnest('Company')"
   ]
  },
  {
   "cell_type": "markdown",
   "id": "844782d7",
   "metadata": {},
   "source": [
    "### Using the DuckDBPyRelation Object"
   ]
  },
  {
   "cell_type": "code",
   "execution_count": 13,
   "id": "0d000cac-f81c-4bae-9a8b-6ca9d09d5c30",
   "metadata": {},
   "outputs": [
    {
     "data": {
      "text/plain": [
       "<duckdb.duckdb.DuckDBPyConnection at 0x7ac703f9a830>"
      ]
     },
     "execution_count": 13,
     "metadata": {},
     "output_type": "execute_result"
    }
   ],
   "source": [
    "import duckdb\n",
    "conn = duckdb.connect()\n",
    "conn.execute('''\n",
    "  CREATE TABLE customers\n",
    "    (customer_id INTEGER PRIMARY KEY, name STRING)\n",
    "''')\n",
    "conn.execute('''\n",
    "  CREATE TABLE products\n",
    "    (product_id INTEGER PRIMARY KEY, product_name STRING)\n",
    "''')\n",
    "conn.execute('''\n",
    "  CREATE TABLE sales\n",
    "    (customer_id INTEGER, product_id INTEGER, qty INTEGER,\n",
    "  PRIMARY KEY(customer_id,product_id))\n",
    "''')"
   ]
  },
  {
   "cell_type": "code",
   "execution_count": null,
   "id": "d9ccd4fd-2e67-4f89-97bc-687c7dbe5318",
   "metadata": {},
   "outputs": [],
   "source": [
    "customers_relation = conn.table('customers') # Load the customers table as a DuckDBPyRelation object"
   ]
  },
  {
   "cell_type": "code",
   "execution_count": 15,
   "id": "f27e4d24-e104-44fc-a020-087c1de118c4",
   "metadata": {},
   "outputs": [
    {
     "data": {
      "text/html": [
       "<div><style>\n",
       ".dataframe > thead > tr,\n",
       ".dataframe > tbody > tr {\n",
       "  text-align: right;\n",
       "  white-space: pre-wrap;\n",
       "}\n",
       "</style>\n",
       "<small>shape: (0, 2)</small><table border=\"1\" class=\"dataframe\"><thead><tr><th>customer_id</th><th>name</th></tr><tr><td>i32</td><td>str</td></tr></thead><tbody></tbody></table></div>"
      ],
      "text/plain": [
       "shape: (0, 2)\n",
       "┌─────────────┬──────┐\n",
       "│ customer_id ┆ name │\n",
       "│ ---         ┆ ---  │\n",
       "│ i32         ┆ str  │\n",
       "╞═════════════╪══════╡\n",
       "└─────────────┴──────┘"
      ]
     },
     "execution_count": 15,
     "metadata": {},
     "output_type": "execute_result"
    }
   ],
   "source": [
    "# convert to a pandas DataFrame\n",
    "customers_relation.df()\n",
    "\n",
    "# convert to a Polars DataFrame\n",
    "customers_relation.pl()"
   ]
  },
  {
   "cell_type": "markdown",
   "id": "c4667f12",
   "metadata": {},
   "source": [
    "### Inserting Rows"
   ]
  },
  {
   "cell_type": "code",
   "execution_count": 16,
   "id": "18b30f50-9c82-48e9-ab11-69393818bb06",
   "metadata": {},
   "outputs": [],
   "source": [
    "customers_relation.insert([1, 'Alice'])\n",
    "customers_relation.insert([2, 'Bob'])\n",
    "customers_relation.insert([3, 'Charlie'])"
   ]
  },
  {
   "cell_type": "code",
   "execution_count": 17,
   "id": "81cf8d3c-34f1-47bc-ba83-ef4a0b250042",
   "metadata": {},
   "outputs": [],
   "source": [
    "products_relation = conn.table('products')\n",
    "products_relation.insert([10, 'Paperclips'])\n",
    "products_relation.insert([20, 'Staple'])\n",
    "products_relation.insert([30, 'Notebook'])\n",
    "sales_relation = conn.table(\"sales\")\n",
    "sales_relation.insert([1,20,1])\n",
    "sales_relation.insert([1,10,2])\n",
    "sales_relation.insert([2,30,7])\n",
    "sales_relation.insert([3,10,3])\n",
    "sales_relation.insert([3,20,2])"
   ]
  },
  {
   "cell_type": "markdown",
   "id": "2d666ab1",
   "metadata": {},
   "source": [
    "### Joining tables"
   ]
  },
  {
   "cell_type": "code",
   "execution_count": 18,
   "id": "8adfe904-291f-4578-bd04-40cad9028f96",
   "metadata": {},
   "outputs": [],
   "source": [
    "result = customers_relation.join(\n",
    "    sales_relation,\n",
    "    condition = \"customer_id\",\n",
    "    how = \"inner\"\n",
    ").join(\n",
    "    products_relation,\n",
    "    condition = \"product_id\",\n",
    "    how = \"inner\"\n",
    ")    "
   ]
  },
  {
   "cell_type": "code",
   "execution_count": 19,
   "id": "0dae47cb-5821-4c13-bbfc-9a371e68fd65",
   "metadata": {},
   "outputs": [
    {
     "data": {
      "text/plain": [
       "┌─────────────┬─────────┬────────────┬───────┬──────────────┐\n",
       "│ customer_id │  name   │ product_id │  qty  │ product_name │\n",
       "│    int32    │ varchar │   int32    │ int32 │   varchar    │\n",
       "├─────────────┼─────────┼────────────┼───────┼──────────────┤\n",
       "│           1 │ Alice   │         20 │     1 │ Staple       │\n",
       "│           1 │ Alice   │         10 │     2 │ Paperclips   │\n",
       "│           2 │ Bob     │         30 │     7 │ Notebook     │\n",
       "│           3 │ Charlie │         10 │     3 │ Paperclips   │\n",
       "│           3 │ Charlie │         20 │     2 │ Staple       │\n",
       "└─────────────┴─────────┴────────────┴───────┴──────────────┘"
      ]
     },
     "execution_count": 19,
     "metadata": {},
     "output_type": "execute_result"
    }
   ],
   "source": [
    "result"
   ]
  },
  {
   "cell_type": "markdown",
   "id": "f0f13804",
   "metadata": {},
   "source": [
    "### Filtering rows"
   ]
  },
  {
   "cell_type": "code",
   "execution_count": 20,
   "id": "6093c983-ec73-4b79-bfa0-830f587a04d6",
   "metadata": {},
   "outputs": [
    {
     "data": {
      "text/plain": [
       "┌─────────────┬─────────┬────────────┬───────┬──────────────┐\n",
       "│ customer_id │  name   │ product_id │  qty  │ product_name │\n",
       "│    int32    │ varchar │   int32    │ int32 │   varchar    │\n",
       "├─────────────┼─────────┼────────────┼───────┼──────────────┤\n",
       "│           1 │ Alice   │         10 │     2 │ Paperclips   │\n",
       "│           1 │ Alice   │         20 │     1 │ Staple       │\n",
       "└─────────────┴─────────┴────────────┴───────┴──────────────┘"
      ]
     },
     "execution_count": 20,
     "metadata": {},
     "output_type": "execute_result"
    }
   ],
   "source": [
    "result.filter('customer_id = 1')"
   ]
  },
  {
   "cell_type": "code",
   "execution_count": 21,
   "id": "a9ac1a55-c762-492c-b5b0-42faabfcb7d9",
   "metadata": {},
   "outputs": [
    {
     "data": {
      "text/html": [
       "<div><style>\n",
       ".dataframe > thead > tr,\n",
       ".dataframe > tbody > tr {\n",
       "  text-align: right;\n",
       "  white-space: pre-wrap;\n",
       "}\n",
       "</style>\n",
       "<small>shape: (2, 5)</small><table border=\"1\" class=\"dataframe\"><thead><tr><th>customer_id</th><th>name</th><th>product_id</th><th>qty</th><th>product_name</th></tr><tr><td>i32</td><td>str</td><td>i32</td><td>i32</td><td>str</td></tr></thead><tbody><tr><td>1</td><td>&quot;Alice&quot;</td><td>10</td><td>2</td><td>&quot;Paperclips&quot;</td></tr><tr><td>1</td><td>&quot;Alice&quot;</td><td>20</td><td>1</td><td>&quot;Staple&quot;</td></tr></tbody></table></div>"
      ],
      "text/plain": [
       "shape: (2, 5)\n",
       "┌─────────────┬───────┬────────────┬─────┬──────────────┐\n",
       "│ customer_id ┆ name  ┆ product_id ┆ qty ┆ product_name │\n",
       "│ ---         ┆ ---   ┆ ---        ┆ --- ┆ ---          │\n",
       "│ i32         ┆ str   ┆ i32        ┆ i32 ┆ str          │\n",
       "╞═════════════╪═══════╪════════════╪═════╪══════════════╡\n",
       "│ 1           ┆ Alice ┆ 10         ┆ 2   ┆ Paperclips   │\n",
       "│ 1           ┆ Alice ┆ 20         ┆ 1   ┆ Staple       │\n",
       "└─────────────┴───────┴────────────┴─────┴──────────────┘"
      ]
     },
     "execution_count": 21,
     "metadata": {},
     "output_type": "execute_result"
    }
   ],
   "source": [
    "# execute a query on the result to fetch and print the joined data\n",
    "conn.execute('''\n",
    "  SELECT *\n",
    "  FROM result\n",
    "  WHERE customer_id = 1\n",
    "''').pl()"
   ]
  },
  {
   "cell_type": "markdown",
   "id": "f343e979",
   "metadata": {},
   "source": [
    "### Aggregating rows"
   ]
  },
  {
   "cell_type": "code",
   "execution_count": 22,
   "id": "b5178ef6-b987-417c-a993-850e9cc93133",
   "metadata": {},
   "outputs": [
    {
     "data": {
      "text/plain": [
       "┌─────────────┬─────────┬───────────┐\n",
       "│ customer_id │  Name   │ Total Qty │\n",
       "│    int32    │ varchar │  int128   │\n",
       "├─────────────┼─────────┼───────────┤\n",
       "│           1 │ Alice   │         3 │\n",
       "│           2 │ Bob     │         7 │\n",
       "│           3 │ Charlie │         5 │\n",
       "└─────────────┴─────────┴───────────┘"
      ]
     },
     "execution_count": 22,
     "metadata": {},
     "output_type": "execute_result"
    }
   ],
   "source": [
    "result.aggregate('customer_id, MAX(name) AS Name, ' +\n",
    "                 'SUM(qty) as \"Total Qty\"',\n",
    "                 'customer_id')"
   ]
  },
  {
   "cell_type": "code",
   "execution_count": 23,
   "id": "13fb7d28",
   "metadata": {},
   "outputs": [
    {
     "data": {
      "text/html": [
       "<div><style>\n",
       ".dataframe > thead > tr,\n",
       ".dataframe > tbody > tr {\n",
       "  text-align: right;\n",
       "  white-space: pre-wrap;\n",
       "}\n",
       "</style>\n",
       "<small>shape: (3, 3)</small><table border=\"1\" class=\"dataframe\"><thead><tr><th>Customer ID</th><th>Name</th><th>Total Qty</th></tr><tr><td>i32</td><td>str</td><td>decimal[38,0]</td></tr></thead><tbody><tr><td>1</td><td>&quot;Alice&quot;</td><td>3</td></tr><tr><td>2</td><td>&quot;Bob&quot;</td><td>7</td></tr><tr><td>3</td><td>&quot;Charlie&quot;</td><td>5</td></tr></tbody></table></div>"
      ],
      "text/plain": [
       "shape: (3, 3)\n",
       "┌─────────────┬─────────┬───────────────┐\n",
       "│ Customer ID ┆ Name    ┆ Total Qty     │\n",
       "│ ---         ┆ ---     ┆ ---           │\n",
       "│ i32         ┆ str     ┆ decimal[38,0] │\n",
       "╞═════════════╪═════════╪═══════════════╡\n",
       "│ 1           ┆ Alice   ┆ 3             │\n",
       "│ 2           ┆ Bob     ┆ 7             │\n",
       "│ 3           ┆ Charlie ┆ 5             │\n",
       "└─────────────┴─────────┴───────────────┘"
      ]
     },
     "execution_count": 23,
     "metadata": {},
     "output_type": "execute_result"
    }
   ],
   "source": [
    "# execute a query on the result to fetch and print the aggregated data\n",
    "conn.execute('''\n",
    "  SELECT customer_id as 'Customer ID', MAX(name) AS Name, sum(qty) AS \"Total Qty\"\n",
    "  FROM result\n",
    "  GROUP BY customer_id\n",
    "''').pl()"
   ]
  },
  {
   "cell_type": "markdown",
   "id": "4407fcdf",
   "metadata": {},
   "source": [
    "### Projecting columns"
   ]
  },
  {
   "cell_type": "code",
   "execution_count": 24,
   "id": "d2eec42b-8b71-473d-a942-9751c87c9dff",
   "metadata": {},
   "outputs": [
    {
     "data": {
      "text/plain": [
       "┌─────────┬───────┬──────────────┐\n",
       "│  name   │  qty  │ product_name │\n",
       "│ varchar │ int32 │   varchar    │\n",
       "├─────────┼───────┼──────────────┤\n",
       "│ Alice   │     1 │ Staple       │\n",
       "│ Alice   │     2 │ Paperclips   │\n",
       "│ Bob     │     7 │ Notebook     │\n",
       "│ Charlie │     3 │ Paperclips   │\n",
       "│ Charlie │     2 │ Staple       │\n",
       "└─────────┴───────┴──────────────┘"
      ]
     },
     "execution_count": 24,
     "metadata": {},
     "output_type": "execute_result"
    }
   ],
   "source": [
    "result.project('name, qty, product_name')"
   ]
  },
  {
   "cell_type": "markdown",
   "id": "d8b81098",
   "metadata": {},
   "source": [
    "### Limiting rows"
   ]
  },
  {
   "cell_type": "code",
   "execution_count": 25,
   "id": "1455f549-1852-4e9c-a3dc-1f17d7b2ede3",
   "metadata": {},
   "outputs": [
    {
     "data": {
      "text/plain": [
       "┌─────────────┬─────────┬────────────┬───────┬──────────────┐\n",
       "│ customer_id │  name   │ product_id │  qty  │ product_name │\n",
       "│    int32    │ varchar │   int32    │ int32 │   varchar    │\n",
       "├─────────────┼─────────┼────────────┼───────┼──────────────┤\n",
       "│           1 │ Alice   │         20 │     1 │ Staple       │\n",
       "│           1 │ Alice   │         10 │     2 │ Paperclips   │\n",
       "│           2 │ Bob     │         30 │     7 │ Notebook     │\n",
       "└─────────────┴─────────┴────────────┴───────┴──────────────┘"
      ]
     },
     "execution_count": 25,
     "metadata": {},
     "output_type": "execute_result"
    }
   ],
   "source": [
    "result.limit(3)"
   ]
  },
  {
   "cell_type": "code",
   "execution_count": 26,
   "id": "1ad7c768-202b-4583-b528-563664e532b4",
   "metadata": {},
   "outputs": [
    {
     "data": {
      "text/plain": [
       "┌─────────────┬─────────┬────────────┬───────┬──────────────┐\n",
       "│ customer_id │  name   │ product_id │  qty  │ product_name │\n",
       "│    int32    │ varchar │   int32    │ int32 │   varchar    │\n",
       "├─────────────┼─────────┼────────────┼───────┼──────────────┤\n",
       "│           2 │ Bob     │         30 │     7 │ Notebook     │\n",
       "│           3 │ Charlie │         10 │     3 │ Paperclips   │\n",
       "│           3 │ Charlie │         20 │     2 │ Staple       │\n",
       "└─────────────┴─────────┴────────────┴───────┴──────────────┘"
      ]
     },
     "execution_count": 26,
     "metadata": {},
     "output_type": "execute_result"
    }
   ],
   "source": [
    "result.limit(3,2) # display 3 rows, starting at offset 2 (third row)"
   ]
  }
 ],
 "metadata": {
  "kernelspec": {
   "display_name": "Python 3",
   "language": "python",
   "name": "python3"
  },
  "language_info": {
   "codemirror_mode": {
    "name": "ipython",
    "version": 3
   },
   "file_extension": ".py",
   "mimetype": "text/x-python",
   "name": "python",
   "nbconvert_exporter": "python",
   "pygments_lexer": "ipython3",
   "version": "3.12.1"
  }
 },
 "nbformat": 4,
 "nbformat_minor": 5
}
