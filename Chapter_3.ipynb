{
 "cells": [
  {
   "cell_type": "markdown",
   "id": "75ebaec0",
   "metadata": {},
   "source": [
    "# Chapter 3. A Primer on SQL"
   ]
  },
  {
   "cell_type": "markdown",
   "id": "51b5fd3c",
   "metadata": {},
   "source": [
    "## Using the DuckDB CLI"
   ]
  },
  {
   "cell_type": "code",
   "execution_count": null,
   "id": "721da5b3",
   "metadata": {},
   "outputs": [
    {
     "name": "stderr",
     "output_type": "stream",
     "text": [
      "UsageError: Line magic function `%curl` not found.\n"
     ]
    }
   ],
   "source": [
    "# Linux Command to install DuckDB CLI\n",
    "%curl https://install.duckdb.org | sh"
   ]
  },
  {
   "cell_type": "code",
   "execution_count": null,
   "id": "ba4f8b16",
   "metadata": {},
   "outputs": [],
   "source": [
    "# Windows Command to install DuckDB CLI\n",
    "%powershell -Command \"winget install DuckDb.cli\""
   ]
  },
  {
   "cell_type": "code",
   "execution_count": null,
   "id": "644d2d0d",
   "metadata": {},
   "outputs": [],
   "source": [
    "#MacOS Command to install DuckDB CLI\n",
    "%brew install duckdb"
   ]
  },
  {
   "cell_type": "code",
   "execution_count": null,
   "id": "bbde0a2f",
   "metadata": {},
   "outputs": [
    {
     "name": "stderr",
     "output_type": "stream",
     "text": [
      "UsageError: Line magic function `%duckdb` not found.\n"
     ]
    }
   ],
   "source": [
    "duckdb -help"
   ]
  },
  {
   "cell_type": "code",
   "execution_count": null,
   "id": "fe10f100",
   "metadata": {},
   "outputs": [],
   "source": [
    "%duckdb"
   ]
  },
  {
   "cell_type": "code",
   "execution_count": 4,
   "id": "c9a3ada1",
   "metadata": {},
   "outputs": [
    {
     "ename": "SyntaxError",
     "evalue": "invalid syntax (2372247750.py, line 1)",
     "output_type": "error",
     "traceback": [
      "  \u001b[36mCell\u001b[39m\u001b[36m \u001b[39m\u001b[32mIn[4]\u001b[39m\u001b[32m, line 1\u001b[39m\n\u001b[31m    \u001b[39m\u001b[31mduckdb mydb.duckdb\u001b[39m\n           ^\n\u001b[31mSyntaxError\u001b[39m\u001b[31m:\u001b[39m invalid syntax\n"
     ]
    }
   ],
   "source": [
    "duckdb mydb.duckdb"
   ]
  },
  {
   "cell_type": "code",
   "execution_count": null,
   "id": "327051f3-86cc-47a2-a2d4-4b481c9558f1",
   "metadata": {},
   "outputs": [],
   "source": [
    "CREATE TABLE airlines as FROM './datasets/flights/airlines.csv';"
   ]
  },
  {
   "cell_type": "code",
   "execution_count": null,
   "id": "917d3953-726f-4b59-b2db-1d10ab15911e",
   "metadata": {},
   "outputs": [],
   "source": [
    "show tables;"
   ]
  },
  {
   "cell_type": "code",
   "execution_count": null,
   "id": "d083ffec-e146-42bd-8b51-e4b529b8b726",
   "metadata": {},
   "outputs": [],
   "source": [
    "SELECT * FROM airlines;"
   ]
  },
  {
   "cell_type": "code",
   "execution_count": null,
   "id": "17579e0d-6763-461d-b49e-caa8a91a3e25",
   "metadata": {},
   "outputs": [],
   "source": [
    ".help"
   ]
  },
  {
   "cell_type": "code",
   "execution_count": null,
   "id": "e2b92591-dc79-4653-83ee-66de5ba01e2b",
   "metadata": {},
   "outputs": [],
   "source": [
    ".database"
   ]
  },
  {
   "cell_type": "code",
   "execution_count": null,
   "id": "fe3e09c0-fc76-40dc-8eb1-ca0661001e11",
   "metadata": {},
   "outputs": [],
   "source": [
    ".open mydb2.duckdb"
   ]
  },
  {
   "cell_type": "code",
   "execution_count": null,
   "id": "7dcf9869-628e-4147-a7b5-676cb9d885d3",
   "metadata": {},
   "outputs": [],
   "source": [
    "CREATE TABLE airports as FROM './datasets/flights/airports.csv';"
   ]
  },
  {
   "cell_type": "code",
   "execution_count": null,
   "id": "941fda40-d68f-4082-995e-eeb4bb210b62",
   "metadata": {},
   "outputs": [],
   "source": [
    "show tables;"
   ]
  },
  {
   "cell_type": "code",
   "execution_count": null,
   "id": "7b7a2206-ca9a-4d46-9751-6f46abade305",
   "metadata": {},
   "outputs": [],
   "source": [
    "ATTACH 'mydb.duckdb';"
   ]
  },
  {
   "cell_type": "code",
   "execution_count": null,
   "id": "c643de1b-c971-4584-9f17-bccb8f3afcd5",
   "metadata": {},
   "outputs": [],
   "source": [
    "ATTACH 'mydb.duckdb' as mydb;"
   ]
  },
  {
   "cell_type": "code",
   "execution_count": null,
   "id": "ca1ce3f5-69e5-4c5f-98d5-717736dea5e4",
   "metadata": {},
   "outputs": [],
   "source": [
    ".database"
   ]
  },
  {
   "cell_type": "code",
   "execution_count": null,
   "id": "3b55c0ad-be16-4155-a991-755421bc6617",
   "metadata": {},
   "outputs": [],
   "source": [
    "USE mydb2;"
   ]
  },
  {
   "cell_type": "code",
   "execution_count": null,
   "id": "dfc16e8b-8fb3-4b43-97c5-bdcbd9c12084",
   "metadata": {},
   "outputs": [],
   "source": [
    ".table"
   ]
  },
  {
   "cell_type": "code",
   "execution_count": null,
   "id": "7d524f54-a71c-4984-b105-5f89f3b0abff",
   "metadata": {},
   "outputs": [],
   "source": [
    ".dump airports"
   ]
  },
  {
   "cell_type": "code",
   "execution_count": null,
   "id": "9ad544dd-1f4b-412d-ab13-c47899451709",
   "metadata": {},
   "outputs": [],
   "source": [
    "CREATE TABLE airports2 as FROM './datasets/flights/airports.csv';\n",
    "SELECT * FROM airports2;"
   ]
  },
  {
   "cell_type": "code",
   "execution_count": null,
   "id": "8cd5cec2-da4d-44e2-8e6e-88ce8928762b",
   "metadata": {},
   "outputs": [],
   "source": [
    ".read commands.sql"
   ]
  },
  {
   "cell_type": "code",
   "execution_count": null,
   "id": "ce2bae72",
   "metadata": {},
   "outputs": [],
   "source": [
    ".exit"
   ]
  },
  {
   "cell_type": "code",
   "execution_count": null,
   "id": "c28c30c0",
   "metadata": {},
   "outputs": [],
   "source": [
    "duckdb"
   ]
  },
  {
   "cell_type": "code",
   "execution_count": null,
   "id": "caf61777",
   "metadata": {},
   "outputs": [],
   "source": [
    "CREATE TABLE airports as FROM read_csv_auto('./datasets/flights/airports.csv');"
   ]
  },
  {
   "cell_type": "code",
   "execution_count": null,
   "id": "6c1d36e5-45e9-4da5-b56b-d067a950946b",
   "metadata": {},
   "outputs": [],
   "source": [
    "EXPORT DATABASE 'airports_db';"
   ]
  },
  {
   "cell_type": "code",
   "execution_count": null,
   "id": "faa23d86-42e9-48e8-bef8-2c039b1ff986",
   "metadata": {},
   "outputs": [],
   "source": [
    "COPY airports FROM 'airports_db/airports.csv' (FORMAT 'csv', quote '\"',\n",
    "delimiter ',', header 1);"
   ]
  },
  {
   "cell_type": "code",
   "execution_count": null,
   "id": "ed810350-50c3-479c-ab7c-4a871b47e7d2",
   "metadata": {},
   "outputs": [],
   "source": [
    "CREATE TABLE airports(IATA_CODE VARCHAR, AIRPORT VARCHAR,\n",
    "  CITY VARCHAR, STATE VARCHAR, COUNTRY VARCHAR, LATITUDE DOUBLE,\n",
    "  LONGITUDE DOUBLE);"
   ]
  },
  {
   "cell_type": "code",
   "execution_count": null,
   "id": "2c5990df",
   "metadata": {},
   "outputs": [],
   "source": [
    ".exit"
   ]
  },
  {
   "cell_type": "code",
   "execution_count": null,
   "id": "22bc33ad-8aac-464a-aad0-aee39e7ca8ae",
   "metadata": {},
   "outputs": [],
   "source": [
    "duckdb mydb3.duckdb"
   ]
  },
  {
   "cell_type": "code",
   "execution_count": null,
   "id": "830d1382-fd69-4c78-9570-06245446c452",
   "metadata": {},
   "outputs": [],
   "source": [
    "IMPORT DATABASE 'airports_db';"
   ]
  },
  {
   "cell_type": "code",
   "execution_count": null,
   "id": "9c1bd25b-07dc-4ce4-ae3e-10251eeda38b",
   "metadata": {},
   "outputs": [],
   "source": [
    "show tables;"
   ]
  },
  {
   "cell_type": "code",
   "execution_count": null,
   "id": "7aa278df",
   "metadata": {},
   "outputs": [],
   "source": [
    ".exit"
   ]
  },
  {
   "cell_type": "markdown",
   "id": "ba0e9fc5",
   "metadata": {},
   "source": [
    "## DuckDB SQL Primer"
   ]
  },
  {
   "cell_type": "code",
   "execution_count": null,
   "id": "8ecccad9-a848-4cae-8376-38f881b92adc",
   "metadata": {},
   "outputs": [],
   "source": [
    "duckdb library.duckdb"
   ]
  },
  {
   "cell_type": "code",
   "execution_count": null,
   "id": "04c16def-8209-4f4e-9f6f-1725c41da977",
   "metadata": {},
   "outputs": [],
   "source": [
    "CREATE TABLE Authors (\n",
    "    author_id INTEGER PRIMARY KEY,\n",
    "    name TEXT NOT NULL,\n",
    "    nationality TEXT,\n",
    "    birth_year INTEGER\n",
    ");\n",
    "\n",
    "CREATE TABLE Borrowers (\n",
    "    borrower_id INTEGER PRIMARY KEY,\n",
    "    name TEXT NOT NULL,\n",
    "    email TEXT,\n",
    "    member_since DATE\n",
    ");\n",
    "\n",
    "CREATE TABLE Books (\n",
    "    book_id INTEGER PRIMARY KEY,\n",
    "    title TEXT NOT NULL,\n",
    "    author_id INTEGER NOT NULL,\n",
    "    genre TEXT,\n",
    "    publication_year INTEGER,\n",
    "    FOREIGN KEY (author_id) REFERENCES Authors(author_id)\n",
    ");\n",
    "\n",
    "CREATE TABLE Borrowings (\n",
    "    borrowing_id INTEGER PRIMARY KEY,\n",
    "    book_id INTEGER NOT NULL,\n",
    "    borrower_id INTEGER NOT NULL,\n",
    "    borrow_date DATE,\n",
    "    return_date DATE,\n",
    "    status TEXT,\n",
    "    FOREIGN KEY (book_id) REFERENCES Books(book_id),\n",
    "    FOREIGN KEY (borrower_id) REFERENCES Borrowers(borrower_id)\n",
    ");"
   ]
  },
  {
   "cell_type": "code",
   "execution_count": null,
   "id": "d112ef76-e33d-4c43-9d81-c755e251dd56",
   "metadata": {},
   "outputs": [],
   "source": [
    "show tables;"
   ]
  },
  {
   "cell_type": "code",
   "execution_count": null,
   "id": "ea31a8a5-aa04-4246-a522-47adeddcabe6",
   "metadata": {},
   "outputs": [],
   "source": [
    "DESCRIBE Authors;"
   ]
  },
  {
   "cell_type": "code",
   "execution_count": null,
   "id": "6ef54846-0017-4a7c-a00d-bcc05062803d",
   "metadata": {},
   "outputs": [],
   "source": [
    "SHOW Authors;"
   ]
  },
  {
   "cell_type": "code",
   "execution_count": null,
   "id": "0907e840-c951-4224-b445-05be0cde4426",
   "metadata": {},
   "outputs": [],
   "source": [
    ".schema"
   ]
  },
  {
   "cell_type": "code",
   "execution_count": null,
   "id": "1afbbdc5-49a9-44a2-8e3a-dff5f2f9c218",
   "metadata": {},
   "outputs": [],
   "source": [
    "CREATE TABLE OverdueBorrowers (\n",
    "    borrower_id INTEGER PRIMARY KEY,\n",
    "    name TEXT NOT NULL,\n",
    "    email TEXT,\n",
    "    member_since DATE\n",
    ");\n",
    "\n",
    "DROP TABLE OverdueBorrowers;"
   ]
  },
  {
   "cell_type": "code",
   "execution_count": null,
   "id": "aae1590e-06f9-4c61-b486-1b0c254d8a2b",
   "metadata": {},
   "outputs": [],
   "source": [
    "INSERT INTO Authors (author_id, name, nationality, birth_year) VALUES\n",
    "    (1, 'Jane Austen', 'British', 1775),\n",
    "    (2, 'Charles Dickens', 'British', 1812),\n",
    "    (3, 'Agatha Christie', 'British', 1890),\n",
    "    (4, 'J.K. Rowling', 'British', 1965),\n",
    "    (5, 'Tolkien', 'British', 1892);"
   ]
  },
  {
   "cell_type": "code",
   "execution_count": null,
   "id": "6f86a910-ac96-4761-aaff-43a8707109f5",
   "metadata": {},
   "outputs": [],
   "source": [
    "INSERT INTO Authors (author_id, name, nationality, birth_year)\n",
    "VALUES (6, 'Mark Twain', 'American', 1835);"
   ]
  },
  {
   "cell_type": "code",
   "execution_count": null,
   "id": "0fee5a15-cebd-4767-aaba-0a0270008b34",
   "metadata": {},
   "outputs": [],
   "source": [
    "SELECT * FROM Authors;"
   ]
  },
  {
   "cell_type": "code",
   "execution_count": null,
   "id": "3155fc99-ed3f-4ea4-a18d-fdce7f486d10",
   "metadata": {},
   "outputs": [],
   "source": [
    "INSERT INTO Borrowers (borrower_id, name, email, member_since)\n",
    "VALUES\n",
    "(1, 'John Smith', 'john.smith@example.com', '2022-01-01'),\n",
    "(2, 'Emma Johnson', 'emma.johnson@example.com', '2021-12-15'),\n",
    "(3, 'Michael Brown', 'michael.brown@example.com', '2022-02-20'),\n",
    "(4, 'Sophia Wilson', 'sophia.wilson@example.com', '2022-03-10'),\n",
    "(5, 'William Taylor', 'william.taylor@example.com', '2022-04-05'),\n",
    "(6, 'Jane Doe', 'jane.doe@example.com', '2022-03-05');"
   ]
  },
  {
   "cell_type": "code",
   "execution_count": null,
   "id": "1e60ae26-8362-4fb2-9c59-0da5c84127a0",
   "metadata": {},
   "outputs": [],
   "source": [
    "SELECT * FROM Borrowers;"
   ]
  },
  {
   "cell_type": "code",
   "execution_count": null,
   "id": "8c7bbc81-eaa8-4cec-8014-7fbe2e2deda4",
   "metadata": {},
   "outputs": [],
   "source": [
    "INSERT INTO Books (book_id, title, author_id, genre, publication_year)\n",
    "VALUES\n",
    "(1, 'Pride and Prejudice', 1, 'Classic', 1813),\n",
    "(2, 'Oliver Twist', 2, 'Novel', 1837),\n",
    "(3, 'Murder on the Orient Express', 3, 'Mystery', 1934),\n",
    "(4, 'Harry Potter and the Philosopher''s Stone', 4, 'Fantasy', 1997),\n",
    "(5, 'The Hobbit', 5, 'Fantasy', 1937);"
   ]
  },
  {
   "cell_type": "code",
   "execution_count": null,
   "id": "b673ae54-c319-4c60-aab0-7a9b827f0a53",
   "metadata": {},
   "outputs": [],
   "source": [
    "SELECT * FROM Books;"
   ]
  },
  {
   "cell_type": "code",
   "execution_count": null,
   "id": "25b9339d-a812-4f3c-bfd4-42b06a7b700e",
   "metadata": {},
   "outputs": [],
   "source": [
    "INSERT INTO Borrowings (borrowing_id, book_id, borrower_id,\n",
    "borrow_date, return_date, status)\n",
    "VALUES\n",
    "(1, 1, 1, '2022-04-10', '2022-04-25', 'Returned'),\n",
    "(2, 3, 2, '2022-03-20', NULL, 'On Loan'),\n",
    "(3, 4, 3, '2022-04-05', NULL, 'On Loan'),\n",
    "(4, 2, 4, '2022-04-15', NULL, 'On Loan'),\n",
    "(5, 5, 5, '2022-03-30', '2022-04-20', 'Returned'),\n",
    "(6, 1, 3, '2022-04-26', NULL, 'On Loan');"
   ]
  },
  {
   "cell_type": "code",
   "execution_count": null,
   "id": "d280a414-52ab-43be-94c0-efa84ce682ea",
   "metadata": {},
   "outputs": [],
   "source": [
    "SELECT * FROM Borrowings;"
   ]
  },
  {
   "cell_type": "code",
   "execution_count": null,
   "id": "53e12720-3503-4293-9531-e8c8ee42d2a3",
   "metadata": {},
   "outputs": [],
   "source": [
    "UPDATE Borrowings\n",
    "SET return_date = '2022-04-05',\n",
    "    status = 'Returned'\n",
    "WHERE borrowing_id = 3;"
   ]
  },
  {
   "cell_type": "code",
   "execution_count": null,
   "id": "d3bb5e2a-5fa5-4b65-8c5a-394312246af3",
   "metadata": {},
   "outputs": [],
   "source": [
    "SELECT * FROM Borrowings;"
   ]
  },
  {
   "cell_type": "code",
   "execution_count": null,
   "id": "66ea8e95-852c-417c-b780-3618082a1825",
   "metadata": {},
   "outputs": [],
   "source": [
    "DELETE FROM Borrowers\n",
    "WHERE name = 'Jane Doe';"
   ]
  },
  {
   "cell_type": "code",
   "execution_count": null,
   "id": "64b943d8-193a-4cc2-8b1c-8b2b6edbc21b",
   "metadata": {},
   "outputs": [],
   "source": [
    "SELECT * FROM borrowers;"
   ]
  },
  {
   "cell_type": "code",
   "execution_count": null,
   "id": "eb861c20-bf7d-4868-8494-516aed9726d1",
   "metadata": {},
   "outputs": [],
   "source": [
    "DELETE FROM Borrowers\n",
    "WHERE borrower_id = 6;"
   ]
  },
  {
   "cell_type": "code",
   "execution_count": null,
   "id": "738aedf7-c860-429b-bd4e-174412f55ffa",
   "metadata": {},
   "outputs": [],
   "source": [
    "DELETE FROM Borrowers\n",
    "WHERE name LIKE '%Jane%';"
   ]
  },
  {
   "cell_type": "code",
   "execution_count": null,
   "id": "04f68176-6000-4ba2-80ed-e97abc397913",
   "metadata": {},
   "outputs": [],
   "source": [
    "SELECT *\n",
    "FROM Authors\n",
    "WHERE (YEAR(CURRENT_DATE) - birth_year) > 100;"
   ]
  },
  {
   "cell_type": "code",
   "execution_count": null,
   "id": "a4cd2cd3-8d85-48fc-b7a9-bb11299d14e5",
   "metadata": {},
   "outputs": [],
   "source": [
    "SELECT *\n",
    "FROM Books\n",
    "WHERE genre = 'Fantasy';"
   ]
  },
  {
   "cell_type": "code",
   "execution_count": null,
   "id": "c55e9a0d-e545-4008-bd91-803f7f3406a6",
   "metadata": {},
   "outputs": [],
   "source": [
    "SELECT *\n",
    "FROM Borrowers\n",
    "WHERE member_since >= '2022-01-01';"
   ]
  },
  {
   "cell_type": "markdown",
   "id": "162925d0",
   "metadata": {},
   "source": [
    "### Joining Tables"
   ]
  },
  {
   "cell_type": "code",
   "execution_count": null,
   "id": "596934b5-cff0-434f-918d-7f80f1e81507",
   "metadata": {},
   "outputs": [],
   "source": [
    "SELECT b.book_id, b.title, a.name\n",
    "FROM Books b\n",
    "LEFT JOIN Authors a ON b.author_id = a.author_id;"
   ]
  },
  {
   "cell_type": "code",
   "execution_count": null,
   "id": "fd3c0b31-c573-43d7-8f2b-d0f4a4e12753",
   "metadata": {},
   "outputs": [],
   "source": [
    "SELECT a.name, b.book_id, b.title\n",
    "FROM Authors a\n",
    "LEFT JOIN Books b on a.author_id = b.author_id;"
   ]
  },
  {
   "cell_type": "code",
   "execution_count": null,
   "id": "0371c7c9-510f-46f3-a4de-dce213ed9eb9",
   "metadata": {},
   "outputs": [],
   "source": [
    "SELECT b.book_id, b.title, a.name\n",
    "FROM Books b\n",
    "RIGHT JOIN Authors a ON b.author_id = a.author_id;"
   ]
  },
  {
   "cell_type": "code",
   "execution_count": null,
   "id": "4eefbba7-3f5a-49f0-9280-ef07fcef8ec8",
   "metadata": {},
   "outputs": [],
   "source": [
    "SELECT b.book_id, b.title, a.name\n",
    "FROM Books b\n",
    "INNER JOIN Authors a ON b.author_id = a.author_id;"
   ]
  },
  {
   "cell_type": "code",
   "execution_count": null,
   "id": "55d91a3b-999f-4c79-a4de-fb658a584ce7",
   "metadata": {},
   "outputs": [],
   "source": [
    "SELECT b.book_id, b.title, a.name\n",
    "FROM Books b\n",
    "FULL JOIN Authors a ON b.author_id = a.author_id;"
   ]
  },
  {
   "cell_type": "code",
   "execution_count": null,
   "id": "d6a3fbf3-6b54-4d56-ae3b-ca5d4a299263",
   "metadata": {},
   "outputs": [],
   "source": [
    "SELECT b.title AS book_title\n",
    "FROM Books b\n",
    "INNER JOIN Borrowings br ON b.book_id = br.book_id\n",
    "INNER JOIN Borrowers bw ON br.borrower_id = bw.borrower_id\n",
    "WHERE bw.name = 'John Smith';"
   ]
  },
  {
   "cell_type": "code",
   "execution_count": null,
   "id": "d2bddaa5-4824-40c9-8525-08aa224ab725",
   "metadata": {},
   "outputs": [],
   "source": [
    "SELECT bw.name AS borrower_name, b.title AS book_title\n",
    "FROM Borrowings br\n",
    "INNER JOIN Books b ON br.book_id = b.book_id\n",
    "INNER JOIN Borrowers bw ON br.borrower_id = bw.borrower_id;"
   ]
  },
  {
   "cell_type": "code",
   "execution_count": null,
   "id": "2341b9a7-a8a8-42de-be72-5eb34a6492fc",
   "metadata": {},
   "outputs": [],
   "source": [
    "SELECT bw.name AS borrower_name, b.title AS book_title\n",
    "FROM Borrowings br\n",
    "INNER JOIN Books b ON br.book_id = b.book_id\n",
    "INNER JOIN Borrowers bw ON\n",
    "br.borrower_id = bw.borrower_id\n",
    "ORDER BY bw.name, b.title;"
   ]
  },
  {
   "cell_type": "code",
   "execution_count": null,
   "id": "785a2ebb-72ea-4b4f-86f5-8b229d62fa2b",
   "metadata": {},
   "outputs": [],
   "source": [
    "SELECT bw.name AS borrower_name, b.title AS book_title, a.name AS author_name\n",
    "FROM Borrowings br\n",
    "INNER JOIN Books b ON br.book_id = b.book_id\n",
    "INNER JOIN Borrowers bw ON br.borrower_id = bw.borrower_id\n",
    "INNER JOIN Authors a ON b.author_id = a.author_id;"
   ]
  },
  {
   "cell_type": "code",
   "execution_count": null,
   "id": "4a4ce573-c5df-4904-9a5c-de69d78e0b6e",
   "metadata": {},
   "outputs": [],
   "source": [
    "SELECT b.book_id, b.title, br.borrow_date, br.return_date\n",
    "FROM Borrowings br\n",
    "INNER JOIN Books b ON br.book_id = b.book_id\n",
    "INNER JOIN Borrowers bw ON br.borrower_id = bw.borrower_id\n",
    "WHERE bw.name = 'Michael Brown';"
   ]
  },
  {
   "cell_type": "markdown",
   "id": "b0f433c1",
   "metadata": {},
   "source": [
    "### Aggregating Data"
   ]
  },
  {
   "cell_type": "code",
   "execution_count": null,
   "id": "c11ce4e1-f16d-498d-b366-6dfe60f946f0",
   "metadata": {},
   "outputs": [],
   "source": [
    "SELECT bw.name AS borrower_name, COUNT(br.book_id) AS books_borrowed\n",
    "FROM Borrowings br\n",
    "INNER JOIN Borrowers bw ON br.borrower_id = bw.borrower_id\n",
    "GROUP BY bw.name\n",
    "ORDER BY bw.name;"
   ]
  },
  {
   "cell_type": "code",
   "execution_count": null,
   "id": "6f9ee49d-1b92-4dc7-8af1-61e01209c21b",
   "metadata": {},
   "outputs": [],
   "source": [
    "SELECT b.book_id, b.title AS book_name, COUNT(*) AS num_borrowings\n",
    "FROM Borrowings br\n",
    "INNER JOIN Books b ON br.book_id = b.book_id\n",
    "GROUP BY b.book_id, b.title\n",
    "ORDER BY num_borrowings DESC\n",
    "LIMIT 1;"
   ]
  },
  {
   "cell_type": "code",
   "execution_count": null,
   "id": "c0586c04-e128-48cd-a1d3-48f945684861",
   "metadata": {},
   "outputs": [],
   "source": [
    "SELECT AVG(YEAR(CURRENT_DATE) - birth_year) AS average_age_of_authors\n",
    "FROM Authors;"
   ]
  },
  {
   "cell_type": "code",
   "execution_count": null,
   "id": "86866cd9-512c-444c-a4c7-893d404e6d58",
   "metadata": {},
   "outputs": [],
   "source": [
    "SELECT AVG(publication_year) AS avg_publication_year\n",
    "FROM Books;"
   ]
  },
  {
   "cell_type": "code",
   "execution_count": null,
   "id": "d9ec4975-e220-4e20-8364-555ee171adb7",
   "metadata": {},
   "outputs": [],
   "source": [
    "SELECT name, birth_year, YEAR(CURRENT_DATE) - birth_year AS age\n",
    "FROM Authors\n",
    "WHERE birth_year = (SELECT MIN(birth_year) FROM Authors);"
   ]
  },
  {
   "cell_type": "markdown",
   "id": "159ff3bc",
   "metadata": {},
   "source": [
    "### Analytics"
   ]
  },
  {
   "cell_type": "code",
   "execution_count": null,
   "id": "d8082411-297a-4f3c-8e5d-ea558718fa63",
   "metadata": {},
   "outputs": [],
   "source": [
    "SELECT bw.name AS borrower_name, b.title AS book_title, br.borrow_date, br.return_date, DATEDIFF('day', br.borrow_date, br.return_date) - 14 AS overdue\n",
    "FROM Borrowings br\n",
    "INNER JOIN Books b ON br.book_id = b.book_id\n",
    "INNER JOIN Borrowers bw ON br.borrower_id = bw.borrower_id\n",
    "WHERE br.return_date IS NOT NULL AND\n",
    "DATEDIFF('day', br.borrow_date, br.return_date) > 14;"
   ]
  },
  {
   "cell_type": "code",
   "execution_count": null,
   "id": "4e25210b-546a-4eec-8062-70dbf74cb74b",
   "metadata": {},
   "outputs": [],
   "source": [
    "CREATE VIEW overdue_borrowings AS\n",
    "SELECT bw.name AS borrower_name,\n",
    "  b.title AS book_title,\n",
    "  br.borrow_date,\n",
    "  br.return_date,\n",
    "  DATEDIFF('day', br.borrow_date, br.return_date) - 14 AS overdue\n",
    "FROM Borrowings br\n",
    "INNER JOIN Books b ON br.book_id = b.book_id\n",
    "INNER JOIN Borrowers bw ON br.borrower_id = bw.borrower_id\n",
    "WHERE br.return_date IS NOT NULL\n",
    "AND DATEDIFF('day', br.borrow_date, br.return_date) > 14;"
   ]
  },
  {
   "cell_type": "code",
   "execution_count": null,
   "id": "5d2e21c1-d349-4f18-a366-3c32fc186725",
   "metadata": {},
   "outputs": [],
   "source": [
    "SELECT * FROM overdue_borrowings;"
   ]
  },
  {
   "cell_type": "code",
   "execution_count": null,
   "id": "646c2740-717a-4219-be51-27bb84b7ddf2",
   "metadata": {},
   "outputs": [],
   "source": [
    "SELECT b.book_id, b.title, bw.name AS borrower_name, br.borrow_date, DATEDIFF('day', br.borrow_date, CURRENT_DATE()) - 14 AS overdue\n",
    "FROM Borrowings br\n",
    "INNER JOIN Books b ON br.book_id = b.book_id\n",
    "INNER JOIN Borrowers bw ON br.borrower_id = bw.borrower_id\n",
    "WHERE br.return_date IS NULL AND\n",
    "DATEDIFF('day', br.borrow_date, CURRENT_DATE()) > 14;"
   ]
  },
  {
   "cell_type": "code",
   "execution_count": null,
   "id": "e99e9ff8-563c-4765-a1e6-95b4004fb053",
   "metadata": {},
   "outputs": [],
   "source": [
    "SELECT b.book_id, b.title, bw.name AS borrower_name, br.borrow_date, DATEDIFF('day', br.borrow_date, '2022-06-10') - 14 AS overdue\n",
    "FROM Borrowings br\n",
    "INNER JOIN Books b ON br.book_id = b.book_id\n",
    "INNER JOIN Borrowers bw ON br.borrower_id = bw.borrower_id\n",
    "WHERE br.return_date IS NULL AND\n",
    "DATEDIFF('day', br.borrow_date, '2022-06-10') > 14;"
   ]
  },
  {
   "cell_type": "code",
   "execution_count": null,
   "id": "8bde8a79-069c-4c5f-93a5-f6a8e2b3d3d5",
   "metadata": {},
   "outputs": [],
   "source": [
    "SELECT b.book_id, b.title AS book_name, bw.name AS borrower_name, br.borrow_date AS loan_date, br.return_date\n",
    "FROM Borrowings br\n",
    "INNER JOIN Books b ON br.book_id = b.book_id\n",
    "INNER JOIN Borrowers bw ON br.borrower_id = bw.borrower_id\n",
    "WHERE b.book_id IN (\n",
    "  SELECT book_id\n",
    "    FROM Borrowings\n",
    "  GROUP BY book_id\n",
    "  HAVING COUNT(*) = (\n",
    "    SELECT MAX(num_borrowings)\n",
    "    FROM (\n",
    "      SELECT COUNT(*) AS num_borrowings\n",
    "      FROM Borrowings\n",
    "      GROUP BY book_id\n",
    "    ) AS counts\n",
    "  )\n",
    ")\n",
    "GROUP BY b.book_id, b.title, br.borrower_id, bw.name, br.borrow_date,\n",
    "br.return_date;"
   ]
  }
 ],
 "metadata": {
  "kernelspec": {
   "display_name": "Python 3",
   "language": "python",
   "name": "python3"
  },
  "language_info": {
   "codemirror_mode": {
    "name": "ipython",
    "version": 3
   },
   "file_extension": ".py",
   "mimetype": "text/x-python",
   "name": "python",
   "nbconvert_exporter": "python",
   "pygments_lexer": "ipython3",
   "version": "3.12.1"
  }
 },
 "nbformat": 4,
 "nbformat_minor": 5
}
