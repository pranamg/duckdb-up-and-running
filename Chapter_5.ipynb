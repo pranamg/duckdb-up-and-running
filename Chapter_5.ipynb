{
 "cells": [
  {
   "cell_type": "code",
   "execution_count": null,
   "id": "27e48ca7-defb-4306-8261-1d454a9d6b90",
   "metadata": {},
   "outputs": [],
   "source": [
    "import duckdb\n",
    "conn = duckdb.connect()"
   ]
  },
  {
   "cell_type": "code",
   "execution_count": null,
   "id": "837b1103-6fda-4d14-a088-25ba49067436",
   "metadata": {},
   "outputs": [],
   "source": [
    "conn.execute('''\n",
    "  CREATE TABLE flights\n",
    "    as\n",
    "    SELECT\n",
    "      *\n",
    "    FROM read_csv_auto('flights.csv')\n",
    "''')"
   ]
  },
  {
   "cell_type": "code",
   "execution_count": null,
   "id": "e62df336-109a-4ff4-b5e6-0fc28f027cf2",
   "metadata": {},
   "outputs": [],
   "source": [
    "conn.execute('''\n",
    "  CREATE TABLE airports\n",
    "    as\n",
    "    SELECT\n",
    "      *\n",
    "    FROM read_csv_auto('airports.csv')\n",
    "''')"
   ]
  },
  {
   "cell_type": "code",
   "execution_count": null,
   "id": "31a88cc9-e03a-4d89-ac46-2aa3133ce040",
   "metadata": {},
   "outputs": [],
   "source": [
    "conn.execute('''\n",
    "  CREATE TABLE airlines\n",
    "    as\n",
    "    SELECT\n",
    "    *\n",
    "    FROM read_csv('airlines.csv')\n",
    "''')"
   ]
  },
  {
   "cell_type": "code",
   "execution_count": null,
   "id": "ff6093bb-5eae-4941-bc0f-dc1f2b2a2e90",
   "metadata": {},
   "outputs": [],
   "source": [
    "display(conn.execute('SHOW TABLES').df())"
   ]
  },
  {
   "cell_type": "code",
   "execution_count": null,
   "id": "df5e8462-d095-403d-a100-57823fec82ed",
   "metadata": {},
   "outputs": [],
   "source": [
    "!pip install folium"
   ]
  },
  {
   "cell_type": "code",
   "execution_count": null,
   "id": "84f54c89-8083-49ae-8e9c-ee990ee25f0d",
   "metadata": {},
   "outputs": [],
   "source": [
    "import folium\n",
    "mymap = folium.Map(location = [47.116386, -101.299591],\n",
    "width = 950,\n",
    "height = 550,\n",
    "zoom_start = 3,\n",
    "tiles = 'openstreetmap')\n",
    "mymap"
   ]
  },
  {
   "cell_type": "code",
   "execution_count": null,
   "id": "99b7e249-6dfd-41de-80b0-8647d2e9831a",
   "metadata": {},
   "outputs": [],
   "source": [
    "import folium\n",
    "\n",
    "mymap = folium.Map(location = [47.116386, -101.299591],\n",
    "                   width = 950,\n",
    "                   height = 550,\n",
    "                   zoom_start = 3,\n",
    "                   tiles = 'openstreetmap')\n",
    "\n",
    "folium.TileLayer('cartodbpositron',\n",
    "                 attr = 'cartodbpositron',\n",
    "                 show = False).add_to(mymap)\n",
    "\n",
    "folium.TileLayer('cartodbdark_matter',\n",
    "                 attr = 'cartodbdark_matter',\n",
    "                 show = False).add_to(mymap)\n",
    "\n",
    "folium.LayerControl().add_to(mymap)\n",
    "mymap"
   ]
  },
  {
   "cell_type": "code",
   "execution_count": null,
   "id": "d1a6c582-0146-4adb-a200-5f3995216240",
   "metadata": {},
   "outputs": [],
   "source": [
    "df = conn.execute('''\n",
    "  SELECT\n",
    "    latitude as lat,\n",
    "    longitude as lng,\n",
    "    airport as airport\n",
    "  FROM airports\n",
    "  WHERE\n",
    "    (lat is not null) or\n",
    "    (lng is not null)\n",
    "''').df()"
   ]
  },
  {
   "cell_type": "code",
   "execution_count": null,
   "id": "d30587a4-e841-4637-89dc-6179a07d7e08",
   "metadata": {},
   "outputs": [],
   "source": [
    "import math\n",
    "\n",
    "for lat, lng, airport in zip(df['lat'], df['lng'], df['airport']):\n",
    "    airport = folium.CircleMarker(\n",
    "        location = [lat, lng], # location of the marker\n",
    "        radius = 4,            # size of the marker\n",
    "        color = 'red',         # color of the marker\n",
    "        fill = True,           # fill the marker with color\n",
    "        fill_color = 'yellow', # fill the marker with yellow color\n",
    "        fill_opacity = 0.5,    # make the marker translucent\n",
    "        popup = airport)       # name of the airport\n",
    "    \n",
    "    # add the circle marker to the map\n",
    "    airport.add_to(mymap)\n",
    "mymap"
   ]
  },
  {
   "cell_type": "code",
   "execution_count": null,
   "id": "254bb41e-263c-4d46-95e0-036d76b25e6f",
   "metadata": {},
   "outputs": [],
   "source": [
    "for lat, lng, airport in zip(df['lat'], df['lng'], df['airport']):\n",
    "    airport = folium.Marker(\n",
    "        location = [lat, lng],\n",
    "        popup = airport,\n",
    "        icon = folium.Icon(color = 'lightgray',    # icon to display in\n",
    "                           icon = 'plane-arrival', # the marker\n",
    "                           prefix = 'fa'),\n",
    "    )\n",
    "    airport.add_to(mymap)\n",
    "mymap"
   ]
  },
  {
   "cell_type": "code",
   "execution_count": null,
   "id": "12079547-759e-40e6-a253-f821afa906fb",
   "metadata": {},
   "outputs": [],
   "source": [
    "import pandas as pd\n",
    "\n",
    "df = pd.read_csv('airports.csv')"
   ]
  },
  {
   "cell_type": "code",
   "execution_count": null,
   "id": "5184f196-2ad6-43c8-8c2e-7835a1daa301",
   "metadata": {},
   "outputs": [],
   "source": [
    "!pip install shapely"
   ]
  },
  {
   "cell_type": "code",
   "execution_count": null,
   "id": "f452d804-b724-440f-81cf-bbb01186a8df",
   "metadata": {},
   "outputs": [],
   "source": [
    "from shapely.geometry import Point\n",
    "\n",
    "df['geometry'] = df.apply(\n",
    "    lambda row: Point(row['LONGITUDE'], row['LATITUDE']).wkt, axis=1)\n",
    "df"
   ]
  },
  {
   "cell_type": "code",
   "execution_count": null,
   "id": "8c7349bd-ef70-4a74-9d1f-487fbebc27a8",
   "metadata": {},
   "outputs": [],
   "source": [
    "conn.execute(\"CREATE TABLE airports_2 AS SELECT * FROM df\")"
   ]
  },
  {
   "cell_type": "code",
   "execution_count": null,
   "id": "08d1da4c-6206-49b9-9335-83d0ebd4464a",
   "metadata": {},
   "outputs": [],
   "source": [
    "conn.execute('INSTALL spatial;')\n",
    "conn.execute('LOAD spatial;')"
   ]
  },
  {
   "cell_type": "code",
   "execution_count": null,
   "id": "1f674eea-050f-4a39-a46d-b1693161f481",
   "metadata": {},
   "outputs": [],
   "source": [
    "conn.execute('''\n",
    "  DROP TABLE IF EXISTS airports_2 ;\n",
    "  CREATE TABLE airports_2 as\n",
    "  SELECT\n",
    "    *,\n",
    "  ST_AsText(ST_Point(LONGITUDE,LATITUDE)) as geometry\n",
    "  FROM airports\n",
    "''')"
   ]
  },
  {
   "cell_type": "code",
   "execution_count": null,
   "id": "a537f735-df30-45c3-ae45-5a29654bb9ae",
   "metadata": {},
   "outputs": [],
   "source": [
    "!pip install leafmap"
   ]
  },
  {
   "cell_type": "code",
   "execution_count": null,
   "id": "ec2027de-f97d-4016-9875-d3be69407440",
   "metadata": {},
   "outputs": [],
   "source": [
    "!pip install mapclassify\n",
    "!pip install geopandas"
   ]
  },
  {
   "cell_type": "code",
   "execution_count": null,
   "id": "42d64adf-304f-40fe-b41b-043134657408",
   "metadata": {},
   "outputs": [],
   "source": [
    "import leafmap\n",
    "df_airports_gdf = leafmap.df_to_gdf(\n",
    "    conn.execute('SELECT * FROM airports_2').df(),\n",
    "    geometry = 'geometry',\n",
    "    src_crs = \"EPSG:4326\",\n",
    "    dst_crs = \"EPSG:4326\")"
   ]
  },
  {
   "cell_type": "code",
   "execution_count": null,
   "id": "c3e496b6-d4bd-49ac-9574-07ad463d98e4",
   "metadata": {},
   "outputs": [],
   "source": [
    "df_airports_gdf.explore()"
   ]
  },
  {
   "cell_type": "code",
   "execution_count": null,
   "id": "cfda5e02-a99e-41fd-af33-fc7f46a78e54",
   "metadata": {},
   "outputs": [],
   "source": [
    "conn.execute('INSTALL spatial;')\n",
    "conn.execute('LOAD spatial;')\n",
    "\n",
    "# miami\n",
    "LOCATION_LNGLAT = (-80.2706578, 25.7824017)\n",
    "\n",
    "# within 3 degrees\n",
    "df_airports_near_miami = conn.sql(f\"\"\"\n",
    "    SELECT *\n",
    "    FROM airports_2\n",
    "    WHERE ST_DWithin(\n",
    "      ST_GeomFromText(geometry),\n",
    "      ST_GeomFromText('POINT ({LOCATION_LNGLAT[0]} {LOCATION_LNGLAT[1]})'),\n",
    "      3);\n",
    "\"\"\").df()\n",
    "\n",
    "df_airports_near_miami"
   ]
  },
  {
   "cell_type": "code",
   "execution_count": null,
   "id": "cb64ffd1-b3ba-4f8e-a9b0-f8793f396edd",
   "metadata": {},
   "outputs": [],
   "source": [
    "conn.execute('INSTALL spatial;')\n",
    "conn.execute('LOAD spatial;')\n",
    "# miami\n",
    "LOCATION_LNGLAT = (-80.2706578, 25.7824017)\n",
    "# within 2 degrees\n",
    "df_airports_near_miami = conn.sql(f\"\"\"\n",
    "    SELECT *\n",
    "    FROM airports_2\n",
    "    WHERE ST_DWithin(\n",
    "      ST_GeomFromText(geometry),\n",
    "      ST_GeomFromText('POINT ({LOCATION_LNGLAT[0]} {LOCATION_LNGLAT[1]})'), \n",
    "      2);\n",
    "\"\"\").df()\n",
    "\n",
    "df_airports_near_miami"
   ]
  },
  {
   "cell_type": "code",
   "execution_count": null,
   "id": "c43b2d10-7492-44b4-ac39-994f73796c7a",
   "metadata": {},
   "outputs": [],
   "source": [
    "df_airports_near_miami = conn.sql(f\"\"\"\n",
    "    SELECT *,\n",
    "      ST_Distance(ST_GeomFromText(geometry),\n",
    "      ST_GeomFromText('POINT (\n",
    "        {LOCATION_LNGLAT[0]}\n",
    "        {LOCATION_LNGLAT[1]})')) as distance\n",
    "    FROM airports_2;\n",
    "\"\"\").df()\n",
    "\n",
    "df_airports_near_miami"
   ]
  },
  {
   "cell_type": "code",
   "execution_count": null,
   "id": "17185173-4f57-454c-beb1-763c7157b037",
   "metadata": {},
   "outputs": [],
   "source": [
    "df_airports_near_miami = conn.sql(f\"\"\"\n",
    "    SELECT *,\n",
    "      ST_Distance(ST_GeomFromText(geometry),\n",
    "      ST_GeomFromText('POINT (\n",
    "        {LOCATION_LNGLAT[0]}\n",
    "        {LOCATION_LNGLAT[1]})')) as distance\n",
    "    FROM airports_2\n",
    "    ORDER by distance\n",
    "    LIMIT 3\n",
    "\"\"\").df()\n",
    "\n",
    "df_airports_near_miami"
   ]
  },
  {
   "cell_type": "code",
   "execution_count": null,
   "id": "7e457dc4-8653-40cf-a6da-4030bdbeac97",
   "metadata": {},
   "outputs": [],
   "source": [
    "import leafmap\n",
    "\n",
    "df_airports_near_miami_gdf = leafmap.df_to_gdf(df_airports_near_miami)\n",
    "folium_map = df_airports_near_miami_gdf.explore()\n",
    "folium_map"
   ]
  },
  {
   "cell_type": "code",
   "execution_count": null,
   "id": "325274ea-23ea-40fe-8c2d-ccdeaafd37e0",
   "metadata": {},
   "outputs": [],
   "source": [
    "import folium\n",
    "\n",
    "# add a popup at Miami\n",
    "folium.Marker(location = [LOCATION_LNGLAT[1],LOCATION_LNGLAT[0]],\n",
    "              popup='Miami').add_to(folium_map)\n",
    "folium_map"
   ]
  },
  {
   "cell_type": "code",
   "execution_count": null,
   "id": "5771d5d2-50be-49c1-8895-85ea624f8e0f",
   "metadata": {},
   "outputs": [],
   "source": [
    "df_city_state = conn.execute('''\n",
    "  SELECT\n",
    "     *\n",
    "  FROM airports\n",
    "  ORDER BY STATE, CITY\n",
    "''').df()\n",
    "df_city_state"
   ]
  },
  {
   "cell_type": "code",
   "execution_count": null,
   "id": "43f69d50-d5be-4572-a4a1-14d651ec5af2",
   "metadata": {},
   "outputs": [],
   "source": [
    "df_city_state.set_index(['STATE','CITY'], inplace = True)\n",
    "df_city_state"
   ]
  },
  {
   "cell_type": "code",
   "execution_count": null,
   "id": "d1c3acff-3f39-4d82-93f2-ca1e5882f32f",
   "metadata": {},
   "outputs": [],
   "source": [
    "df_city_state.loc['CA']"
   ]
  },
  {
   "cell_type": "code",
   "execution_count": null,
   "id": "a81b2dc6-de19-467e-a42f-32e6d729561b",
   "metadata": {},
   "outputs": [],
   "source": [
    "df_city_state.loc[('CA','San Francisco')]"
   ]
  },
  {
   "cell_type": "code",
   "execution_count": null,
   "id": "4dca7828-0a54-4887-9b05-4c4f4329712b",
   "metadata": {},
   "outputs": [],
   "source": [
    "df_airports_state = conn.execute('''\n",
    "  SELECT\n",
    "    STATE,\n",
    "    count(*) as COUNT\n",
    "  FROM airports\n",
    "  GROUP BY STATE\n",
    "  ORDER BY Count DESC\n",
    "''').df()\n",
    "df_airports_state.head()"
   ]
  },
  {
   "cell_type": "code",
   "execution_count": null,
   "id": "221bef0f-d3b6-4a58-b7d7-ed7146cf08b5",
   "metadata": {},
   "outputs": [],
   "source": [
    "import matplotlib.pyplot as plt\n",
    "import seaborn\n",
    "\n",
    "palette_color = seaborn.color_palette('pastel')\n",
    "\n",
    "plt.figure(figsize = (7, 7))\n",
    "plt.pie(df_airports_state['COUNT'],\n",
    "        labels = df_airports_state['STATE'],\n",
    "        colors = palette_color,\n",
    "        autopct = '%.0f%%',)\n",
    "\n",
    "plt.legend(df_airports_state['STATE'], loc = \"best\")"
   ]
  },
  {
   "cell_type": "code",
   "execution_count": null,
   "id": "31a0618e-e2f5-4221-948f-a8b958b03ec9",
   "metadata": {},
   "outputs": [],
   "source": [
    "df_airports_state = conn.execute('''\n",
    "  SELECT\n",
    "    STATE,\n",
    "    count(*) as COUNT\n",
    "  FROM airports\n",
    "  GROUP BY STATE\n",
    "  ORDER BY Count DESC\n",
    "  LIMIT 10\n",
    "''').df()\n",
    "df_airports_state.head()"
   ]
  },
  {
   "cell_type": "code",
   "execution_count": null,
   "id": "a47ad617-34da-4138-81c6-7aaf790a0d39",
   "metadata": {},
   "outputs": [],
   "source": [
    "# total number of airports\n",
    "total = df_airports_state['COUNT'].sum()\n",
    "\n",
    "def fmt(x):\n",
    "    return '{:.1f}%\\n({:.0f} airports)'.format(x, total * x / 100)\n",
    "\n",
    "palette_color = seaborn.color_palette('pastel')\n",
    "\n",
    "plt.figure(figsize = (7, 7))\n",
    "plt.pie(df_airports_state['COUNT'],\n",
    "        labels = df_airports_state['STATE'],\n",
    "        colors = palette_color,\n",
    "        autopct = fmt)\n",
    "\n",
    "plt.legend(df_airports_state['STATE'], loc = \"best\")"
   ]
  },
  {
   "cell_type": "code",
   "execution_count": null,
   "id": "abee58ed-2df7-4083-9048-ce640f82aaae",
   "metadata": {},
   "outputs": [],
   "source": [
    "# create the bar chart\n",
    "plt.bar(df_airports_state['STATE'],\n",
    "        df_airports_state['COUNT'],\n",
    "        color='skyblue')\n",
    "\n",
    "plt.xlabel('State')\n",
    "plt.ylabel('Number of Airports')\n",
    "plt.title('Top 10 States with Most Airports')\n",
    "plt.xticks(rotation = 45)"
   ]
  },
  {
   "cell_type": "code",
   "execution_count": null,
   "id": "f59c2de1-dc3f-42de-909f-2d5d4c77424e",
   "metadata": {},
   "outputs": [],
   "source": [
    "conn.execute('''\n",
    "  SELECT\n",
    "    ORIGIN_AIRPORT, COUNT(ORIGIN_AIRPORT) as COUNT\n",
    "  FROM flights\n",
    "  GROUP BY ORIGIN_AIRPORT\n",
    "  ORDER BY COUNT DESC\n",
    "''').df()"
   ]
  },
  {
   "cell_type": "code",
   "execution_count": null,
   "id": "85bbc400-4afc-4b2a-a87a-e47a974bfdea",
   "metadata": {},
   "outputs": [],
   "source": [
    "conn.execute('''\n",
    "  SELECT\n",
    "    ORIGIN_AIRPORT, DESTINATION_AIRPORT,\n",
    "    COUNT(*) as COUNT\n",
    "  FROM flights\n",
    "  GROUP BY ORIGIN_AIRPORT, DESTINATION_AIRPORT\n",
    "  ORDER BY COUNT DESC\n",
    "''').df()"
   ]
  },
  {
   "cell_type": "code",
   "execution_count": null,
   "id": "55f7a357-fe54-4eea-8e5a-ee8ffbe3be9a",
   "metadata": {},
   "outputs": [],
   "source": [
    "conn.execute('''\n",
    "  SELECT\n",
    "    ORIGIN_AIRPORT, DESTINATION_AIRPORT,\n",
    "    COUNT(*) as COUNT\n",
    "  FROM flights\n",
    "  WHERE AIRLINE='DL'\n",
    "  GROUP BY ORIGIN_AIRPORT, DESTINATION_AIRPORT\n",
    "  ORDER BY COUNT DESC\n",
    "''').df()"
   ]
  },
  {
   "cell_type": "code",
   "execution_count": null,
   "id": "6b79d152-a0e5-4bb6-a5a9-28fb038ffa3c",
   "metadata": {},
   "outputs": [],
   "source": [
    "conn.execute('''\n",
    "  SELECT\n",
    "    ORIGIN_AIRPORT, DESTINATION_AIRPORT,\n",
    "    COUNT(*) as COUNT\n",
    "  FROM flights\n",
    "  WHERE AIRLINE='DL' AND CANCELLED = 1\n",
    "  GROUP BY ORIGIN_AIRPORT, DESTINATION_AIRPORT\n",
    "  ORDER BY COUNT DESC\n",
    "'''\n",
    ").df()"
   ]
  },
  {
   "cell_type": "code",
   "execution_count": null,
   "id": "0c89ff2c-e7cb-4dc6-b434-dde72126e487",
   "metadata": {},
   "outputs": [],
   "source": [
    "conn.execute('''\n",
    "  SELECT\n",
    "    ORIGIN_AIRPORT, DESTINATION_AIRPORT,\n",
    "    (SUM(CANCELLED) * 100.0) / COUNT(*) as CANCELLED_PERCENT\n",
    "  FROM flights\n",
    "  WHERE AIRLINE = 'DL'\n",
    "  GROUP BY ORIGIN_AIRPORT, DESTINATION_AIRPORT\n",
    "  ORDER BY CANCELLED_PERCENT DESC\n",
    "'''\n",
    ").df()"
   ]
  },
  {
   "cell_type": "code",
   "execution_count": null,
   "id": "1c7c4bdc-a337-4029-875e-a1a7c62c467e",
   "metadata": {},
   "outputs": [],
   "source": [
    "conn.execute('''\n",
    "  SELECT\n",
    "    (SUM(CANCELLED) * 100.0) / COUNT(*) as CANCELLED_PERCENT\n",
    "  FROM flights\n",
    "  WHERE AIRLINE = 'DL'\n",
    "'''\n",
    ").df()"
   ]
  },
  {
   "cell_type": "code",
   "execution_count": null,
   "id": "135b8e09-4f2e-4ec4-91d9-408779bfb0eb",
   "metadata": {},
   "outputs": [],
   "source": [
    "import matplotlib.pyplot as plt\n",
    "df = conn.execute('''\n",
    "  SELECT AIRLINE,\n",
    "    (SUM(CANCELLED) * 100.0) / COUNT(*) as CANCELLED_PERCENT\n",
    "  FROM flights\n",
    "     -- WHERE AIRLINE = 'DL'\n",
    "  GROUP BY AIRLINE\n",
    "  ORDER BY CANCELLED_PERCENT DESC\n",
    "'''\n",
    ").df()\n",
    "display(df)"
   ]
  },
  {
   "cell_type": "code",
   "execution_count": null,
   "id": "849fba97-e749-45a4-87c6-49e6a2d0f269",
   "metadata": {},
   "outputs": [],
   "source": [
    "df.plot(kind='bar', x='AIRLINE', y='CANCELLED_PERCENT')\n",
    "\n",
    "plt.xlabel('Airlines')\n",
    "plt.ylabel('Cancellation Percentage')\n",
    "plt.title('Cancellation Percentage for Different Airlines')"
   ]
  },
  {
   "cell_type": "code",
   "execution_count": null,
   "id": "b04164f7-7815-4de0-8dd4-31335ad01ff2",
   "metadata": {},
   "outputs": [],
   "source": [
    "import matplotlib.pyplot as plt\n",
    "df = conn.execute('''\n",
    "  SELECT\n",
    "    a.AIRLINE,\n",
    "    (SUM(f.CANCELLED) * 100.0) / COUNT(*) as CANCELLED_PERCENT\n",
    "  FROM flights f\n",
    "  JOIN airlines a ON f.AIRLINE = a.IATA_CODE\n",
    "  GROUP BY a.AIRLINE\n",
    "  ORDER BY CANCELLED_PERCENT DESC\n",
    "'''\n",
    ").df()\n",
    "df.plot(kind='bar', x='AIRLINE', y='CANCELLED_PERCENT')\n",
    "plt.xlabel('Airlines')\n",
    "plt.ylabel('Cancellation Percentage')\n",
    "plt.title('Cancellation Percentage for Different Airlines')"
   ]
  },
  {
   "cell_type": "code",
   "execution_count": null,
   "id": "db9b3bc0-2d1b-432e-83c1-0a3016ef6cb5",
   "metadata": {},
   "outputs": [],
   "source": [
    "ax = df.plot(kind='pie',\n",
    "             x='AIRLINE',\n",
    "             y='CANCELLED_PERCENT',\n",
    "             labels = df['AIRLINE'],\n",
    "             autopct = '%.0f%%',\n",
    "             legend=False\n",
    ")\n",
    "ax.get_yaxis().set_visible(False)\n",
    "plt.xlabel('Airlines')\n",
    "plt.title('Cancellation Percentage for Different Airlines')"
   ]
  },
  {
   "cell_type": "code",
   "execution_count": null,
   "id": "4d6a68fc-fa17-4d90-8489-5ef81578aed4",
   "metadata": {},
   "outputs": [],
   "source": [
    "df_flights_day_of_week = conn.execute('''\n",
    "  SELECT\n",
    "    day_of_week,\n",
    "    origin_airport,\n",
    "    destination_airport,\n",
    "    COUNT(*) AS flight_count\n",
    "  FROM\n",
    "    flights\n",
    "  WHERE\n",
    "    CANCELLED = 0 -- Exclude cancelled flights\n",
    "  GROUP BY\n",
    "    day_of_week,\n",
    "    origin_airport,\n",
    "    destination_airport\n",
    "  ORDER BY\n",
    "    day_of_week,\n",
    "    origin_airport,\n",
    "    destination_airport;\n",
    "''').df()\n",
    "df_flights_day_of_week"
   ]
  },
  {
   "cell_type": "code",
   "execution_count": null,
   "id": "53cf0cda-8ada-4b60-8527-b8ceff899ad1",
   "metadata": {},
   "outputs": [],
   "source": [
    "conn.execute('''\n",
    "  SELECT \n",
    "    YEAR, MONTH, DAY, ORIGIN_AIRPORT, DESTINATION_AIRPORT\n",
    "  FROM flights\n",
    "  WHERE ORIGIN_AIRPORT NOT SIMILAR TO '[A-Za-z]+'\n",
    "  OR DESTINATION_AIRPORT NOT SIMILAR TO '[A-Za-z]+';\n",
    "''').df()"
   ]
  },
  {
   "cell_type": "code",
   "execution_count": null,
   "id": "185b1234-a16b-430a-9473-006e998f7382",
   "metadata": {},
   "outputs": [],
   "source": [
    "from_airport = 'SFO'\n",
    "to_airport = 'LAX'\n",
    "\n",
    "df_flights_result = df_flights_day_of_week.query(\n",
    "    f'ORIGIN_AIRPORT==\"{from_airport}\" & DESTINATION_AIRPORT==\"{to_airport}\"')\n",
    "df_flights_result.plot(kind='bar',\n",
    "                       x = 'DAY_OF_WEEK',\n",
    "                       y = 'flight_count',\n",
    "                       legend = False)\n",
    "\n",
    "plt.xlabel('Day of Week')\n",
    "plt.ylabel('Number of Flights')\n",
    "plt.title(f'Number of Flights from {from_airport} to {to_airport}')\n",
    "\n",
    "plt.xticks(df_flights_result['DAY_OF_WEEK'] - 1,\n",
    "           ['Mon', 'Tue', 'Wed', 'Thu', 'Fri', 'Sat', 'Sun'])\n",
    "plt.show()"
   ]
  },
  {
   "cell_type": "code",
   "execution_count": null,
   "id": "8434a30a-18f0-456d-ab5a-a463c3bae87e",
   "metadata": {},
   "outputs": [],
   "source": [
    "df_flights_weekday = conn.execute('''\n",
    "with t1 as (\n",
    "  SELECT\n",
    "    day_of_week,\n",
    "    origin_airport,\n",
    "    destination_airport,\n",
    "    COUNT(*) AS flight_count_per_weekday\n",
    "  FROM\n",
    "    flights\n",
    "  WHERE\n",
    "    CANCELLED = 0 -- Exclude cancelled flights\n",
    "  GROUP BY\n",
    "    day_of_week,\n",
    "    origin_airport,\n",
    "    destination_airport\n",
    "  ORDER BY\n",
    "    day_of_week,\n",
    "    origin_airport,\n",
    "  destination_airport\n",
    "),\n",
    "t2 as (\n",
    "  SELECT\n",
    "    origin_airport,\n",
    "    destination_airport,\n",
    "    count(*) as total_flight_count\n",
    "  FROM\n",
    "    flights\n",
    "  WHERE\n",
    "    CANCELLED = 0 -- Exclude cancelled flights\n",
    "  GROUP BY\n",
    "    origin_airport,\n",
    "    destination_airport\n",
    ")\n",
    "SELECT\n",
    "  t1.origin_airport,\n",
    "  t1.destination_airport,\n",
    "  t1.day_of_week,\n",
    "  t2.total_flight_count,\n",
    "  100. * (t1.flight_count_per_weekday / t2.total_flight_count) as\n",
    "  percent_flights_on_weekday\n",
    "FROM t1\n",
    "JOIN t2\n",
    "ON\n",
    "  t1.origin_airport = t2.origin_airport AND\n",
    "  t1.destination_airport = t2.destination_airport\n",
    "''').df()\n",
    "df_flights_weekday"
   ]
  },
  {
   "cell_type": "code",
   "execution_count": null,
   "id": "e4629f4b-30e9-4fc8-84bb-c231306dca68",
   "metadata": {},
   "outputs": [],
   "source": [
    "from_airport = 'SFO'\n",
    "to_airport = 'LAX'\n",
    "\n",
    "# step 1: Filter the DataFrame for SFO to LAX\n",
    "sfo_to_las_flights = df_flights_weekday.query(\n",
    "f'ORIGIN_AIRPORT==\"{from_airport}\" & DESTINATION_AIRPORT==\"{to_airport}\"')\n",
    "\n",
    "# step 2: Plotting\n",
    "plt.figure(figsize=(10, 6))\n",
    "plt.bar(sfo_to_las_flights['DAY_OF_WEEK'],\n",
    "        sfo_to_las_flights['percent_flights_on_weekday'],\n",
    "        color='skyblue')\n",
    "\n",
    "plt.xticks(sfo_to_las_flights['DAY_OF_WEEK'].sort_values(),\n",
    "           ['Mon', 'Tue', 'Wed', 'Thu', 'Fri', 'Sat', 'Sun'])\n",
    "plt.title(f'Percentage of Flights from {from_airport} ' + \n",
    "          f'to {to_airport} by Day of the Week')\n",
    "\n",
    "plt.xlabel('Day of the Week')\n",
    "plt.ylabel('Percentage of Flights')\n",
    "plt.xticks(rotation=45)\n",
    "plt.grid(axis='y')"
   ]
  },
  {
   "cell_type": "code",
   "execution_count": null,
   "id": "ff3d6b1a-ad02-47d1-8fc1-537021fcaae0",
   "metadata": {},
   "outputs": [],
   "source": [
    "df_delays_by_week = conn.execute('''\n",
    "SELECT\n",
    "  DAY_OF_WEEK,\n",
    "CASE\n",
    "  WHEN SCHEDULED_DEPARTURE BETWEEN '0000' AND '0559' THEN '00:00-06:00'\n",
    "  WHEN SCHEDULED_DEPARTURE BETWEEN '0600' AND '1159' THEN '06:00-12:00'\n",
    "  WHEN SCHEDULED_DEPARTURE BETWEEN '1200' AND '1759' THEN '12:00-18:00'\n",
    "  WHEN SCHEDULED_DEPARTURE BETWEEN '1800' AND '2400' THEN '18:00-24:00'\n",
    "ELSE 'Other'\n",
    "  END AS DEPARTURE_TIME_INTERVAL,\n",
    "  AVG(ARRIVAL_DELAY) AS AVG_ARRIVAL_DELAY\n",
    "FROM\n",
    "  flights\n",
    "WHERE\n",
    "  ARRIVAL_DELAY > 0\n",
    "GROUP BY\n",
    "  DAY_OF_WEEK,\n",
    "CASE\n",
    "  WHEN SCHEDULED_DEPARTURE BETWEEN '0000' AND '0559' THEN '00:00-06:00'\n",
    "  WHEN SCHEDULED_DEPARTURE BETWEEN '0600' AND '1159' THEN '06:00-12:00'\n",
    "  WHEN SCHEDULED_DEPARTURE BETWEEN '1200' AND '1759' THEN '12:00-18:00'\n",
    "  WHEN SCHEDULED_DEPARTURE BETWEEN '1800' AND '2400' THEN '18:00-24:00'\n",
    "ELSE 'Other'\n",
    "END\n",
    "ORDER BY\n",
    "  DAY_OF_WEEK, DEPARTURE_TIME_INTERVAL;\n",
    "''').df()\n",
    "df_delays_by_week"
   ]
  },
  {
   "cell_type": "code",
   "execution_count": null,
   "id": "3a3a6834-3a57-4ce9-9269-8632ff3523e7",
   "metadata": {},
   "outputs": [],
   "source": [
    "df_delays_by_week_pivot = df_delays_by_week.pivot(\n",
    "index = 'DAY_OF_WEEK',\n",
    "columns = 'DEPARTURE_TIME_INTERVAL',\n",
    "values = 'AVG_ARRIVAL_DELAY')\n",
    "df_delays_by_week_pivot"
   ]
  },
  {
   "cell_type": "code",
   "execution_count": null,
   "id": "a77b8efe-bf12-4a3c-a95e-d0901ea9a6fa",
   "metadata": {},
   "outputs": [],
   "source": [
    "# plotting a bar chart\n",
    "df_delays_by_week_pivot.plot(kind='bar',\n",
    "                             stacked=False,\n",
    "figsize=(10, 6))\n",
    "\n",
    "# updating the x-ticks to show the days of the week\n",
    "days_of_week = ['Monday', 'Tuesday', 'Wednesday',\n",
    "                'Thursday', 'Friday', 'Saturday', 'Sunday']\n",
    "\n",
    "plt.xticks(ticks=range(len(days_of_week)), labels=days_of_week, rotation=0)\n",
    "plt.title('Average Arrival Delay by Departure Time and Day of Week')\n",
    "plt.xlabel('Day of Week')\n",
    "plt.ylabel('Average Arrival Delay (minutes)')\n",
    "plt.legend(title='Departure Time Interval', bbox_to_anchor=(1, 1))\n",
    "plt.tight_layout() # Adjust layout to avoid clipping of labels\n",
    "plt.show()"
   ]
  },
  {
   "cell_type": "code",
   "execution_count": null,
   "id": "70d6de1d-bf36-4097-9760-4f867725b338",
   "metadata": {},
   "outputs": [],
   "source": [
    "df_most_delays = conn.execute('''\n",
    "  SELECT\n",
    "    count(airlines.AIRLINE) as Count,\n",
    "    airlines.AIRLINE\n",
    "  FROM flights, airlines\n",
    "  WHERE airlines.IATA_CODE = flights.AIRLINE AND flights.ARRIVAL_DELAY > 0\n",
    "  GROUP BY airlines.AIRLINE\n",
    "  ORDER BY COUNT DESC\n",
    "''').df()\n",
    "df_most_delays"
   ]
  },
  {
   "cell_type": "code",
   "execution_count": null,
   "id": "f1787a44-fcd5-4d68-8c46-29db301731cc",
   "metadata": {},
   "outputs": [],
   "source": [
    "df_percent_delay = conn.execute('''\n",
    "WITH flight_delays AS (\n",
    "  SELECT\n",
    "  AIRLINE,\n",
    "  1.0 * count(*) as TotalFlights,\n",
    "  1.0 * sum(case when ARRIVAL_DELAY > 0 then 1 else 0 end) as Delays,\n",
    "  (1.0 * sum(case when ARRIVAL_DELAY > 0 then 1 else 0 end) /\n",
    "  count(*)) * 100 as Percentage\n",
    "FROM flights\n",
    "GROUP BY AIRLINE\n",
    ")\n",
    "SELECT\n",
    "  flight_delays.Percentage,\n",
    "  airlines.IATA_CODE,\n",
    "  airlines.AIRLINE\n",
    "FROM flight_delays\n",
    "  JOIN airlines ON airlines.IATA_CODE = flight_delays.AIRLINE\n",
    "ORDER BY flight_delays.Percentage DESC;\n",
    "''').df()"
   ]
  },
  {
   "cell_type": "code",
   "execution_count": null,
   "id": "69bb247a-1c53-4a80-9852-094b1d64eb4e",
   "metadata": {},
   "outputs": [],
   "source": [
    "df_percent_delay"
   ]
  },
  {
   "cell_type": "code",
   "execution_count": null,
   "id": "1170c4cb-8be4-4f85-a2cf-c425946d89f7",
   "metadata": {},
   "outputs": [],
   "source": [
    "plt.bar(df_percent_delay['AIRLINE'],\n",
    "df_percent_delay['Percentage'],\n",
    "        color='skyblue')\n",
    "\n",
    "plt.title('Percentage of Delayed Flights by Airline')\n",
    "plt.xlabel('Airlines')\n",
    "plt.ylabel('Percentage of Delayed Flights')\n",
    "plt.xticks(rotation = 90)\n",
    "plt.grid(axis='y')"
   ]
  },
  {
   "cell_type": "code",
   "execution_count": null,
   "id": "414fb578-4828-4e91-b38c-27fed5a3f65a",
   "metadata": {},
   "outputs": [],
   "source": [
    "df_percent_on_time = conn.execute('''\n",
    "WITH flight_delays AS (\n",
    "  SELECT\n",
    "    AIRLINE,\n",
    "    1.0 * count(*) as TotalFlights,\n",
    "    1.0 * sum(case when ARRIVAL_DELAY <= 0 then 1 else 0 end) as\n",
    "    OnTimeFlights,\n",
    "    (1.0 * sum(case when ARRIVAL_DELAY <= 0 then 1 else 0 end) /\n",
    "    count(*)) * 100 as Percentage\n",
    "  FROM flights\n",
    "  GROUP BY AIRLINE\n",
    ")\n",
    "SELECT\n",
    "  flight_delays.Percentage,\n",
    "  airlines.IATA_CODE,\n",
    "  airlines.AIRLINE\n",
    "FROM flight_delays\n",
    "JOIN airlines ON airlines.IATA_CODE = flight_delays.AIRLINE\n",
    "ORDER BY flight_delays.Percentage DESC;\n",
    "''').df()\n",
    "df_percent_on_time"
   ]
  },
  {
   "cell_type": "code",
   "execution_count": null,
   "id": "1d8eb7bb-c0de-4145-8199-5d412dacabcf",
   "metadata": {},
   "outputs": [],
   "source": [
    "plt.bar(df_percent_on_time['AIRLINE'],\n",
    "df_percent_on_time['Percentage'],\n",
    "        color='skyblue')\n",
    "\n",
    "plt.title('Percentage of Ontime Flights by Airline')\n",
    "plt.xlabel('Airlines')\n",
    "plt.ylabel('Percentage of Flights Ontime')\n",
    "plt.xticks(rotation = 90)\n",
    "plt.grid(axis='y')"
   ]
  },
  {
   "cell_type": "code",
   "execution_count": null,
   "id": "ad7c60d0-8d12-4aa5-8e29-597f86cf9feb",
   "metadata": {},
   "outputs": [],
   "source": []
  }
 ],
 "metadata": {
  "kernelspec": {
   "display_name": "Python 3 (ipykernel)",
   "language": "python",
   "name": "python3"
  },
  "language_info": {
   "codemirror_mode": {
    "name": "ipython",
    "version": 3
   },
   "file_extension": ".py",
   "mimetype": "text/x-python",
   "name": "python",
   "nbconvert_exporter": "python",
   "pygments_lexer": "ipython3",
   "version": "3.12.2"
  }
 },
 "nbformat": 4,
 "nbformat_minor": 5
}
