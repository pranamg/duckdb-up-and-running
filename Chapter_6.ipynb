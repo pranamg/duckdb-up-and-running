{
 "cells": [
  {
   "cell_type": "code",
   "execution_count": null,
   "id": "ebc34bf5-f342-4d1d-88c3-e71d59cf45ee",
   "metadata": {},
   "outputs": [],
   "source": [
    "import duckdb\n",
    "\n",
    "conn = duckdb.connect()\n",
    "conn.execute('''\n",
    "  SELECT \n",
    "  *\n",
    "  FROM read_json_auto('json1.json')\n",
    "''').df()"
   ]
  },
  {
   "cell_type": "code",
   "execution_count": null,
   "id": "2e91bd6f-1b0f-4d10-9401-74ad34bc0bd1",
   "metadata": {},
   "outputs": [],
   "source": [
    "conn.execute('''\n",
    "  CREATE TABLE People\n",
    "  as\n",
    "  FROM 'json1.json'\n",
    "''')"
   ]
  },
  {
   "cell_type": "code",
   "execution_count": null,
   "id": "29ee78ce-80dc-4674-b87e-bfc5280601d0",
   "metadata": {},
   "outputs": [],
   "source": [
    "conn.execute('''\n",
    "  SELECT \n",
    "  *\n",
    "  FROM read_json_auto('json1.json', records = false)\n",
    "''').df()"
   ]
  },
  {
   "cell_type": "code",
   "execution_count": null,
   "id": "e89c8ae6-d056-497e-a324-729547610853",
   "metadata": {},
   "outputs": [],
   "source": [
    "conn.execute('''\n",
    "  SELECT\n",
    "    name, email\n",
    "  FROM read_json_auto('json1.json')\n",
    "''').df()"
   ]
  },
  {
   "cell_type": "code",
   "execution_count": null,
   "id": "81d38749-0dc0-4930-86c1-c04120b04b8f",
   "metadata": {},
   "outputs": [],
   "source": [
    "conn.execute('''\n",
    "  SELECT \n",
    "    *\n",
    "  FROM read_json('json1.json',\n",
    "                 format = 'auto',\n",
    "                 columns = {\n",
    "                   id:'INTEGER',\n",
    "                   name:'STRING',\n",
    "                   weight:'FLOAT'\n",
    "                 })\n",
    "''').df()"
   ]
  },
  {
   "cell_type": "code",
   "execution_count": null,
   "id": "e4055327-f7c7-4333-beae-517a81a69146",
   "metadata": {},
   "outputs": [],
   "source": [
    "conn.execute('''\n",
    "  SELECT\n",
    "    *\n",
    "  FROM read_json('json1.json',\n",
    "                 format = 'auto')\n",
    "''').df()"
   ]
  },
  {
   "cell_type": "code",
   "execution_count": null,
   "id": "bf9c4ef9-91de-46ff-baa9-2b1e08e3f940",
   "metadata": {},
   "outputs": [],
   "source": [
    "conn.execute('''\n",
    "  SELECT\n",
    "    *\n",
    "  FROM read_json('json1_a.json',\n",
    "                 format = 'newline_delimited',\n",
    "                 columns = {\n",
    "                   id:'INTEGER',\n",
    "                   name:'STRING',\n",
    "                   weight:'FLOAT'\n",
    "                })\n",
    "''').df()"
   ]
  },
  {
   "cell_type": "code",
   "execution_count": null,
   "id": "b36c141b-973c-4034-9dc8-4a95833a0d1a",
   "metadata": {},
   "outputs": [],
   "source": [
    "conn.execute('''\n",
    "  SELECT\n",
    "    *\n",
    "  FROM read_ndjson_auto('json1_a.json',\n",
    "                        columns = {\n",
    "                          id:'INTEGER',\n",
    "                          name:'STRING',\n",
    "                          weight:'FLOAT'\n",
    "                        })\n",
    "''').df()"
   ]
  },
  {
   "cell_type": "code",
   "execution_count": null,
   "id": "f8067c9d-1029-4705-9e61-43d5ec4de189",
   "metadata": {},
   "outputs": [],
   "source": [
    "conn.execute('''\n",
    "  SELECT\n",
    "    *\n",
    "  FROM read_json('json2.json')\n",
    "''').df()"
   ]
  },
  {
   "cell_type": "code",
   "execution_count": null,
   "id": "0214c3a7-b134-4eb9-8d99-22f60a320e65",
   "metadata": {},
   "outputs": [],
   "source": [
    "conn.execute('''\n",
    "  SELECT\n",
    "    id,\n",
    "    name,\n",
    "    address['line1'] as line1,\n",
    "    address['line2'] as line2,\n",
    "    address['state'] as state,\n",
    "    address['zip'] as zip,\n",
    "    email,\n",
    "    weight\n",
    "  FROM read_json('json2.json')\n",
    "''').df()"
   ]
  },
  {
   "cell_type": "code",
   "execution_count": null,
   "id": "d2df0c5e-f66d-42a4-82ce-49b1dfe303c6",
   "metadata": {},
   "outputs": [],
   "source": [
    "conn.execute('''\n",
    "  SELECT\n",
    "    address['line1'] as line1,\n",
    "    address['line2'] as line2,\n",
    "    address['location']['state'] as state,\n",
    "    address['location']['city'] as city,\n",
    "    address['location']['zip'] as zip,\n",
    "    email,\n",
    "    weight\n",
    "  FROM read_json('json2_a.json')\n",
    "''').df()"
   ]
  },
  {
   "cell_type": "code",
   "execution_count": null,
   "id": "bd76d28b-c077-4549-a85b-29a338789232",
   "metadata": {},
   "outputs": [],
   "source": [
    "conn.execute('''\n",
    "  SELECT \n",
    "    *\n",
    "  FROM read_json('json3.json')\n",
    "''').df()"
   ]
  },
  {
   "cell_type": "code",
   "execution_count": null,
   "id": "6733951e-c0e0-475c-b47a-866177cfb48c",
   "metadata": {},
   "outputs": [],
   "source": [
    "conn.execute('''\n",
    "  SELECT unnest(people) p\n",
    "    FROM read_json('json3.json')\n",
    "''').df()"
   ]
  },
  {
   "cell_type": "code",
   "execution_count": null,
   "id": "7affa94f-10aa-47b2-b0a9-05a8146e9a3f",
   "metadata": {},
   "outputs": [],
   "source": [
    "conn.execute('''\n",
    "  SELECT\n",
    "    p.id,\n",
    "    p.name,\n",
    "    p.address['line1'] as line1,\n",
    "    p.address['line2'] as line2,\n",
    "    p.address['state'] as state,\n",
    "    p.address['zip'] as zip,\n",
    "    p.email,\n",
    "    p.weight\n",
    "  FROM\n",
    "    (\n",
    "      SELECT unnest(people) p\n",
    "      FROM read_json('json3.json')\n",
    "    )\n",
    "''').df()"
   ]
  },
  {
   "cell_type": "code",
   "execution_count": null,
   "id": "efb7cc37-fcef-43b5-a512-115b5d0c8c91",
   "metadata": {},
   "outputs": [],
   "source": [
    "conn.execute('''\n",
    "  SELECT\n",
    "    p['id'],\n",
    "    p['name'],\n",
    "    p['address']['line1'] as line1,\n",
    "    p['address']['line2'] as line2,\n",
    "    p['address']['state'] as state,\n",
    "    p['address']['zip'] as zip,\n",
    "    p['email'],\n",
    "    p['weight']\n",
    "  FROM\n",
    "    (\n",
    "    SELECT unnest(people) p\n",
    "    FROM read_json('json3.json')\n",
    "    )\n",
    "''').df()"
   ]
  },
  {
   "cell_type": "code",
   "execution_count": null,
   "id": "91a3b0c4-51cc-47e4-9a7f-9a42cf1c812d",
   "metadata": {},
   "outputs": [],
   "source": [
    "conn.execute('''\n",
    "  SELECT\n",
    "    *\n",
    "  FROM read_json(['json4.json','json5.json'])\n",
    "''').df()"
   ]
  },
  {
   "cell_type": "code",
   "execution_count": null,
   "id": "3c7a24ad-9a3e-4fce-9603-3ac6fbe97afe",
   "metadata": {},
   "outputs": [],
   "source": [
    "conn.execute('''\n",
    "  SELECT\n",
    "    *\n",
    "  FROM read_json('json*.json')\n",
    "''').df()"
   ]
  },
  {
   "cell_type": "code",
   "execution_count": null,
   "id": "2f6beca7-559e-42f3-99fd-939a69e6bd72",
   "metadata": {},
   "outputs": [],
   "source": [
    "conn.execute('''\n",
    "  SELECT\n",
    "    *\n",
    "  FROM read_json('json?.json')\n",
    "''').df()"
   ]
  },
  {
   "cell_type": "code",
   "execution_count": null,
   "id": "8887bafd-9ef8-4149-abe8-6cfcddb93fcf",
   "metadata": {},
   "outputs": [],
   "source": [
    "conn = duckdb.connect()\n",
    "conn.execute('''\n",
    "  CREATE TABLE people (id INT, name STRING, address STRING,\n",
    "                       email STRING, weight FLOAT);\n",
    "  COPY people FROM 'json1.json' (FORMAT JSON, AUTO_DETECT true);\n",
    "  SELECT * FROM people;\n",
    "''').df()"
   ]
  },
  {
   "cell_type": "code",
   "execution_count": null,
   "id": "79aba2ca-7d7c-4b0b-8157-5634777b4823",
   "metadata": {},
   "outputs": [],
   "source": [
    "conn = duckdb.connect()\n",
    "conn.execute('''\n",
    "  CREATE OR REPLACE TABLE people\n",
    "    as\n",
    "  SELECT\n",
    "    name,\n",
    "    weight\n",
    "  FROM read_ndjson_auto('json1_a.json')\n",
    "''')\n",
    "display(conn.execute('SELECT * FROM people').df())"
   ]
  },
  {
   "cell_type": "code",
   "execution_count": null,
   "id": "9d1a98ae-adcb-4cc4-b318-5a768edef93f",
   "metadata": {},
   "outputs": [],
   "source": [
    "conn.execute('''\n",
    "  COPY people\n",
    "    TO\n",
    "  'people.json' (FORMAT JSON);\n",
    "''')"
   ]
  },
  {
   "cell_type": "code",
   "execution_count": null,
   "id": "34a2310d-572e-4d24-873e-f921dc992af3",
   "metadata": {},
   "outputs": [],
   "source": [
    "conn.execute('''\n",
    "  COPY people\n",
    "    TO\n",
    "  'people_array.json' (ARRAY TRUE);\n",
    "''')"
   ]
  },
  {
   "cell_type": "code",
   "execution_count": null,
   "id": "b052e9db-efd0-4dbf-ba26-a0763a7bbf22",
   "metadata": {},
   "outputs": [],
   "source": []
  }
 ],
 "metadata": {
  "kernelspec": {
   "display_name": "Python 3 (ipykernel)",
   "language": "python",
   "name": "python3"
  },
  "language_info": {
   "codemirror_mode": {
    "name": "ipython",
    "version": 3
   },
   "file_extension": ".py",
   "mimetype": "text/x-python",
   "name": "python",
   "nbconvert_exporter": "python",
   "pygments_lexer": "ipython3",
   "version": "3.12.2"
  }
 },
 "nbformat": 4,
 "nbformat_minor": 5
}
